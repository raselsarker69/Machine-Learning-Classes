{
 "cells": [
  {
   "cell_type": "code",
   "execution_count": 10,
   "id": "b6bb45b9-f388-454f-8415-c2b0cd04d342",
   "metadata": {},
   "outputs": [],
   "source": [
    "import numpy as np"
   ]
  },
  {
   "cell_type": "code",
   "execution_count": 9,
   "id": "5bf7b109-a131-4589-908c-19fdd4e43367",
   "metadata": {},
   "outputs": [
    {
     "name": "stdin",
     "output_type": "stream",
     "text": [
      "Enter your age:  22\n",
      "Enter the number of neighbors:  3\n"
     ]
    },
    {
     "name": "stdout",
     "output_type": "stream",
     "text": [
      "Predicted income 22: 60.333333333333336\n"
     ]
    }
   ],
   "source": [
    "data = {\n",
    "    'age' : [21, 20, 22, 22, 23, 21, 25, 30, 31],\n",
    "    'income' : [60, 55, 60, 61, 65, 62, 65, 70, 68]\n",
    "}\n",
    "\n",
    "age = np.array([21, 20, 22, 22, 23, 21, 25, 30, 31])\n",
    "income = np.array([60, 55, 60, 61, 65, 62, 65, 70, 68])\n",
    "\n",
    "def euclidean_distance(age1, age2):\n",
    "    return np.sqrt((age1 - age2) ** 2)\n",
    "\n",
    "\n",
    "def knn_regression(age, income, query_age, k):\n",
    "    distances = []  \n",
    "\n",
    "    \n",
    "    for i in range(len(age)):\n",
    "        dist = euclidean_distance(age[i], query_age)  \n",
    "        distances.append((dist, income[i])) \n",
    "\n",
    "    distances = sorted(distances)\n",
    "    nearest_neighbors = distances[:k]   # nearest neighbors search \n",
    "    avg_income = np.mean([neighbor[1] for neighbor in nearest_neighbors])\n",
    "    \n",
    "    return avg_income\n",
    "\n",
    "\n",
    "query_age = int(input(\"Enter your age: \"))\n",
    "k = int(input(\"Enter the number of neighbors: \"))\n",
    "\n",
    "pred_income = knn_regression(age, income, query_age, k)\n",
    "print(f\"Predicted income {query_age}: {pred_income}\")"
   ]
  },
  {
   "cell_type": "code",
   "execution_count": null,
   "id": "a3449186-36cf-475d-8f52-e7a30fb0415b",
   "metadata": {},
   "outputs": [],
   "source": []
  }
 ],
 "metadata": {
  "kernelspec": {
   "display_name": "Python 3 (ipykernel)",
   "language": "python",
   "name": "python3"
  },
  "language_info": {
   "codemirror_mode": {
    "name": "ipython",
    "version": 3
   },
   "file_extension": ".py",
   "mimetype": "text/x-python",
   "name": "python",
   "nbconvert_exporter": "python",
   "pygments_lexer": "ipython3",
   "version": "3.11.8"
  }
 },
 "nbformat": 4,
 "nbformat_minor": 5
}

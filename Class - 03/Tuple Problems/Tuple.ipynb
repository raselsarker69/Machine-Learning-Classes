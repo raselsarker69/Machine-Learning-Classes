{
 "cells": [
  {
   "cell_type": "markdown",
   "id": "1e5e691d-854c-4e20-ac08-d7bd3d1e8cd4",
   "metadata": {},
   "source": [
    "# Introduction to Tuple"
   ]
  },
  {
   "cell_type": "markdown",
   "id": "7488134f-9000-4947-99e5-6f0a3373d0fe",
   "metadata": {},
   "source": [
    "49. Tuple Concatenation: Write a Python program to concatenate two tuples and create a new tuple."
   ]
  },
  {
   "cell_type": "code",
   "execution_count": 1,
   "id": "5305ed7f-9453-4046-b4b8-dba83a8e4745",
   "metadata": {},
   "outputs": [
    {
     "name": "stdout",
     "output_type": "stream",
     "text": [
      "(1, 2, 3, 4, 5, 6, 7, 8, 9, 10, 11, 12, 13, 14)\n"
     ]
    }
   ],
   "source": [
    "tuple1 = (1,2, 3, 4, 5, 6, 7)\n",
    "tuple2 = (8, 9, 10, 11, 12, 13, 14)\n",
    "\n",
    "new_tuple = (tuple1 + tuple2)\n",
    "print(new_tuple)"
   ]
  },
  {
   "cell_type": "markdown",
   "id": "9574c040-b8c8-4017-adf1-c282c9c98ee4",
   "metadata": {},
   "source": [
    "50. Tuple Unpacking: Given a tuple with three elements (x, y, z), write a Python program to unpack the tuple and assign the values to three variables."
   ]
  },
  {
   "cell_type": "code",
   "execution_count": 4,
   "id": "42770264-c0eb-40aa-8d9e-c19be808a5c8",
   "metadata": {},
   "outputs": [
    {
     "name": "stdout",
     "output_type": "stream",
     "text": [
      "Study mart\n",
      "5000\n",
      "Machine learning\n"
     ]
    }
   ],
   "source": [
    "a = (\"Study mart\", 5000, \"Machine learning\")  \n",
    " \n",
    "(college, student, University) = a  \n",
    " \n",
    "print(college)\n",
    "print(student)\n",
    "print(University)"
   ]
  },
  {
   "cell_type": "markdown",
   "id": "248882e9-8bf8-4da5-b937-8153b34532f4",
   "metadata": {},
   "source": [
    "51. Tuple Sorting: Write a Python program to sort a tuple of integers in ascending order."
   ]
  },
  {
   "cell_type": "code",
   "execution_count": 7,
   "id": "1e61fd1a-db7a-4854-8094-8253adbabde8",
   "metadata": {},
   "outputs": [
    {
     "name": "stdout",
     "output_type": "stream",
     "text": [
      "[8, 9, 10, 11, 12, 13, 14]\n"
     ]
    }
   ],
   "source": [
    "tp = (10, 11, 12, 8, 9, 13, 14)\n",
    "result = sorted(tp)\n",
    "print(result)"
   ]
  },
  {
   "cell_type": "markdown",
   "id": "3fbf7ba7-1b76-4212-ac2c-22dcebd6e95e",
   "metadata": {},
   "source": [
    "52. Tuple Frequency Count: Given a tuple containing various elements, write a Python program to count the frequency of a specific element in the tuple."
   ]
  },
  {
   "cell_type": "code",
   "execution_count": 8,
   "id": "2a6879ff-f949-41e3-a64b-7fa82ca2b567",
   "metadata": {},
   "outputs": [
    {
     "name": "stdout",
     "output_type": "stream",
     "text": [
      "2\n"
     ]
    }
   ],
   "source": [
    "vowels = ('a', 'e', 'i', 'o', 'i', 'u')\n",
    "\n",
    "count = vowels.count('i')\n",
    "print(count) "
   ]
  },
  {
   "cell_type": "markdown",
   "id": "85ee9f9f-9b16-4b39-8de0-2f8dfff41cae",
   "metadata": {},
   "source": [
    "53. Tuple to List: Write a Python program to convert a tuple into a list. 54. Tuple Reversal: Write a Python program to reverse a tuple without using any built-in functions."
   ]
  },
  {
   "cell_type": "code",
   "execution_count": 10,
   "id": "5272f531-6de8-4479-9a53-9f2020c6a0c9",
   "metadata": {},
   "outputs": [
    {
     "name": "stdout",
     "output_type": "stream",
     "text": [
      "[1, 2, 3, 4, 5]\n"
     ]
    }
   ],
   "source": [
    "tup = (1, 2, 3, 4, 5)\n",
    "\n",
    "lst = list(tup)\n",
    "print(lst)"
   ]
  },
  {
   "cell_type": "markdown",
   "id": "7a7d8958-7d74-43f4-834a-94f1c47cbdca",
   "metadata": {},
   "source": [
    "54. Tuple Reversal: Write a Python program to reverse a tuple without using any built-in functions."
   ]
  },
  {
   "cell_type": "code",
   "execution_count": 14,
   "id": "fc5da1d2-89f2-408d-b3ad-8fb009cb8ee4",
   "metadata": {},
   "outputs": [
    {
     "name": "stdout",
     "output_type": "stream",
     "text": [
      "(9, 8, 7, 6, 5, 4, 3, 2, 1)\n"
     ]
    }
   ],
   "source": [
    "def reverse(tup):\n",
    "    lst = list(tup)\n",
    "    \n",
    "    left = 0\n",
    "    right = len(lst) - 1\n",
    "    \n",
    "    while left < right:\n",
    "        # Swap the elements\n",
    "        temp = lst[left] \n",
    "        lst[left] = lst[right]\n",
    "        lst[right] = temp\n",
    "        \n",
    "        left += 1\n",
    "        right -= 1\n",
    "    \n",
    "    return tuple(lst)\n",
    "\n",
    "tup = (1, 2, 3, 4, 5, 6, 7, 8, 9)\n",
    "result = reverse(tup)\n",
    "print(result)"
   ]
  },
  {
   "cell_type": "markdown",
   "id": "10198029-9740-45bb-b2b8-da44101881a8",
   "metadata": {},
   "source": [
    "55. Tuple Slicing: Given a tuple, write a Python program to extract a slice of elements from it."
   ]
  },
  {
   "cell_type": "code",
   "execution_count": 16,
   "id": "fdfc1fb1-8aee-42f4-a43d-fb9b1bbc8e7a",
   "metadata": {},
   "outputs": [
    {
     "name": "stdout",
     "output_type": "stream",
     "text": [
      "(2, 5)\n"
     ]
    }
   ],
   "source": [
    "tup = (1, 2, 3, 4, 5)\n",
    "\n",
    "result = tup[1::3]\n",
    "print(result)"
   ]
  },
  {
   "cell_type": "markdown",
   "id": "8f8e141c-f7d0-4297-8532-4ef6a6c315b2",
   "metadata": {},
   "source": [
    "56. Tuple Operations: Given two tuples of integers, write a Python program to perform element-wise addition, subtraction, and multiplication and create new tuples for each operation."
   ]
  },
  {
   "cell_type": "code",
   "execution_count": null,
   "id": "373461e8-aac4-4fcc-ba01-33f887cbc153",
   "metadata": {},
   "outputs": [],
   "source": []
  }
 ],
 "metadata": {
  "kernelspec": {
   "display_name": "Python 3 (ipykernel)",
   "language": "python",
   "name": "python3"
  },
  "language_info": {
   "codemirror_mode": {
    "name": "ipython",
    "version": 3
   },
   "file_extension": ".py",
   "mimetype": "text/x-python",
   "name": "python",
   "nbconvert_exporter": "python",
   "pygments_lexer": "ipython3",
   "version": "3.11.8"
  }
 },
 "nbformat": 4,
 "nbformat_minor": 5
}

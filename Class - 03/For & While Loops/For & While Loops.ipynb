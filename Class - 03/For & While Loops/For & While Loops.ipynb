{
 "cells": [
  {
   "cell_type": "markdown",
   "id": "62537f15-db13-45a2-a7df-c17c507af082",
   "metadata": {},
   "source": [
    "# For & While Loops"
   ]
  },
  {
   "cell_type": "markdown",
   "id": "7217933f-470a-4b16-a93b-1aa62622b909",
   "metadata": {},
   "source": [
    "20. Sum of N Numbers: Write a Python program using a for loop to calculate the sum of the first N natural numbers, where N is taken as input from the user."
   ]
  },
  {
   "cell_type": "code",
   "execution_count": 7,
   "id": "20bd771d-189b-4307-bb8c-f3efe1452f4a",
   "metadata": {},
   "outputs": [
    {
     "name": "stdin",
     "output_type": "stream",
     "text": [
      "Enter a number:  3\n"
     ]
    },
    {
     "name": "stdout",
     "output_type": "stream",
     "text": [
      "6\n"
     ]
    }
   ],
   "source": [
    "def find_sum(num):\n",
    "    sum = 0\n",
    "\n",
    "    for i in range(1, num + 1):\n",
    "        sum += i \n",
    "        \n",
    "    return sum\n",
    "\n",
    "num = int(input(\"Enter a number: \"))\n",
    "result = find_sum(num)\n",
    "print(result)"
   ]
  },
  {
   "cell_type": "markdown",
   "id": "9fcd8c74-f0ff-4a9e-a62c-dffadf5cc964",
   "metadata": {},
   "source": [
    "21. Factorial Calculator: Write a Python program using a while loop to calculate the factorial of a given number N."
   ]
  },
  {
   "cell_type": "code",
   "execution_count": 11,
   "id": "c3777899-a424-47dd-9543-e4bdfba14130",
   "metadata": {},
   "outputs": [
    {
     "name": "stdin",
     "output_type": "stream",
     "text": [
      "Enter the number: 5\n"
     ]
    },
    {
     "name": "stdout",
     "output_type": "stream",
     "text": [
      "120\n"
     ]
    }
   ],
   "source": [
    "def factoral_calculator(n):\n",
    "    \n",
    "    fact = 1\n",
    "\n",
    "    for i in range(1, n + 1):\n",
    "        fact *= i\n",
    "\n",
    "    return fact\n",
    "\n",
    "n = int(input(\"Enter the number:\"))\n",
    "result = factoral_calculator(n)\n",
    "print(result)"
   ]
  },
  {
   "cell_type": "code",
   "execution_count": 13,
   "id": "3732f06a-5d96-4d73-bc26-054e02598dd9",
   "metadata": {},
   "outputs": [
    {
     "name": "stdin",
     "output_type": "stream",
     "text": [
      "Enter the number: 6\n"
     ]
    },
    {
     "name": "stdout",
     "output_type": "stream",
     "text": [
      "720\n"
     ]
    }
   ],
   "source": [
    "def factorial(n):\n",
    "    if n < 0:\n",
    "        return 0 \n",
    "    elif n == 0 or n == 1:\n",
    "        return 1  \n",
    "    else:\n",
    "        fact = 1\n",
    "        while n > 1:\n",
    "            fact *= n\n",
    "            n -= 1\n",
    "        return fact\n",
    "\n",
    "n = int(input(\"Enter the number:\"))\n",
    "result = factoral_calculator(n)\n",
    "print(result)"
   ]
  },
  {
   "cell_type": "markdown",
   "id": "036cf087-e12a-4301-bb1c-573a188933f0",
   "metadata": {},
   "source": [
    "22. Table of a Number: Write a Python program using a for loop to print the multiplication table of a given number N."
   ]
  },
  {
   "cell_type": "code",
   "execution_count": 14,
   "id": "9c9fff8f-cbb3-4940-9dde-710a79512123",
   "metadata": {},
   "outputs": [
    {
     "name": "stdin",
     "output_type": "stream",
     "text": [
      "Enter the number: 9\n"
     ]
    },
    {
     "name": "stdout",
     "output_type": "stream",
     "text": [
      "9 x 1 = 9\n",
      "9 x 2 = 18\n",
      "9 x 3 = 27\n",
      "9 x 4 = 36\n",
      "9 x 5 = 45\n",
      "9 x 6 = 54\n",
      "9 x 7 = 63\n",
      "9 x 8 = 72\n",
      "9 x 9 = 81\n",
      "9 x 10 = 90\n"
     ]
    }
   ],
   "source": [
    "num = int(input(\"Enter the number:\"))\n",
    "\n",
    "for i in range(1, 11):\n",
    "    print(num, 'x', i, '=', num*i)"
   ]
  },
  {
   "cell_type": "markdown",
   "id": "e3958d8a-da60-407e-9241-d4d4d858ffc7",
   "metadata": {},
   "source": [
    "23. Count Digits in a Number: Write a Python program using a while loop to count the number of digits in a given integer N."
   ]
  },
  {
   "cell_type": "code",
   "execution_count": 16,
   "id": "bc235b2a-3f5f-4de4-a4ea-52f506dd596b",
   "metadata": {},
   "outputs": [
    {
     "name": "stdin",
     "output_type": "stream",
     "text": [
      "Enter the number:  1233\n"
     ]
    },
    {
     "name": "stdout",
     "output_type": "stream",
     "text": [
      "4\n"
     ]
    }
   ],
   "source": [
    "def count_digits(n):\n",
    "    count = 0\n",
    "    while n != 0:\n",
    "        n //= 10 \n",
    "        count += 1  \n",
    "    return count\n",
    "\n",
    "n = int(input(\"Enter the number: \"))\n",
    "result = count_digits(n)\n",
    "print(result)"
   ]
  },
  {
   "cell_type": "markdown",
   "id": "94c5b9c7-073c-4e36-b415-70c5f4c69e67",
   "metadata": {},
   "source": [
    "24. Fibonacci Sequence: Write a Python program using a for loop to generate the Fibonacci sequence up to a given limit N."
   ]
  },
  {
   "cell_type": "code",
   "execution_count": 17,
   "id": "ecb56a18-1041-4dfc-90b6-30bef60ff178",
   "metadata": {},
   "outputs": [
    {
     "name": "stdin",
     "output_type": "stream",
     "text": [
      "Enter the number:  5\n"
     ]
    },
    {
     "name": "stdout",
     "output_type": "stream",
     "text": [
      "5\n"
     ]
    }
   ],
   "source": [
    "def fibonacci(n):\n",
    "    a, b = 0, 1\n",
    "    for i in range(2, n+1):\n",
    "           a, b = b, a + b\n",
    "    return b\n",
    "\n",
    "n = int(input(\"Enter the number: \"))\n",
    "result = fibonacci(n)\n",
    "print(result) "
   ]
  },
  {
   "cell_type": "markdown",
   "id": "4dc62582-b550-4686-885a-f9bf00e79775",
   "metadata": {},
   "source": [
    "25. Sum of Even Numbers: Write a Python program using a while loop to calculate the sum of all even numbers between 1 and N, where N is taken as input from the user."
   ]
  },
  {
   "cell_type": "code",
   "execution_count": 18,
   "id": "18f0cfa1-d413-4456-befe-89589133ed9f",
   "metadata": {},
   "outputs": [
    {
     "name": "stdin",
     "output_type": "stream",
     "text": [
      "Enter number:  5\n"
     ]
    },
    {
     "name": "stdout",
     "output_type": "stream",
     "text": [
      "The sum of all even numbers is 6.\n"
     ]
    }
   ],
   "source": [
    "def even_sum(n):\n",
    "    sum = 0\n",
    "    count = 2\n",
    "    while count <= n:\n",
    "        sum += count\n",
    "        count += 2\n",
    "    return sum\n",
    "\n",
    "n = int(input(\"Enter number: \"))\n",
    "result = even_sum(n)\n",
    "print(f'The sum of all even numbers is {result}.')"
   ]
  },
  {
   "cell_type": "markdown",
   "id": "5297fed9-c93d-4cfc-a482-cb583c69197a",
   "metadata": {},
   "source": [
    "26. Print Patterns: Write a Python program using nested for loops to print various patterns, such as a right-angled triangle, an inverted right-angled triangle, and so on."
   ]
  },
  {
   "cell_type": "code",
   "execution_count": 19,
   "id": "b93d6f22-ca58-4c64-b58e-11d1c85ee292",
   "metadata": {},
   "outputs": [
    {
     "name": "stdin",
     "output_type": "stream",
     "text": [
      "Enter the number of rows:  5\n"
     ]
    },
    {
     "name": "stdout",
     "output_type": "stream",
     "text": [
      "*\n",
      "**\n",
      "***\n",
      "****\n",
      "*****\n"
     ]
    }
   ],
   "source": [
    "def right_angled_triangle(n):\n",
    "    for i in range(1, n + 1):\n",
    "        for j in range(1, i + 1):\n",
    "            print(\"*\", end=\"\")\n",
    "        print()\n",
    "\n",
    "n = int(input(\"Enter the number of rows: \"))\n",
    "result = right_angled_triangle(n)\n",
    "print(result)"
   ]
  },
  {
   "cell_type": "code",
   "execution_count": 20,
   "id": "5e51ed69-0ec4-4245-8c88-91d7c0029dd5",
   "metadata": {},
   "outputs": [
    {
     "name": "stdin",
     "output_type": "stream",
     "text": [
      "Enter the number of rows:  5\n"
     ]
    },
    {
     "name": "stdout",
     "output_type": "stream",
     "text": [
      "*****\n",
      "****\n",
      "***\n",
      "**\n",
      "*\n"
     ]
    }
   ],
   "source": [
    "def inverted_right_angled_triangle(n):\n",
    "    for i in range(n, 0, -1):\n",
    "        for j in range(1, i + 1):\n",
    "            print(\"*\", end=\"\")\n",
    "        print()\n",
    "\n",
    "n = int(input(\"Enter the number of rows: \"))\n",
    "result = inverted_right_angled_triangle(n)\n",
    "print(result)"
   ]
  },
  {
   "cell_type": "code",
   "execution_count": 21,
   "id": "cb5bd1d7-616c-44be-bb1d-e384f3cb3ad6",
   "metadata": {},
   "outputs": [
    {
     "name": "stdin",
     "output_type": "stream",
     "text": [
      "Enter the number of rows:  5\n"
     ]
    },
    {
     "name": "stdout",
     "output_type": "stream",
     "text": [
      "*********\n",
      " *******\n",
      "  *****\n",
      "   ***\n",
      "    *\n"
     ]
    }
   ],
   "source": [
    "def inverted_pyramid_pattern(n):\n",
    "    for i in range(n, 0, -1):\n",
    "        for j in range(n - i):\n",
    "            print(\" \", end=\"\")\n",
    "        for k in range(2 * i - 1):\n",
    "            print(\"*\", end=\"\")\n",
    "        print()\n",
    "\n",
    "n = int(input(\"Enter the number of rows: \"))\n",
    "result = inverted_pyramid_pattern(n)\n",
    "print(result)"
   ]
  },
  {
   "cell_type": "code",
   "execution_count": 22,
   "id": "ec1393d9-7e3b-4f9e-a3eb-e3b26810e414",
   "metadata": {},
   "outputs": [
    {
     "name": "stdin",
     "output_type": "stream",
     "text": [
      "Enter the number of rows:  5\n"
     ]
    },
    {
     "name": "stdout",
     "output_type": "stream",
     "text": [
      "    *\n",
      "   ***\n",
      "  *****\n",
      " *******\n",
      "*********\n",
      " *******\n",
      "  *****\n",
      "   ***\n",
      "    *\n"
     ]
    }
   ],
   "source": [
    "def diamond_pattern(n):\n",
    "    # Upper diamond\n",
    "    for i in range(1, n + 1):\n",
    "        for j in range(n - i):\n",
    "            print(\" \", end=\"\")\n",
    "        for k in range(2 * i - 1):\n",
    "            print(\"*\", end=\"\")\n",
    "        print()\n",
    "\n",
    "     # Upper diamond\n",
    "    for i in range(n - 1, 0, -1):\n",
    "        for j in range(n - i):\n",
    "            print(\" \", end=\"\")\n",
    "        for k in range(2 * i - 1):\n",
    "            print(\"*\", end=\"\")\n",
    "        print()\n",
    "\n",
    "n = int(input(\"Enter the number of rows: \"))\n",
    "result = diamond_pattern(n)\n",
    "print(result)"
   ]
  },
  {
   "cell_type": "markdown",
   "id": "2e5bb793-a75e-4faf-8427-6f83927205a7",
   "metadata": {},
   "source": [
    "27. Prime Number Checker: Write a Python program using a while loop to check if a given number N is prime or not."
   ]
  },
  {
   "cell_type": "code",
   "execution_count": 24,
   "id": "31e57e7d-dbca-4552-bb87-95bd0d125584",
   "metadata": {},
   "outputs": [
    {
     "name": "stdin",
     "output_type": "stream",
     "text": [
      "Enter a number: 15\n"
     ]
    },
    {
     "name": "stdout",
     "output_type": "stream",
     "text": [
      "15 is not a prime number\n"
     ]
    }
   ],
   "source": [
    "num = int(input(\"Enter a number:\"))\n",
    "flag = False\n",
    "\n",
    "if num == 0 or num == 1:\n",
    "    print(num, \"is not a prime number\")\n",
    "else:\n",
    "    for i in range(2, num):\n",
    "        if (num % i) == 0:\n",
    "            flag = True\n",
    "            break\n",
    "\n",
    "if flag:\n",
    "    print(num, \"is not a prime number\")\n",
    "else:\n",
    "    print(num, \"is a prime number\")"
   ]
  },
  {
   "cell_type": "markdown",
   "id": "b42883d9-ac98-4acb-8fb2-a638a62a5f8d",
   "metadata": {},
   "source": [
    "\n",
    "29. Reverse String: Write a Python program using a while loop to reverse a given string."
   ]
  },
  {
   "cell_type": "code",
   "execution_count": 27,
   "id": "dd4853a8-a14d-4dab-abe9-130e03a35117",
   "metadata": {},
   "outputs": [
    {
     "name": "stdin",
     "output_type": "stream",
     "text": [
      "Enter a number:  12345\n"
     ]
    },
    {
     "name": "stdout",
     "output_type": "stream",
     "text": [
      "Reversed number is 54321.\n"
     ]
    }
   ],
   "source": [
    "num = int(input(\"Enter a number: \"))\n",
    "reverse = 0\n",
    "\n",
    "while num > 0:\n",
    "    n = num % 10  \n",
    "    reverse = reverse * 10 + n  \n",
    "    num = num // 10 \n",
    "\n",
    "print(f\"Reversed number is {reverse}.\")"
   ]
  },
  {
   "cell_type": "markdown",
   "id": "ab7bcba0-4923-4f9d-a9e5-03023329dad7",
   "metadata": {},
   "source": [
    "# Check String palindrome."
   ]
  },
  {
   "cell_type": "code",
   "execution_count": 28,
   "id": "fc763aeb-3c76-412f-9586-3c3f089cf41f",
   "metadata": {},
   "outputs": [
    {
     "name": "stdin",
     "output_type": "stream",
     "text": [
      "Enter a string:  madam\n"
     ]
    },
    {
     "name": "stdout",
     "output_type": "stream",
     "text": [
      "\"madam\" is a palindrome.\n"
     ]
    }
   ],
   "source": [
    "def is_palindrome(s):\n",
    "    l = 0\n",
    "    h = len(s) - 1\n",
    "\n",
    "    while l < h:\n",
    "        if s[l] != s[h]:\n",
    "            return False\n",
    "        l += 1\n",
    "        h -= 1\n",
    "    return True\n",
    "\n",
    "str = input('Enter a string: ')\n",
    "if is_palindrome(str):\n",
    "    print(f'\"{str}\" is a palindrome.')\n",
    "else:\n",
    "    print(f'\"{str}\" is not a palindrome.')"
   ]
  },
  {
   "cell_type": "code",
   "execution_count": 29,
   "id": "35565741-f912-41a8-85bf-053a2a7df3f9",
   "metadata": {},
   "outputs": [
    {
     "name": "stdin",
     "output_type": "stream",
     "text": [
      "Enter a string:  rasel\n"
     ]
    },
    {
     "name": "stdout",
     "output_type": "stream",
     "text": [
      "Reversed string is: lesar\n"
     ]
    }
   ],
   "source": [
    "string = input(\"Enter a string: \")\n",
    "new_string = \"\"\n",
    "\n",
    "for char in string:\n",
    "    new_string = char + reversed_string\n",
    "\n",
    "print(f\"Reversed string is: {new_string}\")"
   ]
  },
  {
   "cell_type": "code",
   "execution_count": null,
   "id": "081748f0-5fa0-4f75-b85a-975f91ce0ce8",
   "metadata": {},
   "outputs": [],
   "source": []
  }
 ],
 "metadata": {
  "kernelspec": {
   "display_name": "Python 3 (ipykernel)",
   "language": "python",
   "name": "python3"
  },
  "language_info": {
   "codemirror_mode": {
    "name": "ipython",
    "version": 3
   },
   "file_extension": ".py",
   "mimetype": "text/x-python",
   "name": "python",
   "nbconvert_exporter": "python",
   "pygments_lexer": "ipython3",
   "version": "3.11.8"
  }
 },
 "nbformat": 4,
 "nbformat_minor": 5
}

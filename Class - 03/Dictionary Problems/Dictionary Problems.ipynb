{
 "cells": [
  {
   "cell_type": "markdown",
   "id": "d299b2b2-7b59-41ef-ae33-a6c60838b61f",
   "metadata": {},
   "source": [
    "# Dictionary Problems."
   ]
  },
  {
   "cell_type": "markdown",
   "id": "aed634ef-1a4e-42de-9148-9fc8fa37c01e",
   "metadata": {},
   "source": [
    "77. Dictionary Manipulation: Given a dictionary with student names as keys and their corresponding scores as values, write a Python program to add a new student to the dictionary and update the score of an existing student."
   ]
  },
  {
   "cell_type": "code",
   "execution_count": 3,
   "id": "8bd4b220-adcc-4140-95bf-139a0cb12d9b",
   "metadata": {},
   "outputs": [
    {
     "name": "stdout",
     "output_type": "stream",
     "text": [
      "Student 'Rasel' updated score 88.\n",
      "Student 'Prio' updated score 90.\n",
      "Student 'Jan Pakhi' updated score 95.\n",
      "\n",
      "Updated students' scores:\n",
      "Rasel: 88\n",
      "Rafi: 78\n",
      "Prio: 90\n",
      "Kolija: 56\n",
      "Jan Pakhi: 95\n"
     ]
    }
   ],
   "source": [
    "students_scores = {\n",
    "    'Rasel': 85,\n",
    "    'Rafi': 78,\n",
    "    'Prio': 92,\n",
    "    'Kolija': 56,\n",
    "    'Jan Pakhi': 90\n",
    "}\n",
    "\n",
    "\n",
    "def update_student(name, score):\n",
    "    students_scores[name] = score\n",
    "    print(f\"Student '{name}' updated score {score}.\")\n",
    "\n",
    "\n",
    "update_student('Rasel', 88)\n",
    "update_student('Prio', 90)\n",
    "update_student('Jan Pakhi', 95)\n",
    "\n",
    "print(\"\\nUpdated students' scores:\")\n",
    "for student, score in students_scores.items():\n",
    "    print(f\"{student}: {score}\")"
   ]
  },
  {
   "cell_type": "markdown",
   "id": "2a4cb710-297c-423d-941f-eff87715fcd7",
   "metadata": {},
   "source": [
    "78. Dictionary Keys and Values: Write a Python program that takes a dictionary as input and prints all the keys and values in separate lines."
   ]
  },
  {
   "cell_type": "code",
   "execution_count": 5,
   "id": "48d68ee3-2b54-4bdf-9d5a-5cd058547915",
   "metadata": {},
   "outputs": [
    {
     "name": "stdout",
     "output_type": "stream",
     "text": [
      "keys :  dict_keys(['a', 'b', 'c', 'd', 'e'])\n",
      "values :  dict_values(['Khadar kaku', 'Takla murad', 'Brister Sumon', 'Polok', 'Hashu Apa'])\n"
     ]
    }
   ],
   "source": [
    "dict = {'a': 'Khadar kaku', 'b': 'Takla murad', 'c': 'Brister Sumon', 'd': 'Polok', 'e': 'Hashu Apa'}\n",
    "\n",
    "keys = dict.keys()\n",
    "values = dict.values()\n",
    " \n",
    "\n",
    "print(\"keys : \", str(keys))\n",
    "print(\"values : \", str(values))"
   ]
  },
  {
   "cell_type": "markdown",
   "id": "cd7c2a30-03c5-48e0-a8cd-ec31b1947b05",
   "metadata": {},
   "source": [
    "79. Dictionary Length: Write a Python program to calculate and print the number of key-value pairs in a given dictionary."
   ]
  },
  {
   "cell_type": "code",
   "execution_count": 8,
   "id": "0d530712-02ec-40c5-8ba8-b465e9c0e281",
   "metadata": {},
   "outputs": [
    {
     "name": "stdout",
     "output_type": "stream",
     "text": [
      "Number of keys: 5\n",
      "Number of values: 5\n"
     ]
    }
   ],
   "source": [
    "dict = {'a': 'Khadar kaku', 'b': 'Takla murad', 'c': 'Brister Sumon', 'd': 'Polok', 'e': 'Hashu Apa'}\n",
    "\n",
    "\n",
    "keys_count = len(dict.keys())\n",
    "values_count = len(dict.values())\n",
    "\n",
    "\n",
    "print(\"Number of keys:\", keys_count)\n",
    "print(\"Number of values:\", values_count)"
   ]
  },
  {
   "cell_type": "markdown",
   "id": "e2461264-b9ab-4de9-9af3-ef985af6eae0",
   "metadata": {},
   "source": [
    "80. Dictionary Value Search: Given a dictionary of items and their prices, write a Python program to search for an item based on its price and print the item’s name."
   ]
  },
  {
   "cell_type": "code",
   "execution_count": 12,
   "id": "2e4f3d01-3381-4f56-ace5-ece7a8b49655",
   "metadata": {},
   "outputs": [
    {
     "name": "stdout",
     "output_type": "stream",
     "text": [
      "The item with price 50 is: Apple\n"
     ]
    }
   ],
   "source": [
    "Items_with_price = {\n",
    "    'Apple': 50,\n",
    "    'Banana': 60,\n",
    "    'Grapes': 70,\n",
    "    'Kolija': 80,\n",
    "    'Badam': 90\n",
    "}\n",
    "\n",
    "def find_items(price):\n",
    "    for items, item_price  in Items_price.items():\n",
    "        if item_price == price:\n",
    "            return items\n",
    "    return 'items not found'\n",
    "\n",
    "\n",
    "item_price = 50\n",
    "item_name = find_items(price)\n",
    "print(f\"The item with price {price} is: {item_name}\")     "
   ]
  },
  {
   "cell_type": "markdown",
   "id": "d96b2db4-5d46-4053-8fae-d8ca06d3403b",
   "metadata": {},
   "source": [
    "81. Dictionary Merging: Given two dictionaries, write a Python program to merge them into a single dictionary and print the result."
   ]
  },
  {
   "cell_type": "code",
   "execution_count": 17,
   "id": "a7ade008-e6c3-4058-b848-30b4c71b314b",
   "metadata": {},
   "outputs": [
    {
     "name": "stdout",
     "output_type": "stream",
     "text": [
      "{'a': 'Khadar kaku', 'b': 'Takla murad', 'c': 'Brister Sumon', 'd': 'Polok', 'e': 'Hashu Apa', 'f': 'Dipu moni', 'g': 'Hasan mahmud', 'h': 'Salman f', 'i': 'Dhola manik', 'j': 'Hawoun uncle'}\n"
     ]
    }
   ],
   "source": [
    "def Merge(dict1, dict2):\n",
    "    merged_dict = dict1.copy()\n",
    "    merged_dict.update(dict2)\n",
    "    return merged_dict\n",
    "\n",
    "dict1 = {'a': 'Khadar kaku', 'b': 'Takla murad', 'c': 'Brister Sumon', 'd': 'Polok', 'e': 'Hashu Apa'}\n",
    "dict2 = {'f': 'Dipu moni', 'g': 'Hasan mahmud', 'h': 'Salman f', 'i': 'Dhola manik', 'j': 'Hawoun uncle'}\n",
    "\n",
    "result = Merge(dict1, dict2)\n",
    "print(result)"
   ]
  },
  {
   "cell_type": "markdown",
   "id": "780ef286-ab00-455a-a88e-190241210207",
   "metadata": {},
   "source": [
    "82. Dictionary Key Removal: Given a dictionary of items and their quantities, write a Python program to remove a specific item from the dictionary based on user input."
   ]
  },
  {
   "cell_type": "code",
   "execution_count": 20,
   "id": "0df6952f-622d-454d-855b-782d4c7bd1f4",
   "metadata": {},
   "outputs": [
    {
     "name": "stdout",
     "output_type": "stream",
     "text": [
      "{'f': 'Dipu moni', 'g': 'Hasan mahmud', 'h': 'Salman f', 'i': 'Dhola manik'}\n"
     ]
    }
   ],
   "source": [
    "dict1 = {'f': 'Dipu moni', 'g': 'Hasan mahmud', 'h': 'Salman f', 'i': 'Dhola manik', 'j': 'Hawoun Uncle'}\n",
    "\n",
    "\n",
    "del dict1['j']\n",
    "print(dict1)"
   ]
  },
  {
   "cell_type": "code",
   "execution_count": 30,
   "id": "70c40599-aad0-4e3d-bbde-9c1c80525654",
   "metadata": {},
   "outputs": [
    {
     "name": "stdin",
     "output_type": "stream",
     "text": [
      "Enter the name of the item:  Hawoun Uncle\n"
     ]
    },
    {
     "name": "stdout",
     "output_type": "stream",
     "text": [
      "Item 'Hawoun Uncle' removed successfully.\n",
      "f: Dipu moni\n",
      "g: Hasan mahmud\n",
      "h: Salman f\n",
      "i: Dhola manik\n"
     ]
    }
   ],
   "source": [
    "dict1 = {'f': 'Dipu moni', 'g': 'Hasan mahmud', 'h': 'Salman f', 'i': 'Dhola manik', 'j': 'Hawoun Uncle'}\n",
    "\n",
    "def remove_item(item_value):\n",
    "    flag = None\n",
    "    for key, value in dict1.items():\n",
    "        if value == item_value:\n",
    "            flag = key\n",
    "            break\n",
    "    \n",
    "    if flag:\n",
    "        del dict1[flag]\n",
    "        print(f\"Item '{item_value}' removed successfully.\")\n",
    "    else:\n",
    "        print(f\"Item '{item_value}' not found.\")\n",
    "\n",
    "item = input(\"Enter the name of the item: \").strip()\n",
    "remove_item(item)\n",
    "\n",
    "\n",
    "for key, value in dict1.items():\n",
    "    print(f\"{key}: {value}\")"
   ]
  },
  {
   "cell_type": "markdown",
   "id": "442cab6e-1a65-460d-8497-151b547f8e6a",
   "metadata": {},
   "source": [
    "83. Dictionary Sorting: Given a dictionary with names as keys and corresponding ages as values, write a Python program to sort the dictionary based on age in ascending order."
   ]
  },
  {
   "cell_type": "code",
   "execution_count": 31,
   "id": "ab20d0c2-cb92-4f02-9469-83d1b80273e4",
   "metadata": {},
   "outputs": [
    {
     "name": "stdout",
     "output_type": "stream",
     "text": [
      "{'f': 'Dipu moni', 'g': 'Hasan mahmud', 'h': 'Salman f', 'i': 'Dhola manik', 'j': 'Hawoun Uncle'}\n"
     ]
    }
   ],
   "source": [
    "dict1 = {'f': 'Dipu moni', 'g': 'Hasan mahmud', 'h': 'Salman f', 'i': 'Dhola manik', 'j': 'Hawoun Uncle'}\n",
    "\n",
    "result = sorted(dict1)\n",
    "print(dict1)"
   ]
  },
  {
   "cell_type": "markdown",
   "id": "a3d99de6-1ffc-4756-89ba-eccb55353ba8",
   "metadata": {},
   "source": [
    "84. Dictionary Frequency Count: Write a Python program that takes a string as input and creates a dictionary containing each character as a key and its frequency as the value."
   ]
  },
  {
   "cell_type": "code",
   "execution_count": 37,
   "id": "94a75a6b-2b18-417f-9e89-841032c234b1",
   "metadata": {},
   "outputs": [
    {
     "name": "stdin",
     "output_type": "stream",
     "text": [
      "Enter a string:  machine learning\n"
     ]
    },
    {
     "name": "stdout",
     "output_type": "stream",
     "text": [
      "Total frequency number:\n",
      "'m': 1\n",
      "'a': 2\n",
      "'c': 1\n",
      "'h': 1\n",
      "'i': 2\n",
      "'n': 3\n",
      "'e': 2\n",
      "' ': 1\n",
      "'l': 1\n",
      "'r': 1\n",
      "'g': 1\n"
     ]
    }
   ],
   "source": [
    "def frequency_count(input_string):\n",
    "    new_dict = {}\n",
    "\n",
    "    for char in input_string:\n",
    "        if char in new_dict:\n",
    "            new_dict[char] += 1\n",
    "        else:\n",
    "            new_dict[char] = 1\n",
    "\n",
    "    return new_dict\n",
    "\n",
    "\n",
    "input_string = input(\"Enter a string: \")\n",
    "result = frequency_count(input_string)\n",
    "\n",
    "\n",
    "print(\"Total frequency number:\")\n",
    "for char, count in result.items():\n",
    "    print(f\"'{char}': {count}\")"
   ]
  },
  {
   "cell_type": "markdown",
   "id": "888f76ea-ac2d-4282-b829-34bb1be552d9",
   "metadata": {},
   "source": [
    "85. Dictionary Comprehension: Given a list of integers, write a Python program to create a dictionary where the keys are the elements from the list, and the values are their squares."
   ]
  },
  {
   "cell_type": "code",
   "execution_count": 39,
   "id": "19d2a232-b87a-4e20-a319-704785ff7932",
   "metadata": {},
   "outputs": [
    {
     "name": "stdout",
     "output_type": "stream",
     "text": [
      "{'a': 1, 'b': 2, 'c': 3}\n"
     ]
    }
   ],
   "source": [
    "# List = [1, 2, 3, 4, 5, 6, 7]\n",
    "\n",
    "def convert_list_to_dict(lst):\n",
    "    new_dict = {}\n",
    "    for i in range(0, len(lst), 2):\n",
    "        new_dict[lst[i]] = lst[i + 1]\n",
    "    return new_dict\n",
    "\n",
    "\n",
    "lst = ['a', 1, 'b', 2, 'c', 3]\n",
    "result = convert_list_to_dict(lst)\n",
    "print(result)"
   ]
  },
  {
   "cell_type": "markdown",
   "id": "b22dbae7-5e74-47e3-951b-cb5e58a984e8",
   "metadata": {},
   "source": [
    "86. Dictionary Key Check: Write a Python program that takes a key as input and checks if it exists in a given dictionary. Print “Key Found” if the key is present and “Key Not Found” otherwise."
   ]
  },
  {
   "cell_type": "code",
   "execution_count": 40,
   "id": "0d3df8d9-ac36-4385-9d32-e8c2ed5cc7d6",
   "metadata": {},
   "outputs": [
    {
     "name": "stdin",
     "output_type": "stream",
     "text": [
      "Enter the key:  f\n"
     ]
    },
    {
     "name": "stdout",
     "output_type": "stream",
     "text": [
      "Key Found\n"
     ]
    }
   ],
   "source": [
    "dict1 = {'f': 'Dipu moni', 'g': 'Hasan mahmud', 'h': 'Salman f', 'i': 'Dhola manik', 'j': 'Hawoun Uncle'}\n",
    "\n",
    "key_input = input(\"Enter the key: \").strip()\n",
    "\n",
    "if key_input in dict1:\n",
    "    print('Key Found')\n",
    "else:\n",
    "    print(\"key not Found\")"
   ]
  },
  {
   "cell_type": "code",
   "execution_count": null,
   "id": "1d03d295-ab50-4003-9e34-a0e05c6a40db",
   "metadata": {},
   "outputs": [],
   "source": []
  }
 ],
 "metadata": {
  "kernelspec": {
   "display_name": "Python 3 (ipykernel)",
   "language": "python",
   "name": "python3"
  },
  "language_info": {
   "codemirror_mode": {
    "name": "ipython",
    "version": 3
   },
   "file_extension": ".py",
   "mimetype": "text/x-python",
   "name": "python",
   "nbconvert_exporter": "python",
   "pygments_lexer": "ipython3",
   "version": "3.11.8"
  }
 },
 "nbformat": 4,
 "nbformat_minor": 5
}

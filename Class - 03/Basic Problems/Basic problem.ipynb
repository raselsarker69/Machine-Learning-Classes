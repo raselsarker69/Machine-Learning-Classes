{
 "cells": [
  {
   "cell_type": "markdown",
   "id": "acbc6d71-e75f-45e5-9bf2-834a6d5401b3",
   "metadata": {},
   "source": [
    "# Basic python problem"
   ]
  },
  {
   "cell_type": "markdown",
   "id": "8e16cdaa-3694-4188-ad51-58b90861bf05",
   "metadata": {},
   "source": [
    "# 1. Write a Python program to swap the values of two variables without using a temporary variable."
   ]
  },
  {
   "cell_type": "code",
   "execution_count": 2,
   "id": "d50c3102-9237-4996-b2fd-0fbeb4be2abd",
   "metadata": {},
   "outputs": [
    {
     "name": "stdin",
     "output_type": "stream",
     "text": [
      "Enter a Number: 10\n",
      "Enter a Number: 20\n"
     ]
    },
    {
     "name": "stdout",
     "output_type": "stream",
     "text": [
      "(20, 10)\n"
     ]
    }
   ],
   "source": [
    "def swap(a, b):\n",
    "    return b, a\n",
    "\n",
    "a = int(input(\"Enter a Number:\"))\n",
    "b = int(input(\"Enter a Number:\"))\n",
    "\n",
    "result = swap(a, b)\n",
    "print(result)"
   ]
  },
  {
   "cell_type": "markdown",
   "id": "2f659a2a-fa20-4e34-8427-6ff841ad512c",
   "metadata": {},
   "source": [
    "# 2. Write a Python program that takes an integer as input and prints whether it is even or odd."
   ]
  },
  {
   "cell_type": "code",
   "execution_count": 4,
   "id": "aaf81728-f55b-4eb4-82da-c1be9758558d",
   "metadata": {},
   "outputs": [
    {
     "name": "stdin",
     "output_type": "stream",
     "text": [
      "Enter your number: 13\n"
     ]
    },
    {
     "name": "stdout",
     "output_type": "stream",
     "text": [
      "13 is ODD number\n"
     ]
    }
   ],
   "source": [
    "num = int(input(\"Enter your number:\"))\n",
    "\n",
    "if num % 2 == 0:\n",
    "    print(f\"{num} is Even number\")\n",
    "else:\n",
    "    print(f\"{num} is ODD number\")"
   ]
  },
  {
   "cell_type": "markdown",
   "id": "dab68954-7a9c-48d8-a780-0cca559fecd1",
   "metadata": {},
   "source": [
    "# 3. Write a Python function to reverse a given string and return the reversed string."
   ]
  },
  {
   "cell_type": "code",
   "execution_count": null,
   "id": "7b5fa368-fecb-4de9-8a52-986a6493a6f0",
   "metadata": {},
   "outputs": [],
   "source": []
  }
 ],
 "metadata": {
  "kernelspec": {
   "display_name": "Python 3 (ipykernel)",
   "language": "python",
   "name": "python3"
  },
  "language_info": {
   "codemirror_mode": {
    "name": "ipython",
    "version": 3
   },
   "file_extension": ".py",
   "mimetype": "text/x-python",
   "name": "python",
   "nbconvert_exporter": "python",
   "pygments_lexer": "ipython3",
   "version": "3.11.8"
  }
 },
 "nbformat": 4,
 "nbformat_minor": 5
}

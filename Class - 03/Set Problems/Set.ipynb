{
 "cells": [
  {
   "cell_type": "markdown",
   "id": "90c65f95-4fed-4351-a464-570706d9065c",
   "metadata": {},
   "source": [
    "# Set problems"
   ]
  },
  {
   "cell_type": "markdown",
   "id": "fe99279b-a0d7-4b30-b248-22a1e2577380",
   "metadata": {},
   "source": [
    "# 69. Duplicate Removal: Write a Python program that takes a list of elements as input and creates a new set containing only the unique elements from the list."
   ]
  },
  {
   "cell_type": "code",
   "execution_count": 18,
   "id": "44a51a86-676c-4936-8223-2859c57dbb46",
   "metadata": {},
   "outputs": [
    {
     "name": "stdout",
     "output_type": "stream",
     "text": [
      "[1, 2, 3, 4, 5]\n"
     ]
    }
   ],
   "source": [
    "def removeduplicate(lst):\n",
    "    lst.sort()  \n",
    "    n = len(lst)\n",
    "\n",
    "    if n == 0:\n",
    "        return lst\n",
    "\n",
    "    left = 1\n",
    "\n",
    "    for r in range(1, n):\n",
    "        if lst[r] != lst[r - 1]:  # two pointers technique.\n",
    "            lst[left] = lst[r]\n",
    "            left += 1\n",
    "\n",
    "    return lst[:left]\n",
    "\n",
    "lst = [1, 2, 5, 3, 4, 5, 3]  \n",
    "result = removeduplicate(lst)\n",
    "print(result)"
   ]
  },
  {
   "cell_type": "code",
   "execution_count": 6,
   "id": "988b341f-7394-467a-be7e-bf01525b3f4a",
   "metadata": {},
   "outputs": [
    {
     "name": "stdout",
     "output_type": "stream",
     "text": [
      "[1, 2, 5, 3, 4]\n"
     ]
    }
   ],
   "source": [
    "def removeduplicate(num1):\n",
    "    \n",
    "    new_list = []\n",
    "\n",
    "    for n in num1:\n",
    "        if n not in new_list:\n",
    "            new_list.append(n)\n",
    "\n",
    "    return new_list\n",
    "\n",
    "num1= [1, 2, 2, 5, 3, 4, 5]\n",
    "result = removeduplicate(num1)\n",
    "print(result)"
   ]
  },
  {
   "cell_type": "markdown",
   "id": "4751f9db-d839-415f-83b9-f24f3f6cd637",
   "metadata": {},
   "source": [
    "# 70. Set Intersection: Given two sets A and B, write a Python program to find their intersection and print the common elements."
   ]
  },
  {
   "cell_type": "code",
   "execution_count": 24,
   "id": "3bd7f786-6570-4532-a734-382509d6b8c0",
   "metadata": {},
   "outputs": [
    {
     "name": "stdout",
     "output_type": "stream",
     "text": [
      "{1, 2, 3, 4, 5}\n"
     ]
    }
   ],
   "source": [
    "def common_number(set1, set2):\n",
    "    new_set = set()\n",
    "\n",
    "    for num in set1:\n",
    "        if num in set2:\n",
    "            new_set.add(num)\n",
    "\n",
    "    return new_set\n",
    "\n",
    "\n",
    "set1 = {1, 2, 2, 5, 3, 4, 5}\n",
    "set2 = {1, 3, 2, 4, 3, 4, 5}\n",
    "result = common_number(set1, set2)\n",
    "print(result)"
   ]
  },
  {
   "cell_type": "code",
   "execution_count": 26,
   "id": "1096b052-15a3-4165-9bf8-8af03aa3b894",
   "metadata": {},
   "outputs": [
    {
     "name": "stdout",
     "output_type": "stream",
     "text": [
      "{1, 2, 3, 4, 5}\n"
     ]
    }
   ],
   "source": [
    "def common_number1(set1, set2):\n",
    "    return(set1 & set2)\n",
    " \n",
    "set1= {1,2,2,5,3,4,5}\n",
    "set2= {1,3,2,4,3,4,5}\n",
    "result = common_number1(set1 , set2)\n",
    "print(result)"
   ]
  },
  {
   "cell_type": "code",
   "execution_count": 30,
   "id": "ea942d2a-33f8-4d49-8afc-c0af06c217f0",
   "metadata": {},
   "outputs": [
    {
     "name": "stdout",
     "output_type": "stream",
     "text": [
      "{4, 5}\n"
     ]
    }
   ],
   "source": [
    "def common_number1(set1, set2):\n",
    "    return set1.intersection(set2)\n",
    " \n",
    "\n",
    "set1= {1,2,2,5,3,4,5}\n",
    "set2= {1,3,2,4,3,4,5}\n",
    "result = common_number1(set1 , set2)\n",
    "print(result)"
   ]
  },
  {
   "cell_type": "markdown",
   "id": "90835d48-5503-412c-8e99-2f01f118d4ad",
   "metadata": {},
   "source": [
    "# 71. Set Union: Given two sets A and B, write a Python program to find their union and print all the distinct elements from both sets."
   ]
  },
  {
   "cell_type": "code",
   "execution_count": 31,
   "id": "9eaaf3f5-22e5-4f1f-9278-08a0eacbb8df",
   "metadata": {},
   "outputs": [
    {
     "name": "stdout",
     "output_type": "stream",
     "text": [
      "{1, 2, 3, 4, 5, 6, 7, 8}\n"
     ]
    }
   ],
   "source": [
    "def find_union (set1, set2):\n",
    "    return set1.union(set2)\n",
    "\n",
    "\n",
    "set1= {1, 2, 3, 4, 5}\n",
    "set2= {4, 5, 6, 7, 8}\n",
    "result = find_union(set1 , set2)\n",
    "print(result)"
   ]
  },
  {
   "cell_type": "markdown",
   "id": "e08197eb-43bb-46e1-a87d-d4d4b318f69a",
   "metadata": {},
   "source": [
    "# 72. Set Difference: Given two sets A and B, write a Python program to find the difference between set A and set B (i.e., elements present in A but not in B) and print the result."
   ]
  },
  {
   "cell_type": "code",
   "execution_count": 33,
   "id": "667d4856-bd56-4e21-90cd-a6e9f39a3f84",
   "metadata": {},
   "outputs": [
    {
     "name": "stdout",
     "output_type": "stream",
     "text": [
      "{1, 2, 3}\n"
     ]
    }
   ],
   "source": [
    "def find_defference (set1, set2):\n",
    "    return set1.difference(set2)\n",
    "\n",
    "\n",
    "set1= {1, 2, 3, 4, 5}\n",
    "set2= {4, 5, 6, 7, 8}\n",
    "result = find_defference(set1 , set2)\n",
    "print(result)"
   ]
  },
  {
   "cell_type": "code",
   "execution_count": 34,
   "id": "5f17df34-6c76-4ab4-a315-fcb6cd09e455",
   "metadata": {},
   "outputs": [
    {
     "name": "stdout",
     "output_type": "stream",
     "text": [
      "{8, 6, 7}\n"
     ]
    }
   ],
   "source": [
    "def find_defference (set1, set2):\n",
    "    return set2.difference(set1)\n",
    "\n",
    "\n",
    "set1= {1, 2, 3, 4, 5}\n",
    "set2= {4, 5, 6, 7, 8}\n",
    "result = find_defference(set1 , set2)\n",
    "print(result)"
   ]
  },
  {
   "cell_type": "markdown",
   "id": "41eadca3-c1de-4500-9868-3435d72951ea",
   "metadata": {},
   "source": [
    "# 73. Set Symmetric Difference: Given two sets A and B, write a Python program to find the symmetric difference between the two sets (i.e., elements that are present in either set A or set B, but not in both) and print the result."
   ]
  },
  {
   "cell_type": "code",
   "execution_count": 35,
   "id": "4f1c1cd8-2a40-46ba-9c67-0b69344e1348",
   "metadata": {},
   "outputs": [
    {
     "name": "stdout",
     "output_type": "stream",
     "text": [
      "{1, 2, 3, 6, 7, 8}\n"
     ]
    }
   ],
   "source": [
    "def symmetric_difference(set1, set2):\n",
    "    new_set = set1.symmetric_difference(set2)\n",
    "    \n",
    "    return new_set\n",
    "\n",
    "\n",
    "set1 = {1, 2, 3, 4, 5}\n",
    "set2 = {4, 5, 6, 7, 8}\n",
    "result = symmetric_difference(set1, set2)\n",
    "print(result)"
   ]
  },
  {
   "cell_type": "markdown",
   "id": "5c63fa55-25da-43b2-bb54-431dfe3e1eac",
   "metadata": {},
   "source": [
    "# 74. Set Operations: Given three sets A, B, and C, write a Python program to find and print the intersection of A and B, the union of B and C, and the difference between C and A."
   ]
  },
  {
   "cell_type": "code",
   "execution_count": 7,
   "id": "a2581cb7-8f07-4a84-9d9d-3ce43e37d4c2",
   "metadata": {},
   "outputs": [
    {
     "name": "stdout",
     "output_type": "stream",
     "text": [
      "Intersection: {4, 5}\n",
      "Difference: {1, 2, 3}\n",
      "Union: {1, 2, 3, 4, 5, 6, 7, 8}\n"
     ]
    }
   ],
   "source": [
    "def set_operation(set1, set2):\n",
    "    intersection = set1.intersection(set2)\n",
    "    difference = set1.difference(set2)\n",
    "    union = set1.union(set2)\n",
    "    return intersection, difference, union\n",
    "\n",
    "\n",
    "\n",
    "set1 = {1, 2, 3, 4, 5}\n",
    "set2 = {4, 5, 6, 7, 8}\n",
    "\n",
    "intersection, difference, union = set_operation(set1, set2)\n",
    "\n",
    "print(\"Intersection:\", intersection)\n",
    "print(\"Difference:\", difference)\n",
    "print(\"Union:\", union)"
   ]
  },
  {
   "cell_type": "markdown",
   "id": "9473ca9a-8a16-4903-b9a1-d6975a2f521a",
   "metadata": {},
   "source": [
    "# 75. Set Subset Check: Given two sets A and B, write a Python program to check if set A is a subset of set B and print the result."
   ]
  },
  {
   "cell_type": "code",
   "execution_count": 8,
   "id": "bc446a19-5291-4589-a599-b0c5196a487e",
   "metadata": {},
   "outputs": [
    {
     "name": "stdout",
     "output_type": "stream",
     "text": [
      "True\n"
     ]
    }
   ],
   "source": [
    "def check_subset(set1, set2):\n",
    "    return set1.issubset(set2)\n",
    "\n",
    "A = {'a', 'c', 'e'}\n",
    "B = {'a', 'b', 'c', 'd', 'e'}\n",
    "\n",
    "print(check_subset(A, B))"
   ]
  },
  {
   "cell_type": "markdown",
   "id": "8a29c9fd-6766-4795-84c8-f7170943732f",
   "metadata": {},
   "source": [
    "# 76. Set Superset Check: Given two sets A and B, write a Python program to check if set A is a superset of set B and print the result."
   ]
  },
  {
   "cell_type": "code",
   "execution_count": 11,
   "id": "410dc02c-3b45-426b-8b44-b1de89e7b29f",
   "metadata": {},
   "outputs": [
    {
     "name": "stdout",
     "output_type": "stream",
     "text": [
      "False\n"
     ]
    }
   ],
   "source": [
    "def check_superset(set1, set2):\n",
    "    return set1.issuperset(set2)\n",
    "\n",
    "A = {'a', 'c', 'e'}\n",
    "B = {'a', 'b', 'c', 'd', 'e'}\n",
    "\n",
    "result = check_superset(A, B)\n",
    "print(result)"
   ]
  },
  {
   "cell_type": "markdown",
   "id": "ff79a502-3417-406c-b9ad-9f3311983e1c",
   "metadata": {},
   "source": [
    "# 77. Set Length Check: Write a Python program that takes a set as input and prints the number of elements in the set."
   ]
  },
  {
   "cell_type": "code",
   "execution_count": 12,
   "id": "9e1723fa-234b-44eb-8ee3-a627dc0a15bd",
   "metadata": {},
   "outputs": [
    {
     "name": "stdout",
     "output_type": "stream",
     "text": [
      "5\n"
     ]
    }
   ],
   "source": [
    "A = {'a', 'b', 'c', 'd', 'e'}\n",
    "\n",
    "result = len(A)\n",
    "print(result)"
   ]
  },
  {
   "cell_type": "markdown",
   "id": "a9792f7e-af35-43c1-ae28-122b9dfcdb7c",
   "metadata": {},
   "source": [
    "# 76. Set Membership Test: Write a Python program that takes an element as input and checks if it exists in a given set. Print “Found” if the element is present and “Not Found” otherwise."
   ]
  },
  {
   "cell_type": "code",
   "execution_count": 15,
   "id": "826c9003-7bf7-46d1-964d-817309dad384",
   "metadata": {},
   "outputs": [
    {
     "name": "stdin",
     "output_type": "stream",
     "text": [
      "Enter an element:  5\n"
     ]
    },
    {
     "name": "stdout",
     "output_type": "stream",
     "text": [
      "Found\n"
     ]
    }
   ],
   "source": [
    "def check_membership(num, set1):\n",
    "    if num in set1:\n",
    "        print(\"Found\")\n",
    "    else:\n",
    "        print(\"Not Found\")\n",
    "\n",
    "set = {1, 2, 3, 4, 5}\n",
    "num = int(input(\"Enter an element: \"))\n",
    "\n",
    "check_membership(num, set)"
   ]
  },
  {
   "cell_type": "code",
   "execution_count": null,
   "id": "1f76783f-cd6f-4165-9c20-7767cdd9afb9",
   "metadata": {},
   "outputs": [],
   "source": []
  }
 ],
 "metadata": {
  "kernelspec": {
   "display_name": "Python 3 (ipykernel)",
   "language": "python",
   "name": "python3"
  },
  "language_info": {
   "codemirror_mode": {
    "name": "ipython",
    "version": 3
   },
   "file_extension": ".py",
   "mimetype": "text/x-python",
   "name": "python",
   "nbconvert_exporter": "python",
   "pygments_lexer": "ipython3",
   "version": "3.11.8"
  }
 },
 "nbformat": 4,
 "nbformat_minor": 5
}

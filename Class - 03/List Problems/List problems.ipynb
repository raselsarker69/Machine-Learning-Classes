{
 "cells": [
  {
   "cell_type": "markdown",
   "id": "df9c8b87-d6f0-4eae-a7a9-0dc761ecf099",
   "metadata": {},
   "source": [
    "# List problems"
   ]
  },
  {
   "cell_type": "markdown",
   "id": "d98260c6-1e28-4775-b0bc-98f98dd49294",
   "metadata": {},
   "source": [
    "34. List Sum: Write a Python program to find the sum of all elements in a given list of integers."
   ]
  },
  {
   "cell_type": "code",
   "execution_count": 1,
   "id": "882e2fa4-bee9-421d-a079-7851624ee992",
   "metadata": {},
   "outputs": [
    {
     "name": "stdout",
     "output_type": "stream",
     "text": [
      "55\n"
     ]
    }
   ],
   "source": [
    "List1 = [1, 2, 3, 4, 5, 6, 7, 8, 9, 10]\n",
    "print(sum(List1))"
   ]
  },
  {
   "cell_type": "markdown",
   "id": "9b62c6e4-21a0-4ef0-8bcd-157b7af545d7",
   "metadata": {},
   "source": [
    "35. List Average: Write a Python program to calculate the average of all elements in a given list of integers."
   ]
  },
  {
   "cell_type": "code",
   "execution_count": 3,
   "id": "bff1c5d4-34ba-4e50-89e5-7fb6bc32a804",
   "metadata": {},
   "outputs": [
    {
     "name": "stdout",
     "output_type": "stream",
     "text": [
      "5.5\n"
     ]
    }
   ],
   "source": [
    "List1 = [1, 2, 3, 4, 5, 6, 7, 8, 9, 10]\n",
    "\n",
    "def average(lst):\n",
    "    return sum(lst) / len(lst)\n",
    "\n",
    "print(average(List1))"
   ]
  },
  {
   "cell_type": "markdown",
   "id": "16496985-f565-44cf-bccf-6fe90d8aa23b",
   "metadata": {},
   "source": [
    "36. List Max and Min: Write a Python program to find the maximum and minimum values in a given list of integers."
   ]
  },
  {
   "cell_type": "code",
   "execution_count": 5,
   "id": "f9780d47-9f2e-4132-add7-aecad2a917e5",
   "metadata": {},
   "outputs": [
    {
     "name": "stdout",
     "output_type": "stream",
     "text": [
      "The maximum value is: 10\n",
      "The minimum value is: 1\n"
     ]
    }
   ],
   "source": [
    "List1 = [1, 2, 3, 4, 5, 6, 7, 8, 9, 10]\n",
    "\n",
    "print(f\"The maximum value is: {max(List1)}\")\n",
    "print(f\"The minimum value is: {min(List1)}\")"
   ]
  },
  {
   "cell_type": "markdown",
   "id": "64d949d6-d59a-488a-92c7-eca5116445a1",
   "metadata": {},
   "source": [
    "37. List Sorting: Write a Python program to sort a list of integers in ascending order."
   ]
  },
  {
   "cell_type": "code",
   "execution_count": 7,
   "id": "df5bdb9c-2dd6-4358-8ee9-4d40add891e2",
   "metadata": {},
   "outputs": [
    {
     "name": "stdout",
     "output_type": "stream",
     "text": [
      "[3, 5, 6, 7, 8, 9, 10, 11, 14, 20]\n"
     ]
    }
   ],
   "source": [
    "List1 = [11, 20, 3, 14, 5, 6, 7, 8, 9, 10]\n",
    "print(sorted(List1))"
   ]
  },
  {
   "cell_type": "markdown",
   "id": "e8e29ee6-a3f9-493f-be92-e5124972a729",
   "metadata": {},
   "source": [
    "38. List Filtering: Given a list of integers, write a Python program to create a new list that contains only the even numbers from the original list."
   ]
  },
  {
   "cell_type": "code",
   "execution_count": 17,
   "id": "aaead084-2c99-44a1-a44c-b8fa45859393",
   "metadata": {},
   "outputs": [
    {
     "name": "stdout",
     "output_type": "stream",
     "text": [
      "[2, 4, 6, 8, 10]\n"
     ]
    }
   ],
   "source": [
    "list1 = [1, 2, 3, 4, 5, 6, 7, 8, 9, 10]\n",
    "\n",
    "new_list = []\n",
    "\n",
    "for i in range(len(list1)):\n",
    "    if i % 2 != 0:\n",
    "        new_list.append(list1[i])\n",
    "        \n",
    "print(new_list)"
   ]
  },
  {
   "cell_type": "code",
   "execution_count": 27,
   "id": "c3fc1c88-5ce6-4ff5-9cc0-33c4f15f06ab",
   "metadata": {},
   "outputs": [
    {
     "name": "stdout",
     "output_type": "stream",
     "text": [
      "[2, 4, 6, 8, 10]\n"
     ]
    }
   ],
   "source": [
    "list1 = [1, 2, 3, 4, 5, 6, 7, 8, 9, 10]\n",
    "\n",
    "new_list = [list1[i] for i in range(len(list1)) if i % 2 != 0]\n",
    "    \n",
    "print(new_list)"
   ]
  },
  {
   "cell_type": "markdown",
   "id": "1476976a-ab78-4704-a10c-ee507d1f05f5",
   "metadata": {},
   "source": [
    "39. List Reversal: Write a Python program to reverse a given list without using any built-in functions."
   ]
  },
  {
   "cell_type": "code",
   "execution_count": 25,
   "id": "53d6f166-61a4-4d60-b68e-b6927cb47586",
   "metadata": {},
   "outputs": [
    {
     "name": "stdout",
     "output_type": "stream",
     "text": [
      "[10, 9, 8, 7, 6, 5, 4, 3, 2, 1]\n"
     ]
    }
   ],
   "source": [
    "def reverse_list(lst):\n",
    "    left = 0\n",
    "    right = len(lst) - 1  \n",
    "\n",
    "    while left < right:\n",
    "        # Swap elements manually\n",
    "        temp = lst[left]\n",
    "        lst[left] = lst[right]\n",
    "        lst[right] = temp\n",
    "        \n",
    "        left += 1 \n",
    "        right -= 1 \n",
    "        \n",
    "    return lst\n",
    "\n",
    "list1 = [1, 2, 3, 4, 5, 6, 7, 8, 9, 10]\n",
    "print(reverse_list(list1))"
   ]
  },
  {
   "cell_type": "markdown",
   "id": "6572a374-171c-485b-928e-6ca449d47a1d",
   "metadata": {},
   "source": [
    "40. List Manipulation: Given two lists of integers, write a Python program to create a new list that contains elements common to both lists."
   ]
  },
  {
   "cell_type": "code",
   "execution_count": 9,
   "id": "cecc84da-7df6-4471-9865-7963532d84b6",
   "metadata": {},
   "outputs": [
    {
     "name": "stdout",
     "output_type": "stream",
     "text": [
      "{2, 4, 5, 7, 10}\n"
     ]
    }
   ],
   "source": [
    "def common_elements(list1, list2):\n",
    "    flag = []\n",
    "    for num in list1:\n",
    "        if num in list2:\n",
    "            flag.append(num)\n",
    "    return flag\n",
    "\n",
    "\n",
    "num1 = [1, 2, 3, 4, 5, 6, 7, 8, 9, 10]\n",
    "num2 = [2, 4, 5, 7, 10, 12, 15, 18, 20]\n",
    "        \n",
    "result = common_number(num1, num2)\n",
    "print(result)"
   ]
  },
  {
   "cell_type": "markdown",
   "id": "68ebd854-9910-4f6c-a16c-6ff84ba3df16",
   "metadata": {},
   "source": [
    "41. List Element Count: Write a Python program to count the occurrences of a specific element in a given list."
   ]
  },
  {
   "cell_type": "code",
   "execution_count": 11,
   "id": "11740e16-c54e-4175-b6ac-4a835e689e52",
   "metadata": {},
   "outputs": [
    {
     "name": "stdout",
     "output_type": "stream",
     "text": [
      "2\n"
     ]
    }
   ],
   "source": [
    "num1 = [1, 2, 3, 4, 2, 7, 10, 9, 5, 6, 7, 8, 9, 10]\n",
    "ans = num1.count(7)\n",
    "print(ans)"
   ]
  },
  {
   "cell_type": "markdown",
   "id": "e693a5eb-d39b-468f-ae4a-2013da53d1c1",
   "metadata": {},
   "source": [
    "42. List Duplicates Removal: Write a Python program to remove duplicates from a given list while preserving the order of the elements."
   ]
  },
  {
   "cell_type": "code",
   "execution_count": 3,
   "id": "2f8bf892-809e-47a0-86db-705434605e74",
   "metadata": {},
   "outputs": [
    {
     "name": "stdout",
     "output_type": "stream",
     "text": [
      "15\n"
     ]
    }
   ],
   "source": [
    "def removeDuplicates(nums):\n",
    "    # Two pointers method\n",
    "    \n",
    "    n = len(nums)\n",
    "    if n == 0:\n",
    "        return 0\n",
    "    \n",
    "    l = 1\n",
    "    \n",
    "    for r in range(1, n):\n",
    "        if nums[r] != nums[r - 1]:\n",
    "            nums[l] = nums[r]\n",
    "            l += 1\n",
    "    \n",
    "    return l\n",
    "\n",
    "num1 = [1, 2, 3, 4, 2, 7, 10, 9, 5, 6, 10, 7, 8, 9, 10]\n",
    "ans = removeDuplicates(num1)\n",
    "print(ans)"
   ]
  },
  {
   "cell_type": "code",
   "execution_count": 4,
   "id": "d6e272b3-3c32-4c4c-809a-b3de9c0e153f",
   "metadata": {},
   "outputs": [
    {
     "name": "stdout",
     "output_type": "stream",
     "text": [
      "[1, 2, 3, 4, 7, 10, 9, 5, 6, 8]\n"
     ]
    }
   ],
   "source": [
    "def removeDuplicates(lst):\n",
    "    result = []   \n",
    "    seen = set()  \n",
    "    \n",
    "    for item in lst:\n",
    "        if item not in seen:\n",
    "            seen.add(item)\n",
    "            result.append(item)\n",
    "\n",
    "    return result\n",
    "\n",
    "input_list = [1, 2, 3, 4, 2, 7, 10, 9, 5, 6, 10, 7, 8, 9, 10]\n",
    "output_list = removeDuplicates(input_list)\n",
    "print(output_list)"
   ]
  },
  {
   "cell_type": "code",
   "execution_count": 5,
   "id": "af751cbd-4a9f-440f-8922-5fd8f2db0a0a",
   "metadata": {},
   "outputs": [
    {
     "name": "stdout",
     "output_type": "stream",
     "text": [
      "[2, 4, 10, 20, 5]\n"
     ]
    }
   ],
   "source": [
    "def removeDuplicates(list):\n",
    "    flag = []\n",
    "    for num in list:\n",
    "        if num not in flag:\n",
    "            flag.append(num)\n",
    "    return flag\n",
    "     \n",
    "list1 = [2, 4, 10, 20, 5, 2, 20, 4]\n",
    "print(removeDuplicates(list1))"
   ]
  },
  {
   "cell_type": "markdown",
   "id": "384c7bea-9870-410d-998c-29a8d246f43c",
   "metadata": {},
   "source": [
    "43. List Comprehension: Given a list of integers, write a Python program to create a new list that contains the squares of the elements using list comprehension."
   ]
  },
  {
   "cell_type": "code",
   "execution_count": 9,
   "id": "908bfc37-9679-4360-a57a-b5689e2220db",
   "metadata": {},
   "outputs": [
    {
     "name": "stdout",
     "output_type": "stream",
     "text": [
      "[1, 4, 9, 16, 25, 36, 49, 64, 81, 100]\n"
     ]
    }
   ],
   "source": [
    "num1 = [1, 2, 3, 4, 5, 6, 7, 8, 9, 10]\n",
    "ans = [x ** 2 for x in num1]\n",
    "print(ans)"
   ]
  },
  {
   "cell_type": "code",
   "execution_count": null,
   "id": "7bb8b3c2-5e9b-423f-a85c-43f8bf2712b8",
   "metadata": {},
   "outputs": [],
   "source": []
  }
 ],
 "metadata": {
  "kernelspec": {
   "display_name": "Python 3 (ipykernel)",
   "language": "python",
   "name": "python3"
  },
  "language_info": {
   "codemirror_mode": {
    "name": "ipython",
    "version": 3
   },
   "file_extension": ".py",
   "mimetype": "text/x-python",
   "name": "python",
   "nbconvert_exporter": "python",
   "pygments_lexer": "ipython3",
   "version": "3.11.8"
  }
 },
 "nbformat": 4,
 "nbformat_minor": 5
}

{
 "cells": [
  {
   "cell_type": "markdown",
   "id": "13b9aa96-6d1b-42cd-82de-e6dccbf92da4",
   "metadata": {},
   "source": [
    "# Nested Functions Problems"
   ]
  },
  {
   "cell_type": "markdown",
   "id": "55ec9d4c-e887-4524-84bd-aea0435bd0e7",
   "metadata": {},
   "source": [
    "108. Math Operations: Write a Python function called `math_operations` that takes three numbers and a string representing an operation (‘add’, ‘subtract’, ‘multiply’, or ‘divide’). The function should return the result of the specified operation on the three numbers. Implement the math operations as nested functions."
   ]
  },
  {
   "cell_type": "code",
   "execution_count": 3,
   "id": "c0b88d54-a78f-495a-857a-f0a0ee99a523",
   "metadata": {},
   "outputs": [
    {
     "name": "stdout",
     "output_type": "stream",
     "text": [
      "Summation : 100\n",
      "Subtract : 100\n",
      "Multiply : 100\n",
      "divide : 100\n"
     ]
    }
   ],
   "source": [
    "def math_operations(a, b, c, operation):\n",
    "    def add(x, y, z):\n",
    "        return x + y + z\n",
    "    \n",
    "    def subtract(x, y, z):\n",
    "        return x - y - z\n",
    "    \n",
    "    def multiply(x, y, z):\n",
    "        return x * y * z\n",
    "    \n",
    "    def divide(x, y, z):\n",
    "        if y == 0 or z == 0:\n",
    "            return \"zero\"\n",
    "        return x / y / z\n",
    "\n",
    "    if operation == 'add':\n",
    "        return add(a, b, c)\n",
    "    elif operation == 'subtract':\n",
    "        return subtract(a, b, c)\n",
    "    elif operation == 'multiply':\n",
    "        return multiply(a, b, c)\n",
    "    elif operation == 'divide':\n",
    "        return divide(a, b, c)\n",
    "    else:\n",
    "        return \"Invalid! Please try again.\"\n",
    "\n",
    "\n",
    "sum = math_operations(10, 5, 2, 'multiply')\n",
    "sub = math_operations(10, 5, 2, 'multiply')\n",
    "mul = math_operations(10, 5, 2, 'multiply')\n",
    "div = math_operations(10, 5, 2, 'multiply')\n",
    "\n",
    "print(f\"Summation : {sum}\")\n",
    "print(f\"Subtract : {sub}\")\n",
    "print(f\"Multiply : {mul}\")\n",
    "print(f\"divide : {div}\")"
   ]
  },
  {
   "cell_type": "code",
   "execution_count": 4,
   "id": "abe141eb-ac6f-44fa-aba6-ca729ed03111",
   "metadata": {},
   "outputs": [
    {
     "name": "stdout",
     "output_type": "stream",
     "text": [
      "  brand    model  year\n",
      "0  Ford  Mustang  1964\n"
     ]
    }
   ],
   "source": [
    "import pandas as pd\n",
    "\n",
    "thisdict = {\n",
    "    \"brand\": \"Ford\",\n",
    "    \"model\": \"Mustang\",\n",
    "    \"year\": 1964\n",
    "}\n",
    "\n",
    "df = pd.DataFrame([thisdict])\n",
    "print(df)"
   ]
  },
  {
   "cell_type": "code",
   "execution_count": 5,
   "id": "0aefda6d-d608-4ad4-a397-d3bbbd3866ea",
   "metadata": {},
   "outputs": [
    {
     "name": "stdout",
     "output_type": "stream",
     "text": [
      "  brand    model  year\n",
      "0  Ford  Mustang  1964\n"
     ]
    }
   ],
   "source": [
    "df = pd.DataFrame([thisdict])\n",
    "print(df)"
   ]
  },
  {
   "cell_type": "code",
   "execution_count": null,
   "id": "9470df5a-2376-4059-8891-0d04c16bd8a8",
   "metadata": {},
   "outputs": [],
   "source": []
  }
 ],
 "metadata": {
  "kernelspec": {
   "display_name": "Python 3 (ipykernel)",
   "language": "python",
   "name": "python3"
  },
  "language_info": {
   "codemirror_mode": {
    "name": "ipython",
    "version": 3
   },
   "file_extension": ".py",
   "mimetype": "text/x-python",
   "name": "python",
   "nbconvert_exporter": "python",
   "pygments_lexer": "ipython3",
   "version": "3.11.8"
  }
 },
 "nbformat": 4,
 "nbformat_minor": 5
}

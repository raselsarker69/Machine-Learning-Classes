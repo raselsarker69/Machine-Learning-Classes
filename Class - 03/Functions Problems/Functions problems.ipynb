{
 "cells": [
  {
   "cell_type": "markdown",
   "id": "7bfd98e6-1155-49a7-abd1-fd83f55cb287",
   "metadata": {},
   "source": [
    "# Function Practice problems"
   ]
  },
  {
   "cell_type": "markdown",
   "id": "a7aee4dd-08f8-49fc-bbb7-2f30e164a97d",
   "metadata": {},
   "source": [
    "102. Factorial Calculator: Write a Python function called `factorial` that takes an integer as input and returns its factorial. Test the function with different values."
   ]
  },
  {
   "cell_type": "code",
   "execution_count": 1,
   "id": "c9e610c6-0448-46b6-a015-58fd230c4bf7",
   "metadata": {},
   "outputs": [
    {
     "name": "stdin",
     "output_type": "stream",
     "text": [
      "Enter a number: 6\n"
     ]
    },
    {
     "name": "stdout",
     "output_type": "stream",
     "text": [
      "720\n"
     ]
    }
   ],
   "source": [
    "def factorial(n):\n",
    "    if n < 0:\n",
    "        return 0 \n",
    "    elif n == 0 or n == 1:\n",
    "        return 1  \n",
    "    else:\n",
    "        fact = 1\n",
    "        while n > 1:\n",
    "            fact *= n\n",
    "            n -= 1\n",
    "        return fact\n",
    "\n",
    "num = int(input(\"Enter a number:\"))\n",
    "result = factorial(num)\n",
    "print(result) "
   ]
  },
  {
   "cell_type": "markdown",
   "id": "4413ed93-c5c9-459c-8ad7-fce995f91ace",
   "metadata": {},
   "source": [
    "103. Palindrome Checker: Write a Python function called `is_palindrome` that takes a string as input and returns `True` if it is a palindrome and `False` otherwise. Test the function with different words."
   ]
  },
  {
   "cell_type": "code",
   "execution_count": 2,
   "id": "b638bed1-cbc4-457b-a27d-6af3ed43ec7e",
   "metadata": {},
   "outputs": [
    {
     "name": "stdin",
     "output_type": "stream",
     "text": [
      "Enter a string:  madam\n"
     ]
    },
    {
     "name": "stdout",
     "output_type": "stream",
     "text": [
      "\"madam\" is a palindrome.\n"
     ]
    }
   ],
   "source": [
    "def is_palindrome(s):\n",
    "    l = 0\n",
    "    h = len(s) - 1\n",
    "\n",
    "    while l < h:\n",
    "        if s[l] != s[h]:\n",
    "            return False\n",
    "        l += 1\n",
    "        h -= 1\n",
    "    return True\n",
    "\n",
    "str = input('Enter a string: ')\n",
    "if is_palindrome(str):\n",
    "    print(f'\"{str}\" is a palindrome.')\n",
    "else:\n",
    "    print(f'\"{str}\" is not a palindrome.')"
   ]
  },
  {
   "cell_type": "markdown",
   "id": "6aba3a74-2463-4096-972a-6023bab5df6d",
   "metadata": {},
   "source": [
    "104. Even or Odd Checker: Write a Python function called `even_or_odd` that takes an integer as input and returns “Even” if the number is even and “Odd” if the number is odd. Test the function with different numbers."
   ]
  },
  {
   "cell_type": "code",
   "execution_count": 4,
   "id": "99f59d18-ecd6-4729-be57-753b50f7037e",
   "metadata": {},
   "outputs": [
    {
     "name": "stdin",
     "output_type": "stream",
     "text": [
      "Enter a number:  23\n"
     ]
    },
    {
     "name": "stdout",
     "output_type": "stream",
     "text": [
      "Odd\n"
     ]
    }
   ],
   "source": [
    "def even_or_odd(num):\n",
    "    if num % 2 == 0:\n",
    "        return \"Even\"\n",
    "    else:\n",
    "        return \"Odd\"\n",
    "\n",
    "num = int(input(\"Enter a number: \"))\n",
    "result = even_or_odd(num)\n",
    "print(result)"
   ]
  },
  {
   "cell_type": "markdown",
   "id": "3cc30e25-b610-4614-a554-cdf6d3b5ffa5",
   "metadata": {},
   "source": [
    "105. List Sum Calculator: Write a Python function called `list_sum` that takes a list of integers as input and returns the sum of all elements in the list. Test the function with different lists."
   ]
  },
  {
   "cell_type": "code",
   "execution_count": 6,
   "id": "77e85739-b133-4d2f-b848-01f651655f80",
   "metadata": {},
   "outputs": [
    {
     "name": "stdout",
     "output_type": "stream",
     "text": [
      "55\n"
     ]
    }
   ],
   "source": [
    "def list_sum(lst):\n",
    "    sum = 0\n",
    "    for i in range(0, len(lst)):\n",
    "        sum += lst[i]\n",
    "    return sum\n",
    "\n",
    "List1 = [1, 2, 3, 4, 5, 6, 7, 8, 9, 10]\n",
    "result = list_sum(List1)\n",
    "print(result)"
   ]
  },
  {
   "cell_type": "markdown",
   "id": "213dc336-0eb1-40d5-9049-e225dda6f75a",
   "metadata": {},
   "source": [
    "106. Greatest Common Divisor (GCD) Calculator: Write a Python function called `gcd` that takes two integers as input and returns their greatest common divisor. Test the function with different pairs of numbers."
   ]
  },
  {
   "cell_type": "code",
   "execution_count": 7,
   "id": "1b6214d1-1184-45e6-8398-6b0a652aece4",
   "metadata": {},
   "outputs": [
    {
     "name": "stdout",
     "output_type": "stream",
     "text": [
      "GCD  is 5\n"
     ]
    }
   ],
   "source": [
    "def gcd(a, b):\n",
    "    # Base case\n",
    "    if b == 0:\n",
    "        return a\n",
    "    return gcd(b, a % b)\n",
    "\n",
    "a = 10\n",
    "b = 5\n",
    "result = gcd(a, b)\n",
    "print(f'GCD  is {result}')"
   ]
  },
  {
   "cell_type": "markdown",
   "id": "2bc78761-d620-40f0-a039-e759608b7c2b",
   "metadata": {},
   "source": [
    "LCM"
   ]
  },
  {
   "cell_type": "code",
   "execution_count": 8,
   "id": "f423f1d2-02f5-4d04-9e70-a9f17c209f1e",
   "metadata": {},
   "outputs": [
    {
     "name": "stdout",
     "output_type": "stream",
     "text": [
      "The LCM is 10.\n"
     ]
    }
   ],
   "source": [
    "def gcd(a, b):\n",
    "    # Base case\n",
    "    if b == 0:\n",
    "        return a\n",
    "    return gcd(b, a % b)\n",
    "\n",
    "def lcm(a, b):\n",
    "    return abs(a * b) // gcd(a, b)\n",
    "\n",
    "a = 10\n",
    "b = 5\n",
    "result = lcm(a, b)\n",
    "print(f'The LCM is {result}.')"
   ]
  },
  {
   "cell_type": "markdown",
   "id": "e6e05d1c-cc47-4de8-b4eb-0318a0e6d3ef",
   "metadata": {},
   "source": [
    "107. Leap Year Checker: Write a Python function called `is_leap_year` that takes a year as input and returns `True` if it is a leap year and `False` otherwise. Test the function with different years."
   ]
  },
  {
   "cell_type": "code",
   "execution_count": 9,
   "id": "9e93e4f0-176c-4143-87d9-919549743240",
   "metadata": {},
   "outputs": [
    {
     "name": "stdin",
     "output_type": "stream",
     "text": [
      "Enter a Year: 2024\n"
     ]
    },
    {
     "name": "stdout",
     "output_type": "stream",
     "text": [
      "True\n"
     ]
    }
   ],
   "source": [
    "def is_leap_year(year):\n",
    "    if (year % 4 == 0 and year % 100 != 0) or (year % 400 == 0):\n",
    "        return True\n",
    "    else:\n",
    "        return False\n",
    "\n",
    "year = int(input(\"Enter a Year:\"))\n",
    "result = is_leap_year(year)\n",
    "print(result)"
   ]
  },
  {
   "cell_type": "code",
   "execution_count": null,
   "id": "1c68821c-ddc0-454d-a3d9-02ccc1ea5ed4",
   "metadata": {},
   "outputs": [],
   "source": []
  }
 ],
 "metadata": {
  "kernelspec": {
   "display_name": "Python 3 (ipykernel)",
   "language": "python",
   "name": "python3"
  },
  "language_info": {
   "codemirror_mode": {
    "name": "ipython",
    "version": 3
   },
   "file_extension": ".py",
   "mimetype": "text/x-python",
   "name": "python",
   "nbconvert_exporter": "python",
   "pygments_lexer": "ipython3",
   "version": "3.11.8"
  }
 },
 "nbformat": 4,
 "nbformat_minor": 5
}

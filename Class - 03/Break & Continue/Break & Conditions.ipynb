{
 "cells": [
  {
   "cell_type": "markdown",
   "id": "c33ca811-8333-45ca-b731-5112a01bfa2b",
   "metadata": {},
   "source": [
    "# Break & Conditions"
   ]
  },
  {
   "cell_type": "markdown",
   "id": "c936728a-0097-421c-b5f9-e142d85e7c52",
   "metadata": {},
   "source": [
    "92. Prime Number Checker: Write a Python program that takes a number as input and determines if it is a prime number or not. Use a `for` loop to check for factors. If a factor is found, `break` out of the loop."
   ]
  },
  {
   "cell_type": "code",
   "execution_count": 6,
   "id": "9c76fbc4-7c74-452f-a150-af36c0009dff",
   "metadata": {},
   "outputs": [
    {
     "name": "stdin",
     "output_type": "stream",
     "text": [
      "Enter a number:  7\n"
     ]
    },
    {
     "name": "stdout",
     "output_type": "stream",
     "text": [
      "7 is a prime number.\n"
     ]
    }
   ],
   "source": [
    "def is_prime(num):\n",
    "    if num <= 1:\n",
    "        return False\n",
    "\n",
    "    flag = True\n",
    "    for i in range(2, int(num ** 0.5) + 1):\n",
    "        if num % i == 0:\n",
    "            flag = False\n",
    "            break\n",
    "    \n",
    "    return flag\n",
    "\n",
    "num = int(input(\"Enter a number: \"))\n",
    "if is_prime(num):\n",
    "    print(f\"{num} is a prime number.\")\n",
    "else:\n",
    "    print(f\"{num} is not a prime number.\")"
   ]
  },
  {
   "cell_type": "markdown",
   "id": "3a116380-4f4b-489e-bae5-786b15d9b9f2",
   "metadata": {},
   "source": [
    "93. Even Number Printer: Write a Python program to print all even numbers from 1 to 20. Use a `for` loop and `continue` to skip odd numbers."
   ]
  },
  {
   "cell_type": "code",
   "execution_count": 7,
   "id": "05836c79-c72c-424b-92af-9b53ab238671",
   "metadata": {},
   "outputs": [
    {
     "name": "stdin",
     "output_type": "stream",
     "text": [
      "Enter a number: 20\n"
     ]
    },
    {
     "name": "stdout",
     "output_type": "stream",
     "text": [
      "2\n",
      "4\n",
      "6\n",
      "8\n",
      "10\n",
      "12\n",
      "14\n",
      "16\n",
      "18\n"
     ]
    }
   ],
   "source": [
    "n = int(input(\"Enter a number:\"))\n",
    "\n",
    "for i in range(1, n):\n",
    "    if i % 2 != 0:\n",
    "        continue\n",
    "    else:\n",
    "        print(i)"
   ]
  },
  {
   "cell_type": "markdown",
   "id": "d9049326-65f8-43bd-a2bf-cbb32a6ddfdf",
   "metadata": {},
   "source": [
    "94. Password Validator: Write a Python program that takes a password as input and checks if it meets the following criteria: at least 8 characters long, contains both uppercase and lowercase letters, and has at least one digit. If the password is valid, print “Password accepted.” If not, use `continue` to prompt the user to enter a valid password."
   ]
  },
  {
   "cell_type": "code",
   "execution_count": 8,
   "id": "cb95d097-8e61-4b60-a7ce-484529dc248e",
   "metadata": {},
   "outputs": [
    {
     "name": "stdin",
     "output_type": "stream",
     "text": [
      "Enter a password:  3Ad45sfdos\n"
     ]
    },
    {
     "name": "stdout",
     "output_type": "stream",
     "text": [
      "Password accepted.\n"
     ]
    }
   ],
   "source": [
    "def check_validate_password(password):\n",
    "    if len(password) < 8:\n",
    "        return False\n",
    "\n",
    "    has_upper = any(char.isupper() for char in password)\n",
    "    has_lower = any(char.islower() for char in password)\n",
    "    has_digit = any(char.isdigit() for char in password)\n",
    "\n",
    "    return has_upper and has_lower and has_digit\n",
    "\n",
    "while True:\n",
    "    password = input(\"Enter a password: \")\n",
    "\n",
    "    if check_validate_password(password):\n",
    "        print(\"Password accepted.\")\n",
    "        break\n",
    "    else:\n",
    "        print(\"Invalid password. Please enter a valid password.\")\n",
    "        continue"
   ]
  },
  {
   "cell_type": "code",
   "execution_count": 9,
   "id": "b7eb40c6-e3db-40cb-a41b-7b2d66e81ab7",
   "metadata": {},
   "outputs": [
    {
     "name": "stdin",
     "output_type": "stream",
     "text": [
      "Enter a password:  23Adsflrf\n"
     ]
    },
    {
     "name": "stdout",
     "output_type": "stream",
     "text": [
      "Password accepted.\n"
     ]
    }
   ],
   "source": [
    "def validate_password(password):\n",
    "    has_upper = False\n",
    "    has_lower = False\n",
    "    has_digit = False\n",
    "\n",
    "    for char in password:\n",
    "        if char.isupper():\n",
    "            has_upper = True\n",
    "        elif char.islower():\n",
    "            has_lower = True\n",
    "        elif char.isdigit():\n",
    "            has_digit = True\n",
    "        if has_upper and has_lower and has_digit:\n",
    "            break\n",
    "\n",
    "    return len(password) >= 8 and has_upper and has_lower and has_digit\n",
    "\n",
    "while True:\n",
    "    password = input(\"Enter a password: \")\n",
    "\n",
    "    if validate_password(password):\n",
    "        print(\"Password accepted.\")\n",
    "        break\n",
    "    else:\n",
    "        print(\"Invalid password. Please enter a valid password.\")\n",
    "        continue"
   ]
  },
  {
   "cell_type": "markdown",
   "id": "4073a11c-a547-4f08-b28d-3a08fee521a4",
   "metadata": {},
   "source": [
    "95. Divisible by 3 or 5: Write a Python program to print all numbers from 1 to 50 that are divisible by either 3 or 5. Use a `for` loop and `continue` to skip numbers that are not divisible by either 3 or 5."
   ]
  },
  {
   "cell_type": "code",
   "execution_count": 10,
   "id": "8fdb5063-0ea0-4759-bb50-887478c927cd",
   "metadata": {},
   "outputs": [
    {
     "name": "stdin",
     "output_type": "stream",
     "text": [
      "Enter the Number: 50\n"
     ]
    },
    {
     "name": "stdout",
     "output_type": "stream",
     "text": [
      "15\n",
      "30\n",
      "45\n"
     ]
    }
   ],
   "source": [
    "n = int(input(\"Enter the Number:\"))\n",
    "\n",
    "for i in range(1, n):\n",
    "    if i % 3 == 0 and i % 5 == 0:\n",
    "        print(i)\n",
    "    else:\n",
    "        continue"
   ]
  },
  {
   "cell_type": "markdown",
   "id": "54041e6a-c93c-48a8-b008-78dc308fe51e",
   "metadata": {},
   "source": [
    "96. Positive Number Sum: Write a Python program that takes positive numbers as input until a negative number is entered. Then, calculate and print the sum of all positive numbers entered. Use a `while` loop and `break` to exit the loop when a negative number is encountered."
   ]
  },
  {
   "cell_type": "code",
   "execution_count": 12,
   "id": "f1670d5f-e123-4421-8dba-0be87b671ee0",
   "metadata": {},
   "outputs": [
    {
     "name": "stdin",
     "output_type": "stream",
     "text": [
      "Enter a positive number:  20\n",
      "Enter a positive number:  30\n",
      "Enter a positive number:  4\n",
      "Enter a positive number:  2\n",
      "Enter a positive number:  4\n",
      "Enter a positive number:  41\n",
      "Enter a positive number:  -6\n"
     ]
    },
    {
     "name": "stdout",
     "output_type": "stream",
     "text": [
      "The sum of all positive numbers is: 101\n"
     ]
    }
   ],
   "source": [
    "sum = 0\n",
    "\n",
    "while True:\n",
    "    num = int(input(\"Enter a positive number: \"))\n",
    "    if num < 0:\n",
    "        break \n",
    "    \n",
    "    sum += num\n",
    "\n",
    "print(f\"The sum of all positive numbers is: {sum}\")"
   ]
  },
  {
   "cell_type": "markdown",
   "id": "4bc7d4ae-62ec-4295-9bf7-ec3395995526",
   "metadata": {},
   "source": [
    "97. Word Palindrome Checker: Write a Python program that takes a word as input and checks if it is a palindrome (reads the same forwards and backward). Use `continue` to skip checking the word if its length is less than 3 characters."
   ]
  },
  {
   "cell_type": "code",
   "execution_count": 1,
   "id": "142ac66b-65e3-4964-b197-a11704d34cf5",
   "metadata": {},
   "outputs": [
    {
     "name": "stdin",
     "output_type": "stream",
     "text": [
      "Enter a string:  dfkgk\n"
     ]
    },
    {
     "name": "stdout",
     "output_type": "stream",
     "text": [
      "\"dfkgk\" is not a palindrome.\n"
     ]
    }
   ],
   "source": [
    "def is_palindrome(s):\n",
    "    if len(s) < 3:\n",
    "        print(\"Word is too short to be a palindrome. Please enter a word with at least 3 characters.\")\n",
    "        return False\n",
    "\n",
    "    l = 0\n",
    "    h = len(s) - 1\n",
    "\n",
    "    while l < h:\n",
    "        if s[l] != s[h]:\n",
    "            return False\n",
    "        l += 1\n",
    "        h -= 1\n",
    "    return True\n",
    "\n",
    "# Input from user\n",
    "string = input('Enter a string: ')\n",
    "if is_palindrome(string):\n",
    "    print(f'\"{string}\" is a palindrome.')\n",
    "else:\n",
    "    print(f'\"{string}\" is not a palindrome.')"
   ]
  },
  {
   "cell_type": "markdown",
   "id": "92dbb838-8c14-4d01-8534-0e4fa0b24233",
   "metadata": {},
   "source": [
    "98. Odd Number Finder: Write a Python program to find the first odd number from a list of integers. Use a `for` loop and `break` to stop the loop when the first odd number is found."
   ]
  },
  {
   "cell_type": "code",
   "execution_count": 4,
   "id": "0b353dfd-1ff9-4044-8b0d-40236ad4838d",
   "metadata": {},
   "outputs": [
    {
     "name": "stdout",
     "output_type": "stream",
     "text": [
      "The first odd number in the list is: 11\n"
     ]
    }
   ],
   "source": [
    "def find_first_odd(numbers):\n",
    "    for num in numbers:\n",
    "        if num % 2 != 0:  \n",
    "            return num\n",
    "    return None  \n",
    "\n",
    "\n",
    "num = [2, 4, 6, 8, 10, 11, 14, 16]\n",
    "first_odd = find_first_odd(num)\n",
    "\n",
    "if first_odd is not None:\n",
    "    print(f\"The first odd number in the list is: {first_odd}\")\n",
    "else:\n",
    "    print(\"There is no odd number in the list.\")"
   ]
  },
  {
   "cell_type": "markdown",
   "id": "5467c1d6-233f-4620-afaf-8c6826e3458e",
   "metadata": {},
   "source": [
    "99. Number Guessing Game: Write a Python program that generates a random number between 1 and 100 and lets the user guess the number. Use a `while` loop, `break` when the correct number is guessed, and `continue` to keep prompting the user until they guess correctly."
   ]
  },
  {
   "cell_type": "code",
   "execution_count": null,
   "id": "248d8fa5-59f9-4196-bf11-fd6c30b7a5c5",
   "metadata": {},
   "outputs": [
    {
     "name": "stdin",
     "output_type": "stream",
     "text": [
      "Guess the number:  25\n"
     ]
    },
    {
     "name": "stdout",
     "output_type": "stream",
     "text": [
      "Too low! Try again.\n"
     ]
    },
    {
     "name": "stdin",
     "output_type": "stream",
     "text": [
      "Guess the number:  11\n"
     ]
    },
    {
     "name": "stdout",
     "output_type": "stream",
     "text": [
      "Too low! Try again.\n"
     ]
    },
    {
     "name": "stdin",
     "output_type": "stream",
     "text": [
      "Guess the number:  98\n"
     ]
    },
    {
     "name": "stdout",
     "output_type": "stream",
     "text": [
      "Too high! Try again.\n"
     ]
    },
    {
     "name": "stdin",
     "output_type": "stream",
     "text": [
      "Guess the number:  100\n"
     ]
    },
    {
     "name": "stdout",
     "output_type": "stream",
     "text": [
      "Too high! Try again.\n"
     ]
    }
   ],
   "source": [
    "import random\n",
    "target = random.randint(1, 100)\n",
    "flag = False\n",
    "\n",
    "while True:\n",
    "    if not flag:\n",
    "        guess = int(input(\"Guess the number: \"))\n",
    "       \n",
    "        if guess == target:\n",
    "            print(\"Congratulations! You guessed the correct number.\")\n",
    "            break \n",
    "        elif guess < target:\n",
    "            print(\"Too low! Try again.\")\n",
    "        else:\n",
    "            print(\"Too high! Try again.\")\n",
    "\n",
    "    else:\n",
    "        break"
   ]
  },
  {
   "cell_type": "code",
   "execution_count": null,
   "id": "2e7be16a-735a-4e53-ac12-47e5d60d257b",
   "metadata": {},
   "outputs": [],
   "source": []
  }
 ],
 "metadata": {
  "kernelspec": {
   "display_name": "Python 3 (ipykernel)",
   "language": "python",
   "name": "python3"
  },
  "language_info": {
   "codemirror_mode": {
    "name": "ipython",
    "version": 3
   },
   "file_extension": ".py",
   "mimetype": "text/x-python",
   "name": "python",
   "nbconvert_exporter": "python",
   "pygments_lexer": "ipython3",
   "version": "3.11.8"
  }
 },
 "nbformat": 4,
 "nbformat_minor": 5
}

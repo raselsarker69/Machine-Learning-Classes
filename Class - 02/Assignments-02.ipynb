{
 "cells": [
  {
   "cell_type": "markdown",
   "id": "6bcc4b29-9c1f-4b86-9277-e91fb77c097b",
   "metadata": {},
   "source": [
    "Variables"
   ]
  },
  {
   "cell_type": "code",
   "execution_count": 1,
   "id": "cfda7ecd-5237-4e8f-b167-487e3ac153bb",
   "metadata": {},
   "outputs": [
    {
     "name": "stdout",
     "output_type": "stream",
     "text": [
      "(7, 5)\n"
     ]
    }
   ],
   "source": [
    "def swap(a, b):\n",
    "    return b, a\n",
    "\n",
    "a = 5\n",
    "b = 7\n",
    "result = swap(a, b)\n",
    "print(result)"
   ]
  },
  {
   "cell_type": "code",
   "execution_count": 2,
   "id": "a42df0d6-5e03-46aa-a628-bed73ae60e12",
   "metadata": {},
   "outputs": [
    {
     "name": "stdout",
     "output_type": "stream",
     "text": [
      "a: 10\n",
      "b: 55\n"
     ]
    }
   ],
   "source": [
    "a = 55\n",
    "b = 10\n",
    "a, b = b, a\n",
    "print(\"a:\",\"b:\", b, a)"
   ]
  },
  {
   "cell_type": "markdown",
   "id": "a5c435f9-036d-4cfc-b71a-d4ed9b6fcc05",
   "metadata": {},
   "source": [
    "Area of a rectangle"
   ]
  },
  {
   "cell_type": "code",
   "execution_count": 3,
   "id": "68f3af42-33e2-4a42-9846-4d60ad2a4595",
   "metadata": {},
   "outputs": [
    {
     "name": "stdout",
     "output_type": "stream",
     "text": [
      "50\n"
     ]
    }
   ],
   "source": [
    "l = 10\n",
    "w = 5\n",
    "\n",
    "area = l * w\n",
    "print(area)"
   ]
  },
  {
   "cell_type": "markdown",
   "id": "d73ede88-9156-41d0-85c5-34560dc6faa2",
   "metadata": {},
   "source": [
    "Converts temperature from Fahrenheit to Celsius."
   ]
  },
  {
   "cell_type": "code",
   "execution_count": 4,
   "id": "644a7d7e-d2c1-4126-b9dc-136ec3e979fc",
   "metadata": {},
   "outputs": [
    {
     "name": "stdout",
     "output_type": "stream",
     "text": [
      "212.0\n"
     ]
    }
   ],
   "source": [
    "C = 100\n",
    "\n",
    "F = (C * 9) / 5 + 32\n",
    "print(F)"
   ]
  },
  {
   "cell_type": "markdown",
   "id": "8677dbf2-f321-49f4-8d15-bcba1aa0843e",
   "metadata": {},
   "source": [
    "Converts temperature from Celsius to Fahrenheit."
   ]
  },
  {
   "cell_type": "code",
   "execution_count": 5,
   "id": "ea1cd27e-7c9d-4dad-a7a3-7ed56534b7ac",
   "metadata": {},
   "outputs": [
    {
     "name": "stdout",
     "output_type": "stream",
     "text": [
      "147.77777777777777\n"
     ]
    }
   ],
   "source": [
    "F = 298\n",
    "\n",
    "C = (F - 32) * 5 /9\n",
    "print(C)"
   ]
  },
  {
   "cell_type": "code",
   "execution_count": 6,
   "id": "d7accd78-3378-41fd-b6c5-900560b62c72",
   "metadata": {},
   "outputs": [
    {
     "name": "stdout",
     "output_type": "stream",
     "text": [
      "523.8095\n"
     ]
    }
   ],
   "source": [
    "r = 5\n",
    "\n",
    "v = (4 / 3)*  (22 / 7) * r * r * r\n",
    "v = round(v, 4) \n",
    "print(v)"
   ]
  },
  {
   "cell_type": "markdown",
   "id": "2dcbc809-2c73-4aa9-b195-0a0b2f1ed2cb",
   "metadata": {},
   "source": [
    "average calculate"
   ]
  },
  {
   "cell_type": "code",
   "execution_count": 7,
   "id": "fe0b890b-ae0f-49ae-a3a4-e2317a2a782d",
   "metadata": {},
   "outputs": [
    {
     "name": "stdout",
     "output_type": "stream",
     "text": [
      "Average = {avg}\n"
     ]
    }
   ],
   "source": [
    "num1 = 10\n",
    "num2 = 20\n",
    "num3 = 30\n",
    "\n",
    "sum = num1 + num2 + num3\n",
    "avg = sum / 3\n",
    "print(\"Average = {avg}\")"
   ]
  },
  {
   "cell_type": "code",
   "execution_count": 12,
   "id": "bccd3cbe-aa46-491a-a8aa-7f7d7f55c78e",
   "metadata": {},
   "outputs": [
    {
     "name": "stdout",
     "output_type": "stream",
     "text": [
      "The average is 20.0.\n"
     ]
    }
   ],
   "source": [
    "def Average(*nums):\n",
    "    total_sum = sum(nums)  \n",
    "    avg = total_sum / len(nums)\n",
    "    return avg\n",
    "\n",
    "a = 10\n",
    "b = 20\n",
    "c = 30\n",
    "avg = Average(a, b, c)\n",
    "print(f'The average is {avg}.')"
   ]
  },
  {
   "cell_type": "code",
   "execution_count": 10,
   "id": "3d7fc3eb-b622-4691-a4db-fe458f8c2f39",
   "metadata": {},
   "outputs": [
    {
     "name": "stdout",
     "output_type": "stream",
     "text": [
      "5 is positive number\n"
     ]
    }
   ],
   "source": [
    "n = 5\n",
    "\n",
    "if n == 0:\n",
    "    print(f'{n} is Zero')\n",
    "elif n > 0:\n",
    "    print(f'{n} is positive number')\n",
    "else:\n",
    "    print(f'{n} is Negative number')"
   ]
  },
  {
   "cell_type": "code",
   "execution_count": null,
   "id": "d3f2c05c-7651-4c3d-bc42-f5bef53940ec",
   "metadata": {},
   "outputs": [],
   "source": []
  },
  {
   "cell_type": "markdown",
   "id": "7f3c2c6d-8fd8-48fb-b196-4801eac19161",
   "metadata": {},
   "source": [
    "If-elif-else"
   ]
  },
  {
   "cell_type": "markdown",
   "id": "494869ff-673e-49a7-9060-88de94d95973",
   "metadata": {},
   "source": [
    "Even or ODD"
   ]
  },
  {
   "cell_type": "code",
   "execution_count": 11,
   "id": "fd55bc0c-be82-45be-adec-8c2c6fc2fca5",
   "metadata": {},
   "outputs": [
    {
     "name": "stdout",
     "output_type": "stream",
     "text": [
      "22 is Even number\n"
     ]
    }
   ],
   "source": [
    "num = 22\n",
    "\n",
    "if num % 2 == 0:\n",
    "    print(f'{num} is Even number')\n",
    "else:\n",
    "    print(f'{num} is ODD number')"
   ]
  },
  {
   "cell_type": "markdown",
   "id": "f27f00ed-ecf0-4bb5-b4e3-fa1c2a2186bc",
   "metadata": {},
   "source": [
    "finds the maximum"
   ]
  },
  {
   "cell_type": "code",
   "execution_count": 12,
   "id": "645118fd-fd9b-4f19-bc0b-64fe86234bbe",
   "metadata": {},
   "outputs": [
    {
     "name": "stdout",
     "output_type": "stream",
     "text": [
      "30 is maximum\n"
     ]
    }
   ],
   "source": [
    "num1 = 10\n",
    "num2 = 20\n",
    "num3 = 30\n",
    "\n",
    "if num1 > num2 | num1 > num3:\n",
    "    print(f'{num1} is maximum')\n",
    "elif num2 > num1 | num2 > num3:\n",
    "    print(f'{num2} is maximum')\n",
    "else:\n",
    "    print(f'{num3} is maximum')"
   ]
  },
  {
   "cell_type": "markdown",
   "id": "19a3e5c9-f19b-4ccc-8c9d-5ae80a2f4e05",
   "metadata": {},
   "source": [
    "Leap year checking"
   ]
  },
  {
   "cell_type": "code",
   "execution_count": 14,
   "id": "ac529c0c-0778-4ad8-86d9-f39f3bb37d55",
   "metadata": {},
   "outputs": [
    {
     "name": "stdout",
     "output_type": "stream",
     "text": [
      "2001 is not a leap year\n"
     ]
    }
   ],
   "source": [
    "def checkYear(year):\n",
    "    if (year % 4 == 0 and year % 100 != 0) or (year % 400 == 0):\n",
    "        return f'{year} is a leap year'\n",
    "    else:\n",
    "        return f'{year} is not a leap year'\n",
    "\n",
    "year = 2001\n",
    "result = checkYear(year)\n",
    "print(result)"
   ]
  },
  {
   "cell_type": "code",
   "execution_count": 14,
   "id": "6bcc8aa7-9c75-4bfd-9932-4896576cb562",
   "metadata": {},
   "outputs": [
    {
     "name": "stdout",
     "output_type": "stream",
     "text": [
      "2024 is a leap year\n"
     ]
    }
   ],
   "source": [
    "year = 2024\n",
    "\n",
    "if (year % 4 == 0 and year % 100 != 0) or (year % 400 == 0):\n",
    "    print(f'{year} is a leap year')\n",
    "else:\n",
    "    print(f'{year} is not a leap year')"
   ]
  },
  {
   "cell_type": "markdown",
   "id": "2b554075-1cb2-4f50-badc-1c369273a6f0",
   "metadata": {},
   "source": [
    "Grade based percentage"
   ]
  },
  {
   "cell_type": "code",
   "execution_count": 15,
   "id": "0b1e8203-2758-4f87-833a-16da39f9af41",
   "metadata": {},
   "outputs": [
    {
     "name": "stdout",
     "output_type": "stream",
     "text": [
      "Enter the percentage:  90\n"
     ]
    },
    {
     "name": "stdout",
     "output_type": "stream",
     "text": [
      "The grade for 90.0% is A.\n"
     ]
    }
   ],
   "source": [
    "def calculate_grade(percentage):\n",
    "    if percentage >= 80:\n",
    "        return 'A'\n",
    "    elif percentage >= 70:\n",
    "        return 'B'\n",
    "    elif percentage >= 60:\n",
    "        return 'C'\n",
    "    elif percentage >= 50:\n",
    "        return 'D'\n",
    "    elif percentage >= 40:\n",
    "        return 'E'\n",
    "    else:\n",
    "        return 'F'\n",
    "\n",
    "percentage = float(input(\"Enter the percentage: \"))\n",
    "grade = calculate_grade(percentage)\n",
    "print(f'The grade for {percentage}% is {grade}.')"
   ]
  },
  {
   "cell_type": "markdown",
   "id": "38f649b6-92bd-4c0b-9475-698180e677bb",
   "metadata": {},
   "source": [
    "For Loop"
   ]
  },
  {
   "cell_type": "markdown",
   "id": "dcd8f6ad-c2a4-4994-aa20-fd3cc9a945c6",
   "metadata": {},
   "source": [
    "1.the first `n` natural numbers."
   ]
  },
  {
   "cell_type": "code",
   "execution_count": 16,
   "id": "645c70da-96b5-4d13-adaf-481222f1356a",
   "metadata": {},
   "outputs": [
    {
     "name": "stdout",
     "output_type": "stream",
     "text": [
      "Please enter the num: 23\n"
     ]
    },
    {
     "name": "stdout",
     "output_type": "stream",
     "text": [
      "1 2 3 4 5 6 7 8 9 10 11 12 13 14 15 16 17 18 19 20 21 22 23 "
     ]
    }
   ],
   "source": [
    "num = int(input(\"Please enter the num:\"))\n",
    "for i in range(1, num + 1):\n",
    "    print(i, end = ' ')"
   ]
  },
  {
   "cell_type": "markdown",
   "id": "28337cca-1f6f-4832-b2ce-ba69e4033b54",
   "metadata": {},
   "source": [
    "2.factorial of a number."
   ]
  },
  {
   "cell_type": "code",
   "execution_count": 17,
   "id": "d450f580-f7b3-45c4-864e-3219feff83e2",
   "metadata": {},
   "outputs": [
    {
     "name": "stdout",
     "output_type": "stream",
     "text": [
      "720\n"
     ]
    }
   ],
   "source": [
    "def factorial(n):\n",
    "    if n < 0:\n",
    "        return 0 \n",
    "    elif n == 0 or n == 1:\n",
    "        return 1  \n",
    "    else:\n",
    "        fact = 1\n",
    "        while n > 1:\n",
    "            fact *= n\n",
    "            n -= 1\n",
    "        return fact\n",
    "\n",
    "num = 6\n",
    "result = factorial(num)\n",
    "print(result) "
   ]
  },
  {
   "cell_type": "markdown",
   "id": "c1fe97d6-d43b-4e1d-b30a-0e51c14ce0c7",
   "metadata": {},
   "source": [
    "3.Fibonacci sequence"
   ]
  },
  {
   "cell_type": "code",
   "execution_count": 18,
   "id": "a3df011d-827f-4d07-ba18-26d2dc25c2a8",
   "metadata": {},
   "outputs": [
    {
     "name": "stdout",
     "output_type": "stream",
     "text": [
      "5\n"
     ]
    }
   ],
   "source": [
    "def fibonacci(n):\n",
    "    a, b = 0, 1\n",
    "    for i in range(2, n+1):\n",
    "           a, b = b, a + b\n",
    "    return b\n",
    "\n",
    "num = 5\n",
    "result = fibonacci(num)\n",
    "print(result) "
   ]
  },
  {
   "cell_type": "markdown",
   "id": "433ad8e3-72da-4789-9255-0b4769c9b973",
   "metadata": {},
   "source": [
    "4.Prime number checking"
   ]
  },
  {
   "cell_type": "code",
   "execution_count": 19,
   "id": "2b1684c9-1661-4138-aac9-afac0323c1de",
   "metadata": {},
   "outputs": [
    {
     "name": "stdout",
     "output_type": "stream",
     "text": [
      "20 is not a prime number\n"
     ]
    }
   ],
   "source": [
    "num = 20\n",
    "flag = False\n",
    "\n",
    "if num == 0 or num == 1:\n",
    "    print(num, \"is not a prime number\")\n",
    "else:\n",
    "    for i in range(2, num):\n",
    "        if (num % i) == 0:\n",
    "            flag = True\n",
    "            break\n",
    "\n",
    "if flag:\n",
    "    print(num, \"is not a prime number\")\n",
    "else:\n",
    "    print(num, \"is a prime number\")"
   ]
  },
  {
   "cell_type": "markdown",
   "id": "a1746e47-321e-49e9-b71b-f4894dd3b988",
   "metadata": {},
   "source": [
    "5. Multiplication table"
   ]
  },
  {
   "cell_type": "code",
   "execution_count": 20,
   "id": "258d4563-c987-46ea-afce-db3114f345c6",
   "metadata": {},
   "outputs": [
    {
     "name": "stdout",
     "output_type": "stream",
     "text": [
      "10 x 1 = 10\n",
      "10 x 2 = 20\n",
      "10 x 3 = 30\n",
      "10 x 4 = 40\n",
      "10 x 5 = 50\n",
      "10 x 6 = 60\n",
      "10 x 7 = 70\n",
      "10 x 8 = 80\n",
      "10 x 9 = 90\n",
      "10 x 10 = 100\n"
     ]
    }
   ],
   "source": [
    "num = 10\n",
    "\n",
    "for i in range(1, 11):\n",
    "    print(num, 'x', i, '=', num*i)"
   ]
  },
  {
   "cell_type": "markdown",
   "id": "fa653340-9b7b-4200-913c-23080ee2c346",
   "metadata": {},
   "source": [
    "While Loop"
   ]
  },
  {
   "cell_type": "markdown",
   "id": "e8c7465e-5342-460e-a216-0c929d71159d",
   "metadata": {},
   "source": [
    "16.Finds the sum of all even numbers between 1 and `n`."
   ]
  },
  {
   "cell_type": "code",
   "execution_count": 21,
   "id": "47c9358e-0e82-492c-96f8-2157e4e5c21c",
   "metadata": {},
   "outputs": [
    {
     "name": "stdout",
     "output_type": "stream",
     "text": [
      "Enter number:  10\n"
     ]
    },
    {
     "name": "stdout",
     "output_type": "stream",
     "text": [
      "The sum of all even numbers is 30.\n"
     ]
    }
   ],
   "source": [
    "def even_sum(n):\n",
    "    sum = 0\n",
    "    count = 2\n",
    "    while count <= n:\n",
    "        sum += count\n",
    "        count += 2\n",
    "    return sum\n",
    "\n",
    "n = int(input(\"Enter number: \"))\n",
    "result = even_sum(n)\n",
    "print(f'The sum of all even numbers is {result}.')"
   ]
  },
  {
   "cell_type": "code",
   "execution_count": 22,
   "id": "8d74bf83-b6a8-4f3b-b448-c6035654efde",
   "metadata": {},
   "outputs": [
    {
     "name": "stdout",
     "output_type": "stream",
     "text": [
      "Enter a number:  10\n"
     ]
    },
    {
     "name": "stdout",
     "output_type": "stream",
     "text": [
      "sum of all even number 30\n"
     ]
    }
   ],
   "source": [
    "num = int(input(\"Enter a number: \"))\n",
    "sum = 0\n",
    "count = 2\n",
    "\n",
    "while count <= num:\n",
    "    sum += count\n",
    "    count += 2\n",
    "\n",
    "print(f'sum of all even number {sum}')"
   ]
  },
  {
   "cell_type": "markdown",
   "id": "569f649e-5865-4ecd-abd0-89ea9b46c2fc",
   "metadata": {},
   "source": [
    "Reverses number"
   ]
  },
  {
   "cell_type": "code",
   "execution_count": 23,
   "id": "f25c15bb-5e8a-449b-aac3-6949910b3781",
   "metadata": {},
   "outputs": [
    {
     "name": "stdout",
     "output_type": "stream",
     "text": [
      "Enter a number:  54321\n"
     ]
    },
    {
     "name": "stdout",
     "output_type": "stream",
     "text": [
      "Reversed number is 12345.\n"
     ]
    }
   ],
   "source": [
    "num = int(input(\"Enter a number: \"))\n",
    "reverse = 0\n",
    "\n",
    "while num > 0:\n",
    "    n = num % 10 \n",
    "    reverse = reverse * 10 + n  \n",
    "    num = num // 10  \n",
    "\n",
    "print(f\"Reversed number is {reverse}.\")"
   ]
  },
  {
   "cell_type": "markdown",
   "id": "9ba40172-6b9c-4d39-95ea-0bb2c1ad916a",
   "metadata": {},
   "source": [
    "18.String palindrome."
   ]
  },
  {
   "cell_type": "code",
   "execution_count": 1,
   "id": "14816c8d-4664-45c7-99eb-959a347cefbe",
   "metadata": {},
   "outputs": [
    {
     "name": "stdout",
     "output_type": "stream",
     "text": [
      "Enter a string:  madam\n"
     ]
    },
    {
     "name": "stdout",
     "output_type": "stream",
     "text": [
      "\"madam\" is a palindrome.\n"
     ]
    }
   ],
   "source": [
    "def is_palindrome(s):\n",
    "    l = 0\n",
    "    h = len(s) - 1\n",
    "\n",
    "    while l < h:\n",
    "        if s[l] != s[h]:\n",
    "            return False\n",
    "        l += 1\n",
    "        h -= 1\n",
    "    return True\n",
    "\n",
    "str = input('Enter a string: ')\n",
    "if is_palindrome(str):\n",
    "    print(f'\"{str}\" is a palindrome.')\n",
    "else:\n",
    "    print(f'\"{str}\" is not a palindrome.')"
   ]
  },
  {
   "cell_type": "markdown",
   "id": "1de3f7af-97da-4de4-9523-17244371d8b6",
   "metadata": {},
   "source": [
    "20. GCD"
   ]
  },
  {
   "cell_type": "code",
   "execution_count": 8,
   "id": "26db3379-beb2-498f-a1be-0bc8527158f2",
   "metadata": {},
   "outputs": [
    {
     "name": "stdout",
     "output_type": "stream",
     "text": [
      "GCD  is 5\n"
     ]
    }
   ],
   "source": [
    "def gcd(a, b):\n",
    "    # Base case\n",
    "    if b == 0:\n",
    "        return a\n",
    "    return gcd(b, a % b)\n",
    "\n",
    "a = 10\n",
    "b = 5\n",
    "result = gcd(a, b)\n",
    "print(f'GCD  is {result}')"
   ]
  },
  {
   "cell_type": "markdown",
   "id": "d4e585e4-24d5-4c11-9de0-dc6670b13947",
   "metadata": {},
   "source": [
    "LCM"
   ]
  },
  {
   "cell_type": "code",
   "execution_count": 10,
   "id": "be460ef3-0068-4869-b914-8ddb05a09412",
   "metadata": {},
   "outputs": [
    {
     "name": "stdout",
     "output_type": "stream",
     "text": [
      "The LCM of 10 and 5 is 10.\n"
     ]
    }
   ],
   "source": [
    "def gcd(a, b):\n",
    "    # Base case\n",
    "    if b == 0:\n",
    "        return a\n",
    "    return gcd(b, a % b)\n",
    "\n",
    "def lcm(a, b):\n",
    "    return abs(a * b) // gcd(a, b)\n",
    "\n",
    "a = 10\n",
    "b = 5\n",
    "result = lcm(a, b)\n",
    "print(f'The LCM is {result}.')"
   ]
  },
  {
   "cell_type": "code",
   "execution_count": null,
   "id": "f24666c5-f470-4585-bdf7-a5384578385c",
   "metadata": {},
   "outputs": [],
   "source": []
  }
 ],
 "metadata": {
  "kernelspec": {
   "display_name": "Python 3 (ipykernel)",
   "language": "python",
   "name": "python3"
  },
  "language_info": {
   "codemirror_mode": {
    "name": "ipython",
    "version": 3
   },
   "file_extension": ".py",
   "mimetype": "text/x-python",
   "name": "python",
   "nbconvert_exporter": "python",
   "pygments_lexer": "ipython3",
   "version": "3.11.8"
  }
 },
 "nbformat": 4,
 "nbformat_minor": 5
}

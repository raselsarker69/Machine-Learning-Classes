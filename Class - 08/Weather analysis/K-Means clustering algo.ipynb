{
 "cells": [
  {
   "cell_type": "code",
   "execution_count": 29,
   "id": "5bc6ca61-04e8-40a7-a7d4-6979f965b780",
   "metadata": {},
   "outputs": [],
   "source": [
    "import pandas as pd \n",
    "import numpy as np \n",
    "import seaborn as sns\n",
    "import matplotlib.pyplot as plt \n",
    "from sklearn.cluster import KMeans\n",
    "from kneed import KneeLocator as kn \n",
    "from sklearn.preprocessing import StandardScaler\n",
    "import warnings\n",
    "warnings.filterwarnings('ignore')"
   ]
  },
  {
   "cell_type": "code",
   "execution_count": 2,
   "id": "cb8a7380-3538-40ca-95a8-b6ab66f93982",
   "metadata": {},
   "outputs": [],
   "source": [
    "df = pd.read_csv('weather_dataset.csv')"
   ]
  },
  {
   "cell_type": "code",
   "execution_count": 3,
   "id": "51400a1f-3442-4dd9-b78a-18b493f68eb9",
   "metadata": {},
   "outputs": [
    {
     "data": {
      "text/html": [
       "<div>\n",
       "<style scoped>\n",
       "    .dataframe tbody tr th:only-of-type {\n",
       "        vertical-align: middle;\n",
       "    }\n",
       "\n",
       "    .dataframe tbody tr th {\n",
       "        vertical-align: top;\n",
       "    }\n",
       "\n",
       "    .dataframe thead th {\n",
       "        text-align: right;\n",
       "    }\n",
       "</style>\n",
       "<table border=\"1\" class=\"dataframe\">\n",
       "  <thead>\n",
       "    <tr style=\"text-align: right;\">\n",
       "      <th></th>\n",
       "      <th>Temperature (°C)</th>\n",
       "      <th>Humidity (%)</th>\n",
       "      <th>Wind Speed (km/h)</th>\n",
       "      <th>Precipitation (mm)</th>\n",
       "      <th>Pressure (hPa)</th>\n",
       "      <th>Cloud Cover (%)</th>\n",
       "    </tr>\n",
       "  </thead>\n",
       "  <tbody>\n",
       "    <tr>\n",
       "      <th>0</th>\n",
       "      <td>-3.121339</td>\n",
       "      <td>65.591175</td>\n",
       "      <td>55.964033</td>\n",
       "      <td>17.783636</td>\n",
       "      <td>1031.630761</td>\n",
       "      <td>81.796702</td>\n",
       "    </tr>\n",
       "    <tr>\n",
       "      <th>1</th>\n",
       "      <td>1.068098</td>\n",
       "      <td>80.996695</td>\n",
       "      <td>15.524025</td>\n",
       "      <td>35.952295</td>\n",
       "      <td>996.714400</td>\n",
       "      <td>83.213418</td>\n",
       "    </tr>\n",
       "    <tr>\n",
       "      <th>2</th>\n",
       "      <td>-2.769338</td>\n",
       "      <td>90.141251</td>\n",
       "      <td>18.192813</td>\n",
       "      <td>14.856086</td>\n",
       "      <td>987.733188</td>\n",
       "      <td>50.746773</td>\n",
       "    </tr>\n",
       "    <tr>\n",
       "      <th>3</th>\n",
       "      <td>-1.604484</td>\n",
       "      <td>47.366540</td>\n",
       "      <td>86.178562</td>\n",
       "      <td>28.320232</td>\n",
       "      <td>1004.823551</td>\n",
       "      <td>0.638587</td>\n",
       "    </tr>\n",
       "    <tr>\n",
       "      <th>4</th>\n",
       "      <td>2.829283</td>\n",
       "      <td>85.700584</td>\n",
       "      <td>94.611546</td>\n",
       "      <td>23.802520</td>\n",
       "      <td>1000.106729</td>\n",
       "      <td>28.703813</td>\n",
       "    </tr>\n",
       "  </tbody>\n",
       "</table>\n",
       "</div>"
      ],
      "text/plain": [
       "   Temperature (°C)  Humidity (%)  Wind Speed (km/h)  Precipitation (mm)  \\\n",
       "0         -3.121339     65.591175          55.964033           17.783636   \n",
       "1          1.068098     80.996695          15.524025           35.952295   \n",
       "2         -2.769338     90.141251          18.192813           14.856086   \n",
       "3         -1.604484     47.366540          86.178562           28.320232   \n",
       "4          2.829283     85.700584          94.611546           23.802520   \n",
       "\n",
       "   Pressure (hPa)  Cloud Cover (%)  \n",
       "0     1031.630761        81.796702  \n",
       "1      996.714400        83.213418  \n",
       "2      987.733188        50.746773  \n",
       "3     1004.823551         0.638587  \n",
       "4     1000.106729        28.703813  "
      ]
     },
     "execution_count": 3,
     "metadata": {},
     "output_type": "execute_result"
    }
   ],
   "source": [
    "df.head()"
   ]
  },
  {
   "cell_type": "code",
   "execution_count": 4,
   "id": "d8ca1e7c-f6ab-4370-91e4-9b09ab1f6d91",
   "metadata": {},
   "outputs": [
    {
     "data": {
      "text/html": [
       "<div>\n",
       "<style scoped>\n",
       "    .dataframe tbody tr th:only-of-type {\n",
       "        vertical-align: middle;\n",
       "    }\n",
       "\n",
       "    .dataframe tbody tr th {\n",
       "        vertical-align: top;\n",
       "    }\n",
       "\n",
       "    .dataframe thead th {\n",
       "        text-align: right;\n",
       "    }\n",
       "</style>\n",
       "<table border=\"1\" class=\"dataframe\">\n",
       "  <thead>\n",
       "    <tr style=\"text-align: right;\">\n",
       "      <th></th>\n",
       "      <th>Temperature (°C)</th>\n",
       "      <th>Humidity (%)</th>\n",
       "      <th>Wind Speed (km/h)</th>\n",
       "      <th>Precipitation (mm)</th>\n",
       "      <th>Pressure (hPa)</th>\n",
       "      <th>Cloud Cover (%)</th>\n",
       "    </tr>\n",
       "  </thead>\n",
       "  <tbody>\n",
       "    <tr>\n",
       "      <th>95</th>\n",
       "      <td>-3.174630</td>\n",
       "      <td>82.042209</td>\n",
       "      <td>8.279867</td>\n",
       "      <td>43.683856</td>\n",
       "      <td>1037.807173</td>\n",
       "      <td>26.899340</td>\n",
       "    </tr>\n",
       "    <tr>\n",
       "      <th>96</th>\n",
       "      <td>4.027493</td>\n",
       "      <td>56.263107</td>\n",
       "      <td>60.315211</td>\n",
       "      <td>49.204173</td>\n",
       "      <td>989.020891</td>\n",
       "      <td>79.755910</td>\n",
       "    </tr>\n",
       "    <tr>\n",
       "      <th>97</th>\n",
       "      <td>1.182011</td>\n",
       "      <td>61.951222</td>\n",
       "      <td>24.534911</td>\n",
       "      <td>38.413671</td>\n",
       "      <td>1003.458320</td>\n",
       "      <td>31.036196</td>\n",
       "    </tr>\n",
       "    <tr>\n",
       "      <th>98</th>\n",
       "      <td>23.477583</td>\n",
       "      <td>55.261020</td>\n",
       "      <td>38.929561</td>\n",
       "      <td>20.888339</td>\n",
       "      <td>1032.045578</td>\n",
       "      <td>45.522015</td>\n",
       "    </tr>\n",
       "    <tr>\n",
       "      <th>99</th>\n",
       "      <td>-8.491040</td>\n",
       "      <td>52.061045</td>\n",
       "      <td>28.869374</td>\n",
       "      <td>21.067850</td>\n",
       "      <td>991.253193</td>\n",
       "      <td>1.162054</td>\n",
       "    </tr>\n",
       "  </tbody>\n",
       "</table>\n",
       "</div>"
      ],
      "text/plain": [
       "    Temperature (°C)  Humidity (%)  Wind Speed (km/h)  Precipitation (mm)  \\\n",
       "95         -3.174630     82.042209           8.279867           43.683856   \n",
       "96          4.027493     56.263107          60.315211           49.204173   \n",
       "97          1.182011     61.951222          24.534911           38.413671   \n",
       "98         23.477583     55.261020          38.929561           20.888339   \n",
       "99         -8.491040     52.061045          28.869374           21.067850   \n",
       "\n",
       "    Pressure (hPa)  Cloud Cover (%)  \n",
       "95     1037.807173        26.899340  \n",
       "96      989.020891        79.755910  \n",
       "97     1003.458320        31.036196  \n",
       "98     1032.045578        45.522015  \n",
       "99      991.253193         1.162054  "
      ]
     },
     "execution_count": 4,
     "metadata": {},
     "output_type": "execute_result"
    }
   ],
   "source": [
    "df.tail()"
   ]
  },
  {
   "cell_type": "code",
   "execution_count": 5,
   "id": "0ed7009b-591e-490c-8033-08f76626402f",
   "metadata": {},
   "outputs": [
    {
     "data": {
      "text/html": [
       "<div>\n",
       "<style scoped>\n",
       "    .dataframe tbody tr th:only-of-type {\n",
       "        vertical-align: middle;\n",
       "    }\n",
       "\n",
       "    .dataframe tbody tr th {\n",
       "        vertical-align: top;\n",
       "    }\n",
       "\n",
       "    .dataframe thead th {\n",
       "        text-align: right;\n",
       "    }\n",
       "</style>\n",
       "<table border=\"1\" class=\"dataframe\">\n",
       "  <thead>\n",
       "    <tr style=\"text-align: right;\">\n",
       "      <th></th>\n",
       "      <th>Temperature (°C)</th>\n",
       "      <th>Humidity (%)</th>\n",
       "      <th>Wind Speed (km/h)</th>\n",
       "      <th>Precipitation (mm)</th>\n",
       "      <th>Pressure (hPa)</th>\n",
       "      <th>Cloud Cover (%)</th>\n",
       "    </tr>\n",
       "  </thead>\n",
       "  <tbody>\n",
       "    <tr>\n",
       "      <th>count</th>\n",
       "      <td>100.000000</td>\n",
       "      <td>100.000000</td>\n",
       "      <td>100.000000</td>\n",
       "      <td>100.000000</td>\n",
       "      <td>100.000000</td>\n",
       "      <td>100.000000</td>\n",
       "    </tr>\n",
       "    <tr>\n",
       "      <th>mean</th>\n",
       "      <td>11.907121</td>\n",
       "      <td>60.364605</td>\n",
       "      <td>44.577065</td>\n",
       "      <td>27.038184</td>\n",
       "      <td>1016.592154</td>\n",
       "      <td>51.211275</td>\n",
       "    </tr>\n",
       "    <tr>\n",
       "      <th>std</th>\n",
       "      <td>12.861701</td>\n",
       "      <td>22.762158</td>\n",
       "      <td>28.974903</td>\n",
       "      <td>14.818234</td>\n",
       "      <td>20.943099</td>\n",
       "      <td>30.223707</td>\n",
       "    </tr>\n",
       "    <tr>\n",
       "      <th>min</th>\n",
       "      <td>-8.491040</td>\n",
       "      <td>20.370562</td>\n",
       "      <td>1.099583</td>\n",
       "      <td>1.063471</td>\n",
       "      <td>981.251175</td>\n",
       "      <td>0.638587</td>\n",
       "    </tr>\n",
       "    <tr>\n",
       "      <th>25%</th>\n",
       "      <td>0.793721</td>\n",
       "      <td>39.692971</td>\n",
       "      <td>19.922025</td>\n",
       "      <td>14.864609</td>\n",
       "      <td>996.199486</td>\n",
       "      <td>26.669595</td>\n",
       "    </tr>\n",
       "    <tr>\n",
       "      <th>50%</th>\n",
       "      <td>11.020759</td>\n",
       "      <td>60.323348</td>\n",
       "      <td>40.907291</td>\n",
       "      <td>28.954397</td>\n",
       "      <td>1019.080627</td>\n",
       "      <td>52.372656</td>\n",
       "    </tr>\n",
       "    <tr>\n",
       "      <th>75%</th>\n",
       "      <td>23.784380</td>\n",
       "      <td>78.936679</td>\n",
       "      <td>66.579879</td>\n",
       "      <td>39.947070</td>\n",
       "      <td>1036.031397</td>\n",
       "      <td>77.053602</td>\n",
       "    </tr>\n",
       "    <tr>\n",
       "      <th>max</th>\n",
       "      <td>34.548210</td>\n",
       "      <td>99.749940</td>\n",
       "      <td>98.440218</td>\n",
       "      <td>49.896706</td>\n",
       "      <td>1049.643548</td>\n",
       "      <td>99.712450</td>\n",
       "    </tr>\n",
       "  </tbody>\n",
       "</table>\n",
       "</div>"
      ],
      "text/plain": [
       "       Temperature (°C)  Humidity (%)  Wind Speed (km/h)  Precipitation (mm)  \\\n",
       "count        100.000000    100.000000         100.000000          100.000000   \n",
       "mean          11.907121     60.364605          44.577065           27.038184   \n",
       "std           12.861701     22.762158          28.974903           14.818234   \n",
       "min           -8.491040     20.370562           1.099583            1.063471   \n",
       "25%            0.793721     39.692971          19.922025           14.864609   \n",
       "50%           11.020759     60.323348          40.907291           28.954397   \n",
       "75%           23.784380     78.936679          66.579879           39.947070   \n",
       "max           34.548210     99.749940          98.440218           49.896706   \n",
       "\n",
       "       Pressure (hPa)  Cloud Cover (%)  \n",
       "count      100.000000       100.000000  \n",
       "mean      1016.592154        51.211275  \n",
       "std         20.943099        30.223707  \n",
       "min        981.251175         0.638587  \n",
       "25%        996.199486        26.669595  \n",
       "50%       1019.080627        52.372656  \n",
       "75%       1036.031397        77.053602  \n",
       "max       1049.643548        99.712450  "
      ]
     },
     "execution_count": 5,
     "metadata": {},
     "output_type": "execute_result"
    }
   ],
   "source": [
    "df.describe()"
   ]
  },
  {
   "cell_type": "code",
   "execution_count": 6,
   "id": "2b6b37ce-a3bf-4edd-b831-5fdc1b4e5cd0",
   "metadata": {},
   "outputs": [
    {
     "name": "stdout",
     "output_type": "stream",
     "text": [
      "<class 'pandas.core.frame.DataFrame'>\n",
      "RangeIndex: 100 entries, 0 to 99\n",
      "Data columns (total 6 columns):\n",
      " #   Column              Non-Null Count  Dtype  \n",
      "---  ------              --------------  -----  \n",
      " 0   Temperature (°C)    100 non-null    float64\n",
      " 1   Humidity (%)        100 non-null    float64\n",
      " 2   Wind Speed (km/h)   100 non-null    float64\n",
      " 3   Precipitation (mm)  100 non-null    float64\n",
      " 4   Pressure (hPa)      100 non-null    float64\n",
      " 5   Cloud Cover (%)     100 non-null    float64\n",
      "dtypes: float64(6)\n",
      "memory usage: 4.8 KB\n"
     ]
    }
   ],
   "source": [
    "df.info()"
   ]
  },
  {
   "cell_type": "code",
   "execution_count": 7,
   "id": "79567754-4232-4ab4-b101-e755741b435d",
   "metadata": {},
   "outputs": [
    {
     "data": {
      "text/plain": [
       "Index(['Temperature (°C)', 'Humidity (%)', 'Wind Speed (km/h)',\n",
       "       'Precipitation (mm)', 'Pressure (hPa)', 'Cloud Cover (%)'],\n",
       "      dtype='object')"
      ]
     },
     "execution_count": 7,
     "metadata": {},
     "output_type": "execute_result"
    }
   ],
   "source": [
    "df.columns"
   ]
  },
  {
   "cell_type": "code",
   "execution_count": 8,
   "id": "02b86212-8586-455d-9fa2-120402ec68dd",
   "metadata": {},
   "outputs": [
    {
     "data": {
      "text/html": [
       "<div>\n",
       "<style scoped>\n",
       "    .dataframe tbody tr th:only-of-type {\n",
       "        vertical-align: middle;\n",
       "    }\n",
       "\n",
       "    .dataframe tbody tr th {\n",
       "        vertical-align: top;\n",
       "    }\n",
       "\n",
       "    .dataframe thead th {\n",
       "        text-align: right;\n",
       "    }\n",
       "</style>\n",
       "<table border=\"1\" class=\"dataframe\">\n",
       "  <thead>\n",
       "    <tr style=\"text-align: right;\">\n",
       "      <th></th>\n",
       "      <th>Temperature (°C)</th>\n",
       "      <th>Humidity (%)</th>\n",
       "      <th>Wind Speed (km/h)</th>\n",
       "      <th>Precipitation (mm)</th>\n",
       "      <th>Pressure (hPa)</th>\n",
       "      <th>Cloud Cover (%)</th>\n",
       "    </tr>\n",
       "  </thead>\n",
       "  <tbody>\n",
       "    <tr>\n",
       "      <th>Temperature (°C)</th>\n",
       "      <td>1.000000</td>\n",
       "      <td>0.120998</td>\n",
       "      <td>0.064404</td>\n",
       "      <td>-0.101643</td>\n",
       "      <td>0.105068</td>\n",
       "      <td>0.076855</td>\n",
       "    </tr>\n",
       "    <tr>\n",
       "      <th>Humidity (%)</th>\n",
       "      <td>0.120998</td>\n",
       "      <td>1.000000</td>\n",
       "      <td>-0.078453</td>\n",
       "      <td>-0.062211</td>\n",
       "      <td>0.041149</td>\n",
       "      <td>0.229048</td>\n",
       "    </tr>\n",
       "    <tr>\n",
       "      <th>Wind Speed (km/h)</th>\n",
       "      <td>0.064404</td>\n",
       "      <td>-0.078453</td>\n",
       "      <td>1.000000</td>\n",
       "      <td>0.180373</td>\n",
       "      <td>-0.051158</td>\n",
       "      <td>-0.063052</td>\n",
       "    </tr>\n",
       "    <tr>\n",
       "      <th>Precipitation (mm)</th>\n",
       "      <td>-0.101643</td>\n",
       "      <td>-0.062211</td>\n",
       "      <td>0.180373</td>\n",
       "      <td>1.000000</td>\n",
       "      <td>-0.033397</td>\n",
       "      <td>0.027618</td>\n",
       "    </tr>\n",
       "    <tr>\n",
       "      <th>Pressure (hPa)</th>\n",
       "      <td>0.105068</td>\n",
       "      <td>0.041149</td>\n",
       "      <td>-0.051158</td>\n",
       "      <td>-0.033397</td>\n",
       "      <td>1.000000</td>\n",
       "      <td>-0.026444</td>\n",
       "    </tr>\n",
       "    <tr>\n",
       "      <th>Cloud Cover (%)</th>\n",
       "      <td>0.076855</td>\n",
       "      <td>0.229048</td>\n",
       "      <td>-0.063052</td>\n",
       "      <td>0.027618</td>\n",
       "      <td>-0.026444</td>\n",
       "      <td>1.000000</td>\n",
       "    </tr>\n",
       "  </tbody>\n",
       "</table>\n",
       "</div>"
      ],
      "text/plain": [
       "                    Temperature (°C)  Humidity (%)  Wind Speed (km/h)  \\\n",
       "Temperature (°C)            1.000000      0.120998           0.064404   \n",
       "Humidity (%)                0.120998      1.000000          -0.078453   \n",
       "Wind Speed (km/h)           0.064404     -0.078453           1.000000   \n",
       "Precipitation (mm)         -0.101643     -0.062211           0.180373   \n",
       "Pressure (hPa)              0.105068      0.041149          -0.051158   \n",
       "Cloud Cover (%)             0.076855      0.229048          -0.063052   \n",
       "\n",
       "                    Precipitation (mm)  Pressure (hPa)  Cloud Cover (%)  \n",
       "Temperature (°C)             -0.101643        0.105068         0.076855  \n",
       "Humidity (%)                 -0.062211        0.041149         0.229048  \n",
       "Wind Speed (km/h)             0.180373       -0.051158        -0.063052  \n",
       "Precipitation (mm)            1.000000       -0.033397         0.027618  \n",
       "Pressure (hPa)               -0.033397        1.000000        -0.026444  \n",
       "Cloud Cover (%)               0.027618       -0.026444         1.000000  "
      ]
     },
     "execution_count": 8,
     "metadata": {},
     "output_type": "execute_result"
    }
   ],
   "source": [
    "df.corr()"
   ]
  },
  {
   "cell_type": "code",
   "execution_count": 9,
   "id": "3e9a1ebe-30e6-40fa-8543-aa86f90c852c",
   "metadata": {},
   "outputs": [
    {
     "data": {
      "text/plain": [
       "(100, 6)"
      ]
     },
     "execution_count": 9,
     "metadata": {},
     "output_type": "execute_result"
    }
   ],
   "source": [
    "df.shape"
   ]
  },
  {
   "cell_type": "code",
   "execution_count": 14,
   "id": "c51d55dd-b8a5-48db-9ff8-4b42bea144bb",
   "metadata": {},
   "outputs": [],
   "source": [
    "df.rename(columns={'Temperature (°C)': 'Temp', 'Humidity (%)': 'hum', 'Wind Speed (km/h)': 'wind', 'Precipitation (mm)': 'precipit', 'Pressure (hPa)': 'presure', 'Cloud Cover (%)':'cloud'}, inplace=True)"
   ]
  },
  {
   "cell_type": "code",
   "execution_count": 15,
   "id": "7d1b107e-e808-4f1c-89e5-87a67d4914f6",
   "metadata": {},
   "outputs": [
    {
     "data": {
      "text/html": [
       "<div>\n",
       "<style scoped>\n",
       "    .dataframe tbody tr th:only-of-type {\n",
       "        vertical-align: middle;\n",
       "    }\n",
       "\n",
       "    .dataframe tbody tr th {\n",
       "        vertical-align: top;\n",
       "    }\n",
       "\n",
       "    .dataframe thead th {\n",
       "        text-align: right;\n",
       "    }\n",
       "</style>\n",
       "<table border=\"1\" class=\"dataframe\">\n",
       "  <thead>\n",
       "    <tr style=\"text-align: right;\">\n",
       "      <th></th>\n",
       "      <th>Temp</th>\n",
       "      <th>hum</th>\n",
       "      <th>wind</th>\n",
       "      <th>precipit</th>\n",
       "      <th>presure</th>\n",
       "      <th>cloud</th>\n",
       "    </tr>\n",
       "  </thead>\n",
       "  <tbody>\n",
       "    <tr>\n",
       "      <th>0</th>\n",
       "      <td>-3.121339</td>\n",
       "      <td>65.591175</td>\n",
       "      <td>55.964033</td>\n",
       "      <td>17.783636</td>\n",
       "      <td>1031.630761</td>\n",
       "      <td>81.796702</td>\n",
       "    </tr>\n",
       "    <tr>\n",
       "      <th>1</th>\n",
       "      <td>1.068098</td>\n",
       "      <td>80.996695</td>\n",
       "      <td>15.524025</td>\n",
       "      <td>35.952295</td>\n",
       "      <td>996.714400</td>\n",
       "      <td>83.213418</td>\n",
       "    </tr>\n",
       "    <tr>\n",
       "      <th>2</th>\n",
       "      <td>-2.769338</td>\n",
       "      <td>90.141251</td>\n",
       "      <td>18.192813</td>\n",
       "      <td>14.856086</td>\n",
       "      <td>987.733188</td>\n",
       "      <td>50.746773</td>\n",
       "    </tr>\n",
       "    <tr>\n",
       "      <th>3</th>\n",
       "      <td>-1.604484</td>\n",
       "      <td>47.366540</td>\n",
       "      <td>86.178562</td>\n",
       "      <td>28.320232</td>\n",
       "      <td>1004.823551</td>\n",
       "      <td>0.638587</td>\n",
       "    </tr>\n",
       "    <tr>\n",
       "      <th>4</th>\n",
       "      <td>2.829283</td>\n",
       "      <td>85.700584</td>\n",
       "      <td>94.611546</td>\n",
       "      <td>23.802520</td>\n",
       "      <td>1000.106729</td>\n",
       "      <td>28.703813</td>\n",
       "    </tr>\n",
       "    <tr>\n",
       "      <th>...</th>\n",
       "      <td>...</td>\n",
       "      <td>...</td>\n",
       "      <td>...</td>\n",
       "      <td>...</td>\n",
       "      <td>...</td>\n",
       "      <td>...</td>\n",
       "    </tr>\n",
       "    <tr>\n",
       "      <th>95</th>\n",
       "      <td>-3.174630</td>\n",
       "      <td>82.042209</td>\n",
       "      <td>8.279867</td>\n",
       "      <td>43.683856</td>\n",
       "      <td>1037.807173</td>\n",
       "      <td>26.899340</td>\n",
       "    </tr>\n",
       "    <tr>\n",
       "      <th>96</th>\n",
       "      <td>4.027493</td>\n",
       "      <td>56.263107</td>\n",
       "      <td>60.315211</td>\n",
       "      <td>49.204173</td>\n",
       "      <td>989.020891</td>\n",
       "      <td>79.755910</td>\n",
       "    </tr>\n",
       "    <tr>\n",
       "      <th>97</th>\n",
       "      <td>1.182011</td>\n",
       "      <td>61.951222</td>\n",
       "      <td>24.534911</td>\n",
       "      <td>38.413671</td>\n",
       "      <td>1003.458320</td>\n",
       "      <td>31.036196</td>\n",
       "    </tr>\n",
       "    <tr>\n",
       "      <th>98</th>\n",
       "      <td>23.477583</td>\n",
       "      <td>55.261020</td>\n",
       "      <td>38.929561</td>\n",
       "      <td>20.888339</td>\n",
       "      <td>1032.045578</td>\n",
       "      <td>45.522015</td>\n",
       "    </tr>\n",
       "    <tr>\n",
       "      <th>99</th>\n",
       "      <td>-8.491040</td>\n",
       "      <td>52.061045</td>\n",
       "      <td>28.869374</td>\n",
       "      <td>21.067850</td>\n",
       "      <td>991.253193</td>\n",
       "      <td>1.162054</td>\n",
       "    </tr>\n",
       "  </tbody>\n",
       "</table>\n",
       "<p>100 rows × 6 columns</p>\n",
       "</div>"
      ],
      "text/plain": [
       "         Temp        hum       wind   precipit      presure      cloud\n",
       "0   -3.121339  65.591175  55.964033  17.783636  1031.630761  81.796702\n",
       "1    1.068098  80.996695  15.524025  35.952295   996.714400  83.213418\n",
       "2   -2.769338  90.141251  18.192813  14.856086   987.733188  50.746773\n",
       "3   -1.604484  47.366540  86.178562  28.320232  1004.823551   0.638587\n",
       "4    2.829283  85.700584  94.611546  23.802520  1000.106729  28.703813\n",
       "..        ...        ...        ...        ...          ...        ...\n",
       "95  -3.174630  82.042209   8.279867  43.683856  1037.807173  26.899340\n",
       "96   4.027493  56.263107  60.315211  49.204173   989.020891  79.755910\n",
       "97   1.182011  61.951222  24.534911  38.413671  1003.458320  31.036196\n",
       "98  23.477583  55.261020  38.929561  20.888339  1032.045578  45.522015\n",
       "99  -8.491040  52.061045  28.869374  21.067850   991.253193   1.162054\n",
       "\n",
       "[100 rows x 6 columns]"
      ]
     },
     "execution_count": 15,
     "metadata": {},
     "output_type": "execute_result"
    }
   ],
   "source": [
    "df"
   ]
  },
  {
   "cell_type": "code",
   "execution_count": 17,
   "id": "f8f10bf8-c516-430b-bda2-7707428567c0",
   "metadata": {},
   "outputs": [
    {
     "data": {
      "text/plain": [
       "<seaborn.axisgrid.PairGrid at 0x12decde2c90>"
      ]
     },
     "execution_count": 17,
     "metadata": {},
     "output_type": "execute_result"
    },
    {
     "data": {
      "image/png": "[encoded data removed]",
      "text/plain": [
       "<Figure size 1000x1000 with 20 Axes>"
      ]
     },
     "metadata": {},
     "output_type": "display_data"
    }
   ],
   "source": [
    "sns.pairplot(df[['Temp', 'hum', 'wind', 'presure']])"
   ]
  },
  {
   "cell_type": "code",
   "execution_count": 19,
   "id": "9b188000-5407-463f-94f9-9d7f8815b3bc",
   "metadata": {},
   "outputs": [
    {
     "data": {
      "image/png": "[encoded data removed]",
      "text/plain": [
       "<Figure size 640x480 with 1 Axes>"
      ]
     },
     "metadata": {},
     "output_type": "display_data"
    }
   ],
   "source": [
    "plt.scatter(df.Temp, df.wind, color='green', marker='o', label='Temprature vs Wind speed')\n",
    "\n",
    "plt.xlabel('temprature')\n",
    "plt.ylabel('wind speed')\n",
    "plt.title('tempratur respact a wind speed')\n",
    "plt.legend()\n",
    "plt.show()"
   ]
  },
  {
   "cell_type": "markdown",
   "id": "dc47044a-0787-4aa0-bbb8-051de3b96785",
   "metadata": {},
   "source": [
    "# Preprocessing data"
   ]
  },
  {
   "cell_type": "code",
   "execution_count": 20,
   "id": "756a479b-ed5c-4ce3-a388-75f0700eadb2",
   "metadata": {},
   "outputs": [
    {
     "data": {
      "text/plain": [
       "Temp        0\n",
       "hum         0\n",
       "wind        0\n",
       "precipit    0\n",
       "presure     0\n",
       "cloud       0\n",
       "dtype: int64"
      ]
     },
     "execution_count": 20,
     "metadata": {},
     "output_type": "execute_result"
    }
   ],
   "source": [
    "df.isnull().sum()"
   ]
  },
  {
   "cell_type": "code",
   "execution_count": 21,
   "id": "89e7b4ee-87af-41d9-9c62-43d99564ce42",
   "metadata": {},
   "outputs": [],
   "source": [
    "scalar = StandardScaler()"
   ]
  },
  {
   "cell_type": "code",
   "execution_count": 25,
   "id": "9ea54ea3-3047-4a83-8eaa-b3ee8861560a",
   "metadata": {},
   "outputs": [],
   "source": [
    "df['Temp'] = scalar.fit_transform(df[['Temp']])\n",
    "df['hum'] = scalar.fit_transform(df[['hum']]) \n",
    "df['wind'] = scalar.fit_transform(df[['wind']])  \n",
    "df['precipit'] = scalar.fit_transform(df[['precipit']])   \n",
    "df['presure'] = scalar.fit_transform(df[['presure']])    \n",
    "df['cloud'] = scalar.fit_transform(df[['cloud']])    "
   ]
  },
  {
   "cell_type": "code",
   "execution_count": 26,
   "id": "2f7118a1-d121-41d2-8866-5b17fbe468c0",
   "metadata": {},
   "outputs": [
    {
     "data": {
      "text/html": [
       "<div>\n",
       "<style scoped>\n",
       "    .dataframe tbody tr th:only-of-type {\n",
       "        vertical-align: middle;\n",
       "    }\n",
       "\n",
       "    .dataframe tbody tr th {\n",
       "        vertical-align: top;\n",
       "    }\n",
       "\n",
       "    .dataframe thead th {\n",
       "        text-align: right;\n",
       "    }\n",
       "</style>\n",
       "<table border=\"1\" class=\"dataframe\">\n",
       "  <thead>\n",
       "    <tr style=\"text-align: right;\">\n",
       "      <th></th>\n",
       "      <th>Temp</th>\n",
       "      <th>hum</th>\n",
       "      <th>wind</th>\n",
       "      <th>precipit</th>\n",
       "      <th>presure</th>\n",
       "      <th>cloud</th>\n",
       "    </tr>\n",
       "  </thead>\n",
       "  <tbody>\n",
       "    <tr>\n",
       "      <th>0</th>\n",
       "      <td>-1.174353</td>\n",
       "      <td>0.230773</td>\n",
       "      <td>0.394974</td>\n",
       "      <td>-0.627684</td>\n",
       "      <td>0.721687</td>\n",
       "      <td>1.017066</td>\n",
       "    </tr>\n",
       "    <tr>\n",
       "      <th>1</th>\n",
       "      <td>-0.846982</td>\n",
       "      <td>0.910987</td>\n",
       "      <td>-1.007748</td>\n",
       "      <td>0.604594</td>\n",
       "      <td>-0.953913</td>\n",
       "      <td>1.064177</td>\n",
       "    </tr>\n",
       "    <tr>\n",
       "      <th>2</th>\n",
       "      <td>-1.146847</td>\n",
       "      <td>1.314755</td>\n",
       "      <td>-0.915177</td>\n",
       "      <td>-0.826244</td>\n",
       "      <td>-1.384912</td>\n",
       "      <td>-0.015446</td>\n",
       "    </tr>\n",
       "    <tr>\n",
       "      <th>3</th>\n",
       "      <td>-1.055823</td>\n",
       "      <td>-0.573915</td>\n",
       "      <td>1.443010</td>\n",
       "      <td>0.086954</td>\n",
       "      <td>-0.564763</td>\n",
       "      <td>-1.681708</td>\n",
       "    </tr>\n",
       "    <tr>\n",
       "      <th>4</th>\n",
       "      <td>-0.709360</td>\n",
       "      <td>1.118682</td>\n",
       "      <td>1.735521</td>\n",
       "      <td>-0.219457</td>\n",
       "      <td>-0.791119</td>\n",
       "      <td>-0.748447</td>\n",
       "    </tr>\n",
       "    <tr>\n",
       "      <th>...</th>\n",
       "      <td>...</td>\n",
       "      <td>...</td>\n",
       "      <td>...</td>\n",
       "      <td>...</td>\n",
       "      <td>...</td>\n",
       "      <td>...</td>\n",
       "    </tr>\n",
       "    <tr>\n",
       "      <th>95</th>\n",
       "      <td>-1.178517</td>\n",
       "      <td>0.957151</td>\n",
       "      <td>-1.259023</td>\n",
       "      <td>1.128983</td>\n",
       "      <td>1.018087</td>\n",
       "      <td>-0.808452</td>\n",
       "    </tr>\n",
       "    <tr>\n",
       "      <th>96</th>\n",
       "      <td>-0.615729</td>\n",
       "      <td>-0.181097</td>\n",
       "      <td>0.545901</td>\n",
       "      <td>1.503395</td>\n",
       "      <td>-1.323117</td>\n",
       "      <td>0.949203</td>\n",
       "    </tr>\n",
       "    <tr>\n",
       "      <th>97</th>\n",
       "      <td>-0.838081</td>\n",
       "      <td>0.070055</td>\n",
       "      <td>-0.695192</td>\n",
       "      <td>0.771536</td>\n",
       "      <td>-0.630279</td>\n",
       "      <td>-0.670888</td>\n",
       "    </tr>\n",
       "    <tr>\n",
       "      <th>98</th>\n",
       "      <td>0.904138</td>\n",
       "      <td>-0.225343</td>\n",
       "      <td>-0.195892</td>\n",
       "      <td>-0.417110</td>\n",
       "      <td>0.741594</td>\n",
       "      <td>-0.189187</td>\n",
       "    </tr>\n",
       "    <tr>\n",
       "      <th>99</th>\n",
       "      <td>-1.593951</td>\n",
       "      <td>-0.366634</td>\n",
       "      <td>-0.544845</td>\n",
       "      <td>-0.404934</td>\n",
       "      <td>-1.215991</td>\n",
       "      <td>-1.664301</td>\n",
       "    </tr>\n",
       "  </tbody>\n",
       "</table>\n",
       "<p>100 rows × 6 columns</p>\n",
       "</div>"
      ],
      "text/plain": [
       "        Temp       hum      wind  precipit   presure     cloud\n",
       "0  -1.174353  0.230773  0.394974 -0.627684  0.721687  1.017066\n",
       "1  -0.846982  0.910987 -1.007748  0.604594 -0.953913  1.064177\n",
       "2  -1.146847  1.314755 -0.915177 -0.826244 -1.384912 -0.015446\n",
       "3  -1.055823 -0.573915  1.443010  0.086954 -0.564763 -1.681708\n",
       "4  -0.709360  1.118682  1.735521 -0.219457 -0.791119 -0.748447\n",
       "..       ...       ...       ...       ...       ...       ...\n",
       "95 -1.178517  0.957151 -1.259023  1.128983  1.018087 -0.808452\n",
       "96 -0.615729 -0.181097  0.545901  1.503395 -1.323117  0.949203\n",
       "97 -0.838081  0.070055 -0.695192  0.771536 -0.630279 -0.670888\n",
       "98  0.904138 -0.225343 -0.195892 -0.417110  0.741594 -0.189187\n",
       "99 -1.593951 -0.366634 -0.544845 -0.404934 -1.215991 -1.664301\n",
       "\n",
       "[100 rows x 6 columns]"
      ]
     },
     "execution_count": 26,
     "metadata": {},
     "output_type": "execute_result"
    }
   ],
   "source": [
    "df"
   ]
  },
  {
   "cell_type": "code",
   "execution_count": 27,
   "id": "9c33fefe-8442-4e50-b709-8f9dcc58500a",
   "metadata": {},
   "outputs": [
    {
     "data": {
      "text/html": [
       "<div>\n",
       "<style scoped>\n",
       "    .dataframe tbody tr th:only-of-type {\n",
       "        vertical-align: middle;\n",
       "    }\n",
       "\n",
       "    .dataframe tbody tr th {\n",
       "        vertical-align: top;\n",
       "    }\n",
       "\n",
       "    .dataframe thead th {\n",
       "        text-align: right;\n",
       "    }\n",
       "</style>\n",
       "<table border=\"1\" class=\"dataframe\">\n",
       "  <thead>\n",
       "    <tr style=\"text-align: right;\">\n",
       "      <th></th>\n",
       "      <th>Temp</th>\n",
       "      <th>hum</th>\n",
       "      <th>wind</th>\n",
       "      <th>precipit</th>\n",
       "      <th>presure</th>\n",
       "      <th>cloud</th>\n",
       "    </tr>\n",
       "  </thead>\n",
       "  <tbody>\n",
       "    <tr>\n",
       "      <th>count</th>\n",
       "      <td>1.000000e+02</td>\n",
       "      <td>1.000000e+02</td>\n",
       "      <td>1.000000e+02</td>\n",
       "      <td>1.000000e+02</td>\n",
       "      <td>1.000000e+02</td>\n",
       "      <td>1.000000e+02</td>\n",
       "    </tr>\n",
       "    <tr>\n",
       "      <th>mean</th>\n",
       "      <td>-3.330669e-17</td>\n",
       "      <td>-2.892131e-16</td>\n",
       "      <td>2.442491e-17</td>\n",
       "      <td>-4.463097e-16</td>\n",
       "      <td>-2.782219e-15</td>\n",
       "      <td>-2.042810e-16</td>\n",
       "    </tr>\n",
       "    <tr>\n",
       "      <th>std</th>\n",
       "      <td>1.005038e+00</td>\n",
       "      <td>1.005038e+00</td>\n",
       "      <td>1.005038e+00</td>\n",
       "      <td>1.005038e+00</td>\n",
       "      <td>1.005038e+00</td>\n",
       "      <td>1.005038e+00</td>\n",
       "    </tr>\n",
       "    <tr>\n",
       "      <th>min</th>\n",
       "      <td>-1.593951e+00</td>\n",
       "      <td>-1.765893e+00</td>\n",
       "      <td>-1.508081e+00</td>\n",
       "      <td>-1.761719e+00</td>\n",
       "      <td>-1.695977e+00</td>\n",
       "      <td>-1.681708e+00</td>\n",
       "    </tr>\n",
       "    <tr>\n",
       "      <th>25%</th>\n",
       "      <td>-8.684223e-01</td>\n",
       "      <td>-9.127330e-01</td>\n",
       "      <td>-8.551969e-01</td>\n",
       "      <td>-8.256654e-01</td>\n",
       "      <td>-9.786232e-01</td>\n",
       "      <td>-8.160917e-01</td>\n",
       "    </tr>\n",
       "    <tr>\n",
       "      <th>50%</th>\n",
       "      <td>-6.926202e-02</td>\n",
       "      <td>-1.821655e-03</td>\n",
       "      <td>-1.272916e-01</td>\n",
       "      <td>1.299660e-01</td>\n",
       "      <td>1.194193e-01</td>\n",
       "      <td>3.861973e-02</td>\n",
       "    </tr>\n",
       "    <tr>\n",
       "      <th>75%</th>\n",
       "      <td>9.281116e-01</td>\n",
       "      <td>8.200293e-01</td>\n",
       "      <td>7.632005e-01</td>\n",
       "      <td>8.755374e-01</td>\n",
       "      <td>9.328694e-01</td>\n",
       "      <td>8.593425e-01</td>\n",
       "    </tr>\n",
       "    <tr>\n",
       "      <th>max</th>\n",
       "      <td>1.769218e+00</td>\n",
       "      <td>1.739016e+00</td>\n",
       "      <td>1.868324e+00</td>\n",
       "      <td>1.550366e+00</td>\n",
       "      <td>1.586102e+00</td>\n",
       "      <td>1.612824e+00</td>\n",
       "    </tr>\n",
       "  </tbody>\n",
       "</table>\n",
       "</div>"
      ],
      "text/plain": [
       "               Temp           hum          wind      precipit       presure  \\\n",
       "count  1.000000e+02  1.000000e+02  1.000000e+02  1.000000e+02  1.000000e+02   \n",
       "mean  -3.330669e-17 -2.892131e-16  2.442491e-17 -4.463097e-16 -2.782219e-15   \n",
       "std    1.005038e+00  1.005038e+00  1.005038e+00  1.005038e+00  1.005038e+00   \n",
       "min   -1.593951e+00 -1.765893e+00 -1.508081e+00 -1.761719e+00 -1.695977e+00   \n",
       "25%   -8.684223e-01 -9.127330e-01 -8.551969e-01 -8.256654e-01 -9.786232e-01   \n",
       "50%   -6.926202e-02 -1.821655e-03 -1.272916e-01  1.299660e-01  1.194193e-01   \n",
       "75%    9.281116e-01  8.200293e-01  7.632005e-01  8.755374e-01  9.328694e-01   \n",
       "max    1.769218e+00  1.739016e+00  1.868324e+00  1.550366e+00  1.586102e+00   \n",
       "\n",
       "              cloud  \n",
       "count  1.000000e+02  \n",
       "mean  -2.042810e-16  \n",
       "std    1.005038e+00  \n",
       "min   -1.681708e+00  \n",
       "25%   -8.160917e-01  \n",
       "50%    3.861973e-02  \n",
       "75%    8.593425e-01  \n",
       "max    1.612824e+00  "
      ]
     },
     "execution_count": 27,
     "metadata": {},
     "output_type": "execute_result"
    }
   ],
   "source": [
    "df.describe()"
   ]
  },
  {
   "cell_type": "markdown",
   "id": "813d0a75-3ba9-4850-93be-cb348c56c612",
   "metadata": {},
   "source": [
    "# Elbo methods"
   ]
  },
  {
   "cell_type": "code",
   "execution_count": 31,
   "id": "cf10f468-47e8-449a-8a63-2b201cb41df1",
   "metadata": {},
   "outputs": [],
   "source": [
    "wcss = []\n",
    "cluster_range = range(1, 15)\n",
    "\n",
    "for k in cluster_range: \n",
    "    Kmean = KMeans(n_clusters=k, random_state = 42)\n",
    "    Kmean.fit(df[['Temp', 'hum']])\n",
    "    wcss.append(Kmean.inertia_)"
   ]
  },
  {
   "cell_type": "code",
   "execution_count": 32,
   "id": "3c7c5eef-ebd3-4fea-811b-a5f6ead9f601",
   "metadata": {},
   "outputs": [
    {
     "data": {
      "text/plain": [
       "[199.99999999999997,\n",
       " 122.469869495307,\n",
       " 68.06693845059603,\n",
       " 48.03064743591886,\n",
       " 37.60635883009608,\n",
       " 28.932401383933982,\n",
       " 25.54070063988007,\n",
       " 22.66221748593248,\n",
       " 17.642409218053825,\n",
       " 16.42318015573118,\n",
       " 13.481768963248388,\n",
       " 12.294898368243896,\n",
       " 10.889406494778193,\n",
       " 10.209643284144098]"
      ]
     },
     "execution_count": 32,
     "metadata": {},
     "output_type": "execute_result"
    }
   ],
   "source": [
    "wcss"
   ]
  },
  {
   "cell_type": "code",
   "execution_count": 33,
   "id": "aa8b2c54-8e32-43df-bc96-aac84a1aa335",
   "metadata": {},
   "outputs": [
    {
     "data": {
      "image/png": "[encoded data removed]",
      "text/plain": [
       "<Figure size 600x600 with 1 Axes>"
      ]
     },
     "metadata": {},
     "output_type": "display_data"
    }
   ],
   "source": [
    "kl = kn(cluster_range, wcss, curve='convex', direction='decreasing')\n",
    "kl.plot_knee()\n"
   ]
  },
  {
   "cell_type": "code",
   "execution_count": 34,
   "id": "6b14d7bb-35ef-4e52-b96b-e7118ba8c5f8",
   "metadata": {},
   "outputs": [
    {
     "data": {
      "text/plain": [
       "4"
      ]
     },
     "execution_count": 34,
     "metadata": {},
     "output_type": "execute_result"
    }
   ],
   "source": [
    "kl.knee"
   ]
  },
  {
   "cell_type": "code",
   "execution_count": 35,
   "id": "b574fcd6-581b-4326-918d-37f156cb121a",
   "metadata": {},
   "outputs": [],
   "source": [
    "kmeans = KMeans(n_clusters=4)"
   ]
  },
  {
   "cell_type": "code",
   "execution_count": 36,
   "id": "ae0cfda3-7b5c-4b6a-bd68-d86fb145c1cf",
   "metadata": {},
   "outputs": [],
   "source": [
    "df['cluster'] = kmeans.fit_predict(df[['Temp', 'hum']])"
   ]
  },
  {
   "cell_type": "code",
   "execution_count": 37,
   "id": "9a704e36-5cca-47cf-be8c-e976a9242c90",
   "metadata": {},
   "outputs": [
    {
     "data": {
      "text/html": [
       "<div>\n",
       "<style scoped>\n",
       "    .dataframe tbody tr th:only-of-type {\n",
       "        vertical-align: middle;\n",
       "    }\n",
       "\n",
       "    .dataframe tbody tr th {\n",
       "        vertical-align: top;\n",
       "    }\n",
       "\n",
       "    .dataframe thead th {\n",
       "        text-align: right;\n",
       "    }\n",
       "</style>\n",
       "<table border=\"1\" class=\"dataframe\">\n",
       "  <thead>\n",
       "    <tr style=\"text-align: right;\">\n",
       "      <th></th>\n",
       "      <th>Temp</th>\n",
       "      <th>hum</th>\n",
       "      <th>wind</th>\n",
       "      <th>precipit</th>\n",
       "      <th>presure</th>\n",
       "      <th>cloud</th>\n",
       "      <th>cluster</th>\n",
       "    </tr>\n",
       "  </thead>\n",
       "  <tbody>\n",
       "    <tr>\n",
       "      <th>0</th>\n",
       "      <td>-1.174353</td>\n",
       "      <td>0.230773</td>\n",
       "      <td>0.394974</td>\n",
       "      <td>-0.627684</td>\n",
       "      <td>0.721687</td>\n",
       "      <td>1.017066</td>\n",
       "      <td>0</td>\n",
       "    </tr>\n",
       "    <tr>\n",
       "      <th>1</th>\n",
       "      <td>-0.846982</td>\n",
       "      <td>0.910987</td>\n",
       "      <td>-1.007748</td>\n",
       "      <td>0.604594</td>\n",
       "      <td>-0.953913</td>\n",
       "      <td>1.064177</td>\n",
       "      <td>0</td>\n",
       "    </tr>\n",
       "    <tr>\n",
       "      <th>2</th>\n",
       "      <td>-1.146847</td>\n",
       "      <td>1.314755</td>\n",
       "      <td>-0.915177</td>\n",
       "      <td>-0.826244</td>\n",
       "      <td>-1.384912</td>\n",
       "      <td>-0.015446</td>\n",
       "      <td>2</td>\n",
       "    </tr>\n",
       "    <tr>\n",
       "      <th>3</th>\n",
       "      <td>-1.055823</td>\n",
       "      <td>-0.573915</td>\n",
       "      <td>1.443010</td>\n",
       "      <td>0.086954</td>\n",
       "      <td>-0.564763</td>\n",
       "      <td>-1.681708</td>\n",
       "      <td>3</td>\n",
       "    </tr>\n",
       "    <tr>\n",
       "      <th>4</th>\n",
       "      <td>-0.709360</td>\n",
       "      <td>1.118682</td>\n",
       "      <td>1.735521</td>\n",
       "      <td>-0.219457</td>\n",
       "      <td>-0.791119</td>\n",
       "      <td>-0.748447</td>\n",
       "      <td>2</td>\n",
       "    </tr>\n",
       "  </tbody>\n",
       "</table>\n",
       "</div>"
      ],
      "text/plain": [
       "       Temp       hum      wind  precipit   presure     cloud  cluster\n",
       "0 -1.174353  0.230773  0.394974 -0.627684  0.721687  1.017066        0\n",
       "1 -0.846982  0.910987 -1.007748  0.604594 -0.953913  1.064177        0\n",
       "2 -1.146847  1.314755 -0.915177 -0.826244 -1.384912 -0.015446        2\n",
       "3 -1.055823 -0.573915  1.443010  0.086954 -0.564763 -1.681708        3\n",
       "4 -0.709360  1.118682  1.735521 -0.219457 -0.791119 -0.748447        2"
      ]
     },
     "execution_count": 37,
     "metadata": {},
     "output_type": "execute_result"
    }
   ],
   "source": [
    "df.head()"
   ]
  },
  {
   "cell_type": "markdown",
   "id": "076832c8-1480-4c06-8a9e-8c4533ca4679",
   "metadata": {},
   "source": [
    "# Calculate centroid value."
   ]
  },
  {
   "cell_type": "code",
   "execution_count": 38,
   "id": "b0e1afb7-0a7e-46af-ace8-570a0f92b1ba",
   "metadata": {},
   "outputs": [],
   "source": [
    "Centroid = kmeans.cluster_centers_"
   ]
  },
  {
   "cell_type": "code",
   "execution_count": 39,
   "id": "0d1c3302-68ea-4bb7-873c-8e76e25d7672",
   "metadata": {},
   "outputs": [
    {
     "data": {
      "text/plain": [
       "array([[-0.80998446,  0.21712503],\n",
       "       [ 1.06468414, -0.20009581],\n",
       "       [-0.07505822,  1.35854195],\n",
       "       [-0.90155944, -1.24298488]])"
      ]
     },
     "execution_count": 39,
     "metadata": {},
     "output_type": "execute_result"
    }
   ],
   "source": [
    "Centroid"
   ]
  },
  {
   "cell_type": "code",
   "execution_count": 40,
   "id": "eab884c5-5b54-4fac-aa70-41783306ea69",
   "metadata": {},
   "outputs": [],
   "source": [
    "df0 = df[df.cluster==0]\n",
    "df1 = df[df.cluster==1] \n",
    "df2 = df[df.cluster==2]  \n",
    "df3 = df[df.cluster==3]   "
   ]
  },
  {
   "cell_type": "code",
   "execution_count": 48,
   "id": "a69037e1-568d-4b99-a64a-5b8116046cb8",
   "metadata": {},
   "outputs": [
    {
     "data": {
      "text/plain": [
       "<matplotlib.legend.Legend at 0x12df30fa9d0>"
      ]
     },
     "execution_count": 48,
     "metadata": {},
     "output_type": "execute_result"
    },
    {
     "data": {
      "image/png": "[encoded data removed]",
      "text/plain": [
       "<Figure size 1000x800 with 1 Axes>"
      ]
     },
     "metadata": {},
     "output_type": "display_data"
    }
   ],
   "source": [
    "plt.figure(figsize=(10, 8))\n",
    "plt.scatter(df0.Temp, df0.hum, color='red', marker='o', label='cluster0')\n",
    "plt.scatter(df1.Temp, df1.hum, color='green', marker='o', label='cluster1') \n",
    "plt.scatter(df2.Temp, df2.hum, color='pink', marker='o', label='cluster2')  \n",
    "plt.scatter(df3.Temp, df3.hum, color='blue', marker='o', label='cluster3')  \n",
    "\n",
    "plt.scatter(Centroid[:,0], Centroid[:,1], s=200, marker='X', cmap='red', label='Centroid')\n",
    "\n",
    "plt.xlabel('Temprature')\n",
    "plt.ylabel('Humidity')\n",
    "plt.title('Temprature vs Humidity')\n",
    "plt.legend()"
   ]
  },
  {
   "cell_type": "code",
   "execution_count": null,
   "id": "2cee127c-f0a1-4dfa-8091-e1f63b2bddc7",
   "metadata": {},
   "outputs": [],
   "source": []
  }
 ],
 "metadata": {
  "kernelspec": {
   "display_name": "Python 3 (ipykernel)",
   "language": "python",
   "name": "python3"
  },
  "language_info": {
   "codemirror_mode": {
    "name": "ipython",
    "version": 3
   },
   "file_extension": ".py",
   "mimetype": "text/x-python",
   "name": "python",
   "nbconvert_exporter": "python",
   "pygments_lexer": "ipython3",
   "version": "3.11.8"
  }
 },
 "nbformat": 4,
 "nbformat_minor": 5
}

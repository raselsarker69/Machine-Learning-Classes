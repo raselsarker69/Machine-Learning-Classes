{
  "cells": [
    {
      "cell_type": "code",
      "execution_count": null,
      "id": "76101b17",
      "metadata": {
        "id": "76101b17"
      },
      "outputs": [],
      "source": [
        "li = [100, 200, 150, 300,180]"
      ]
    },
    {
      "cell_type": "code",
      "execution_count": null,
      "id": "93897bfb",
      "metadata": {
        "id": "93897bfb",
        "outputId": "a817f524-1600-4b42-ecea-1ebe48aa7290"
      },
      "outputs": [
        {
          "data": {
            "text/plain": [
              "[100, 200, 150, 300, 180]"
            ]
          },
          "execution_count": 2,
          "metadata": {},
          "output_type": "execute_result"
        }
      ],
      "source": [
        "li"
      ]
    },
    {
      "cell_type": "code",
      "execution_count": null,
      "id": "624134d9",
      "metadata": {
        "id": "624134d9",
        "outputId": "bb60495d-d798-4c7f-9971-062eb367ed11"
      },
      "outputs": [
        {
          "data": {
            "text/html": [
              "<div>\n",
              "<style scoped>\n",
              "    .dataframe tbody tr th:only-of-type {\n",
              "        vertical-align: middle;\n",
              "    }\n",
              "\n",
              "    .dataframe tbody tr th {\n",
              "        vertical-align: top;\n",
              "    }\n",
              "\n",
              "    .dataframe thead th {\n",
              "        text-align: right;\n",
              "    }\n",
              "</style>\n",
              "<table border=\"1\" class=\"dataframe\">\n",
              "  <thead>\n",
              "    <tr style=\"text-align: right;\">\n",
              "      <th></th>\n",
              "      <th>cost</th>\n",
              "    </tr>\n",
              "  </thead>\n",
              "  <tbody>\n",
              "    <tr>\n",
              "      <th>0</th>\n",
              "      <td>100</td>\n",
              "    </tr>\n",
              "    <tr>\n",
              "      <th>1</th>\n",
              "      <td>200</td>\n",
              "    </tr>\n",
              "    <tr>\n",
              "      <th>2</th>\n",
              "      <td>150</td>\n",
              "    </tr>\n",
              "    <tr>\n",
              "      <th>3</th>\n",
              "      <td>300</td>\n",
              "    </tr>\n",
              "    <tr>\n",
              "      <th>4</th>\n",
              "      <td>180</td>\n",
              "    </tr>\n",
              "  </tbody>\n",
              "</table>\n",
              "</div>"
            ],
            "text/plain": [
              "   cost\n",
              "0   100\n",
              "1   200\n",
              "2   150\n",
              "3   300\n",
              "4   180"
            ]
          },
          "execution_count": 3,
          "metadata": {},
          "output_type": "execute_result"
        }
      ],
      "source": [
        "import pandas as pd\n",
        "df = pd.DataFrame(li, columns=['cost'])\n",
        "df"
      ]
    },
    {
      "cell_type": "markdown",
      "id": "fc56e6d0",
      "metadata": {
        "id": "fc56e6d0"
      },
      "source": [
        "# Techniques to perform Feature Transformation:"
      ]
    },
    {
      "cell_type": "markdown",
      "id": "762fb428",
      "metadata": {
        "id": "762fb428"
      },
      "source": [
        "1. Normalization <br>\n",
        "2. Standardization <br>\n",
        "3. Log Transformation <br>\n",
        "4. Robust Scaler <br>\n",
        "5. Max Absolute Scaler\n"
      ]
    },
    {
      "cell_type": "markdown",
      "id": "2b1490b3",
      "metadata": {
        "id": "2b1490b3"
      },
      "source": [
        "# Normalization / min max scaler"
      ]
    },
    {
      "cell_type": "code",
      "execution_count": null,
      "id": "c2d9050c",
      "metadata": {
        "id": "c2d9050c"
      },
      "outputs": [],
      "source": [
        "min_cost = df.cost.min()\n",
        "max_cost = df.cost.max()"
      ]
    },
    {
      "cell_type": "code",
      "execution_count": null,
      "id": "074d3469",
      "metadata": {
        "id": "074d3469",
        "outputId": "8d5bbd75-eba4-4b17-e948-6c682859b4f8"
      },
      "outputs": [
        {
          "data": {
            "text/plain": [
              "100"
            ]
          },
          "execution_count": 5,
          "metadata": {},
          "output_type": "execute_result"
        }
      ],
      "source": [
        "min_cost"
      ]
    },
    {
      "cell_type": "code",
      "execution_count": null,
      "id": "9d988841",
      "metadata": {
        "id": "9d988841",
        "outputId": "a39ed5d4-58cb-48d5-927e-129aa476b884"
      },
      "outputs": [
        {
          "data": {
            "text/plain": [
              "300"
            ]
          },
          "execution_count": 6,
          "metadata": {},
          "output_type": "execute_result"
        }
      ],
      "source": [
        "max_cost"
      ]
    },
    {
      "cell_type": "code",
      "execution_count": null,
      "id": "1845e3b3",
      "metadata": {
        "id": "1845e3b3"
      },
      "outputs": [],
      "source": [
        "df['cost_norm_manual'] = (df.cost - min_cost ) / (max_cost - min_cost)"
      ]
    },
    {
      "cell_type": "code",
      "execution_count": null,
      "id": "ed856fca",
      "metadata": {
        "id": "ed856fca",
        "outputId": "9a483312-dab2-4efa-937b-f615e613b585"
      },
      "outputs": [
        {
          "data": {
            "text/html": [
              "<div>\n",
              "<style scoped>\n",
              "    .dataframe tbody tr th:only-of-type {\n",
              "        vertical-align: middle;\n",
              "    }\n",
              "\n",
              "    .dataframe tbody tr th {\n",
              "        vertical-align: top;\n",
              "    }\n",
              "\n",
              "    .dataframe thead th {\n",
              "        text-align: right;\n",
              "    }\n",
              "</style>\n",
              "<table border=\"1\" class=\"dataframe\">\n",
              "  <thead>\n",
              "    <tr style=\"text-align: right;\">\n",
              "      <th></th>\n",
              "      <th>cost</th>\n",
              "      <th>cost_norm_manual</th>\n",
              "    </tr>\n",
              "  </thead>\n",
              "  <tbody>\n",
              "    <tr>\n",
              "      <th>0</th>\n",
              "      <td>100</td>\n",
              "      <td>0.00</td>\n",
              "    </tr>\n",
              "    <tr>\n",
              "      <th>1</th>\n",
              "      <td>200</td>\n",
              "      <td>0.50</td>\n",
              "    </tr>\n",
              "    <tr>\n",
              "      <th>2</th>\n",
              "      <td>150</td>\n",
              "      <td>0.25</td>\n",
              "    </tr>\n",
              "    <tr>\n",
              "      <th>3</th>\n",
              "      <td>300</td>\n",
              "      <td>1.00</td>\n",
              "    </tr>\n",
              "    <tr>\n",
              "      <th>4</th>\n",
              "      <td>180</td>\n",
              "      <td>0.40</td>\n",
              "    </tr>\n",
              "  </tbody>\n",
              "</table>\n",
              "</div>"
            ],
            "text/plain": [
              "   cost  cost_norm_manual\n",
              "0   100              0.00\n",
              "1   200              0.50\n",
              "2   150              0.25\n",
              "3   300              1.00\n",
              "4   180              0.40"
            ]
          },
          "execution_count": 8,
          "metadata": {},
          "output_type": "execute_result"
        }
      ],
      "source": [
        "df.head()"
      ]
    },
    {
      "cell_type": "code",
      "execution_count": null,
      "id": "1caf22bc",
      "metadata": {
        "id": "1caf22bc"
      },
      "outputs": [],
      "source": [
        "from sklearn.preprocessing import MinMaxScaler"
      ]
    },
    {
      "cell_type": "code",
      "execution_count": null,
      "id": "722c04a7",
      "metadata": {
        "id": "722c04a7"
      },
      "outputs": [],
      "source": [
        "mmx = MinMaxScaler() #feature_range=(0,1)"
      ]
    },
    {
      "cell_type": "code",
      "execution_count": null,
      "id": "2f8551ac",
      "metadata": {
        "id": "2f8551ac"
      },
      "outputs": [],
      "source": [
        "df['cost_norm_sklearn'] = mmx.fit_transform(df[['cost']])"
      ]
    },
    {
      "cell_type": "code",
      "execution_count": null,
      "id": "29ad25ca",
      "metadata": {
        "id": "29ad25ca",
        "outputId": "f77a67de-602b-4177-9dd6-cf8b1f34cc63"
      },
      "outputs": [
        {
          "data": {
            "text/html": [
              "<div>\n",
              "<style scoped>\n",
              "    .dataframe tbody tr th:only-of-type {\n",
              "        vertical-align: middle;\n",
              "    }\n",
              "\n",
              "    .dataframe tbody tr th {\n",
              "        vertical-align: top;\n",
              "    }\n",
              "\n",
              "    .dataframe thead th {\n",
              "        text-align: right;\n",
              "    }\n",
              "</style>\n",
              "<table border=\"1\" class=\"dataframe\">\n",
              "  <thead>\n",
              "    <tr style=\"text-align: right;\">\n",
              "      <th></th>\n",
              "      <th>cost</th>\n",
              "      <th>cost_norm_manual</th>\n",
              "      <th>cost_norm_sklearn</th>\n",
              "    </tr>\n",
              "  </thead>\n",
              "  <tbody>\n",
              "    <tr>\n",
              "      <th>0</th>\n",
              "      <td>100</td>\n",
              "      <td>0.00</td>\n",
              "      <td>0.00</td>\n",
              "    </tr>\n",
              "    <tr>\n",
              "      <th>1</th>\n",
              "      <td>200</td>\n",
              "      <td>0.50</td>\n",
              "      <td>0.50</td>\n",
              "    </tr>\n",
              "    <tr>\n",
              "      <th>2</th>\n",
              "      <td>150</td>\n",
              "      <td>0.25</td>\n",
              "      <td>0.25</td>\n",
              "    </tr>\n",
              "    <tr>\n",
              "      <th>3</th>\n",
              "      <td>300</td>\n",
              "      <td>1.00</td>\n",
              "      <td>1.00</td>\n",
              "    </tr>\n",
              "    <tr>\n",
              "      <th>4</th>\n",
              "      <td>180</td>\n",
              "      <td>0.40</td>\n",
              "      <td>0.40</td>\n",
              "    </tr>\n",
              "  </tbody>\n",
              "</table>\n",
              "</div>"
            ],
            "text/plain": [
              "   cost  cost_norm_manual  cost_norm_sklearn\n",
              "0   100              0.00               0.00\n",
              "1   200              0.50               0.50\n",
              "2   150              0.25               0.25\n",
              "3   300              1.00               1.00\n",
              "4   180              0.40               0.40"
            ]
          },
          "execution_count": 18,
          "metadata": {},
          "output_type": "execute_result"
        }
      ],
      "source": [
        "df.head()"
      ]
    },
    {
      "cell_type": "markdown",
      "id": "e940d241",
      "metadata": {
        "id": "e940d241"
      },
      "source": [
        "# Standardization / standard scaler"
      ]
    },
    {
      "cell_type": "code",
      "execution_count": null,
      "id": "0b0b9a22",
      "metadata": {
        "id": "0b0b9a22"
      },
      "outputs": [],
      "source": [
        "mean_cost = df.cost.mean()\n",
        "std = df.cost.std()"
      ]
    },
    {
      "cell_type": "code",
      "execution_count": null,
      "id": "c755a776",
      "metadata": {
        "id": "c755a776"
      },
      "outputs": [],
      "source": [
        "df['cost_std_manual'] = (df['cost'] - mean_cost) / std"
      ]
    },
    {
      "cell_type": "code",
      "execution_count": null,
      "id": "b5cd28c9",
      "metadata": {
        "id": "b5cd28c9",
        "outputId": "820ac575-53d2-4fcf-8631-be1fe04c3afc"
      },
      "outputs": [
        {
          "data": {
            "text/html": [
              "<div>\n",
              "<style scoped>\n",
              "    .dataframe tbody tr th:only-of-type {\n",
              "        vertical-align: middle;\n",
              "    }\n",
              "\n",
              "    .dataframe tbody tr th {\n",
              "        vertical-align: top;\n",
              "    }\n",
              "\n",
              "    .dataframe thead th {\n",
              "        text-align: right;\n",
              "    }\n",
              "</style>\n",
              "<table border=\"1\" class=\"dataframe\">\n",
              "  <thead>\n",
              "    <tr style=\"text-align: right;\">\n",
              "      <th></th>\n",
              "      <th>cost</th>\n",
              "      <th>cost_norm_manual</th>\n",
              "      <th>cost_norm_sklearn</th>\n",
              "      <th>cost_std_manual</th>\n",
              "    </tr>\n",
              "  </thead>\n",
              "  <tbody>\n",
              "    <tr>\n",
              "      <th>0</th>\n",
              "      <td>100</td>\n",
              "      <td>0.00</td>\n",
              "      <td>0.00</td>\n",
              "      <td>-1.161738</td>\n",
              "    </tr>\n",
              "    <tr>\n",
              "      <th>1</th>\n",
              "      <td>200</td>\n",
              "      <td>0.50</td>\n",
              "      <td>0.50</td>\n",
              "      <td>0.189120</td>\n",
              "    </tr>\n",
              "    <tr>\n",
              "      <th>2</th>\n",
              "      <td>150</td>\n",
              "      <td>0.25</td>\n",
              "      <td>0.25</td>\n",
              "      <td>-0.486309</td>\n",
              "    </tr>\n",
              "    <tr>\n",
              "      <th>3</th>\n",
              "      <td>300</td>\n",
              "      <td>1.00</td>\n",
              "      <td>1.00</td>\n",
              "      <td>1.539978</td>\n",
              "    </tr>\n",
              "    <tr>\n",
              "      <th>4</th>\n",
              "      <td>180</td>\n",
              "      <td>0.40</td>\n",
              "      <td>0.40</td>\n",
              "      <td>-0.081051</td>\n",
              "    </tr>\n",
              "  </tbody>\n",
              "</table>\n",
              "</div>"
            ],
            "text/plain": [
              "   cost  cost_norm_manual  cost_norm_sklearn  cost_std_manual\n",
              "0   100              0.00               0.00        -1.161738\n",
              "1   200              0.50               0.50         0.189120\n",
              "2   150              0.25               0.25        -0.486309\n",
              "3   300              1.00               1.00         1.539978\n",
              "4   180              0.40               0.40        -0.081051"
            ]
          },
          "execution_count": 21,
          "metadata": {},
          "output_type": "execute_result"
        }
      ],
      "source": [
        "df.head()"
      ]
    },
    {
      "cell_type": "markdown",
      "id": "44f332c5",
      "metadata": {
        "id": "44f332c5"
      },
      "source": [
        "std2  =df['cost_std_manual'] = (df['cost'] - mean_cost) / std\n",
        "#std2"
      ]
    },
    {
      "cell_type": "code",
      "execution_count": null,
      "id": "279acad1",
      "metadata": {
        "id": "279acad1"
      },
      "outputs": [],
      "source": [
        "from sklearn.preprocessing import StandardScaler\n",
        "scaler = StandardScaler()"
      ]
    },
    {
      "cell_type": "code",
      "execution_count": null,
      "id": "e504b654",
      "metadata": {
        "id": "e504b654"
      },
      "outputs": [],
      "source": [
        "#df['cost'] = scaler.fit_transform(df[['cost']])\n",
        "df['cost_std_sklearn'] = scaler.fit_transform(df[['cost']])"
      ]
    },
    {
      "cell_type": "code",
      "execution_count": null,
      "id": "49dbb3d8",
      "metadata": {
        "id": "49dbb3d8",
        "outputId": "87959aa0-ec94-4fa1-96ed-2bbc020a97cc"
      },
      "outputs": [
        {
          "data": {
            "text/html": [
              "<div>\n",
              "<style scoped>\n",
              "    .dataframe tbody tr th:only-of-type {\n",
              "        vertical-align: middle;\n",
              "    }\n",
              "\n",
              "    .dataframe tbody tr th {\n",
              "        vertical-align: top;\n",
              "    }\n",
              "\n",
              "    .dataframe thead th {\n",
              "        text-align: right;\n",
              "    }\n",
              "</style>\n",
              "<table border=\"1\" class=\"dataframe\">\n",
              "  <thead>\n",
              "    <tr style=\"text-align: right;\">\n",
              "      <th></th>\n",
              "      <th>cost</th>\n",
              "      <th>cost_norm_manual</th>\n",
              "      <th>cost_norm_sklearn</th>\n",
              "      <th>cost_std_manual</th>\n",
              "      <th>cost_std_sklearn</th>\n",
              "    </tr>\n",
              "  </thead>\n",
              "  <tbody>\n",
              "    <tr>\n",
              "      <th>0</th>\n",
              "      <td>100</td>\n",
              "      <td>0.00</td>\n",
              "      <td>0.00</td>\n",
              "      <td>-1.161738</td>\n",
              "      <td>-1.298863</td>\n",
              "    </tr>\n",
              "    <tr>\n",
              "      <th>1</th>\n",
              "      <td>200</td>\n",
              "      <td>0.50</td>\n",
              "      <td>0.50</td>\n",
              "      <td>0.189120</td>\n",
              "      <td>0.211443</td>\n",
              "    </tr>\n",
              "    <tr>\n",
              "      <th>2</th>\n",
              "      <td>150</td>\n",
              "      <td>0.25</td>\n",
              "      <td>0.25</td>\n",
              "      <td>-0.486309</td>\n",
              "      <td>-0.543710</td>\n",
              "    </tr>\n",
              "    <tr>\n",
              "      <th>3</th>\n",
              "      <td>300</td>\n",
              "      <td>1.00</td>\n",
              "      <td>1.00</td>\n",
              "      <td>1.539978</td>\n",
              "      <td>1.721748</td>\n",
              "    </tr>\n",
              "    <tr>\n",
              "      <th>4</th>\n",
              "      <td>180</td>\n",
              "      <td>0.40</td>\n",
              "      <td>0.40</td>\n",
              "      <td>-0.081051</td>\n",
              "      <td>-0.090618</td>\n",
              "    </tr>\n",
              "  </tbody>\n",
              "</table>\n",
              "</div>"
            ],
            "text/plain": [
              "   cost  cost_norm_manual  cost_norm_sklearn  cost_std_manual  \\\n",
              "0   100              0.00               0.00        -1.161738   \n",
              "1   200              0.50               0.50         0.189120   \n",
              "2   150              0.25               0.25        -0.486309   \n",
              "3   300              1.00               1.00         1.539978   \n",
              "4   180              0.40               0.40        -0.081051   \n",
              "\n",
              "   cost_std_sklearn  \n",
              "0         -1.298863  \n",
              "1          0.211443  \n",
              "2         -0.543710  \n",
              "3          1.721748  \n",
              "4         -0.090618  "
            ]
          },
          "execution_count": 24,
          "metadata": {},
          "output_type": "execute_result"
        }
      ],
      "source": [
        "df"
      ]
    },
    {
      "cell_type": "code",
      "execution_count": null,
      "id": "2ccb5fbc",
      "metadata": {
        "id": "2ccb5fbc"
      },
      "outputs": [],
      "source": [
        "std_dof = df.cost.std(ddof=0) #Delta Degrees of Freedom (n-0)"
      ]
    },
    {
      "cell_type": "code",
      "execution_count": null,
      "id": "e34a1b42",
      "metadata": {
        "id": "e34a1b42",
        "outputId": "00e913c4-c878-4630-bcfe-6f3a2793afe1"
      },
      "outputs": [
        {
          "data": {
            "text/plain": [
              "66.2117814289874"
            ]
          },
          "execution_count": 26,
          "metadata": {},
          "output_type": "execute_result"
        }
      ],
      "source": [
        "std_dof"
      ]
    },
    {
      "cell_type": "code",
      "execution_count": null,
      "id": "535a97f4",
      "metadata": {
        "id": "535a97f4",
        "outputId": "07b64ea1-34a3-43ec-b094-a4110fe05487"
      },
      "outputs": [
        {
          "data": {
            "text/plain": [
              "74.02702209328699"
            ]
          },
          "execution_count": 27,
          "metadata": {},
          "output_type": "execute_result"
        }
      ],
      "source": [
        "std_dof1 = df.cost.std(ddof=1) #Delta Degrees of Freedom (n-1)\n",
        "std_dof1"
      ]
    },
    {
      "cell_type": "code",
      "execution_count": null,
      "id": "4de81fb5",
      "metadata": {
        "id": "4de81fb5",
        "outputId": "19404c14-9886-46d3-c199-e64a83ea3ba2"
      },
      "outputs": [
        {
          "data": {
            "text/html": [
              "<div>\n",
              "<style scoped>\n",
              "    .dataframe tbody tr th:only-of-type {\n",
              "        vertical-align: middle;\n",
              "    }\n",
              "\n",
              "    .dataframe tbody tr th {\n",
              "        vertical-align: top;\n",
              "    }\n",
              "\n",
              "    .dataframe thead th {\n",
              "        text-align: right;\n",
              "    }\n",
              "</style>\n",
              "<table border=\"1\" class=\"dataframe\">\n",
              "  <thead>\n",
              "    <tr style=\"text-align: right;\">\n",
              "      <th></th>\n",
              "      <th>cost</th>\n",
              "      <th>cost_norm_manual</th>\n",
              "      <th>cost_norm_sklearn</th>\n",
              "      <th>cost_std_manual</th>\n",
              "      <th>cost_std_sklearn</th>\n",
              "    </tr>\n",
              "  </thead>\n",
              "  <tbody>\n",
              "    <tr>\n",
              "      <th>0</th>\n",
              "      <td>100</td>\n",
              "      <td>0.00</td>\n",
              "      <td>0.00</td>\n",
              "      <td>-1.161738</td>\n",
              "      <td>-1.298863</td>\n",
              "    </tr>\n",
              "    <tr>\n",
              "      <th>1</th>\n",
              "      <td>200</td>\n",
              "      <td>0.50</td>\n",
              "      <td>0.50</td>\n",
              "      <td>0.189120</td>\n",
              "      <td>0.211443</td>\n",
              "    </tr>\n",
              "    <tr>\n",
              "      <th>2</th>\n",
              "      <td>150</td>\n",
              "      <td>0.25</td>\n",
              "      <td>0.25</td>\n",
              "      <td>-0.486309</td>\n",
              "      <td>-0.543710</td>\n",
              "    </tr>\n",
              "    <tr>\n",
              "      <th>3</th>\n",
              "      <td>300</td>\n",
              "      <td>1.00</td>\n",
              "      <td>1.00</td>\n",
              "      <td>1.539978</td>\n",
              "      <td>1.721748</td>\n",
              "    </tr>\n",
              "    <tr>\n",
              "      <th>4</th>\n",
              "      <td>180</td>\n",
              "      <td>0.40</td>\n",
              "      <td>0.40</td>\n",
              "      <td>-0.081051</td>\n",
              "      <td>-0.090618</td>\n",
              "    </tr>\n",
              "  </tbody>\n",
              "</table>\n",
              "</div>"
            ],
            "text/plain": [
              "   cost  cost_norm_manual  cost_norm_sklearn  cost_std_manual  \\\n",
              "0   100              0.00               0.00        -1.161738   \n",
              "1   200              0.50               0.50         0.189120   \n",
              "2   150              0.25               0.25        -0.486309   \n",
              "3   300              1.00               1.00         1.539978   \n",
              "4   180              0.40               0.40        -0.081051   \n",
              "\n",
              "   cost_std_sklearn  \n",
              "0         -1.298863  \n",
              "1          0.211443  \n",
              "2         -0.543710  \n",
              "3          1.721748  \n",
              "4         -0.090618  "
            ]
          },
          "execution_count": 28,
          "metadata": {},
          "output_type": "execute_result"
        }
      ],
      "source": [
        "df"
      ]
    },
    {
      "cell_type": "code",
      "execution_count": null,
      "id": "55345811",
      "metadata": {
        "id": "55345811"
      },
      "outputs": [],
      "source": [
        "df['cost_std_manual2'] = (df['cost'] - mean_cost) / std_dof1"
      ]
    },
    {
      "cell_type": "code",
      "execution_count": null,
      "id": "129adabb",
      "metadata": {
        "id": "129adabb",
        "outputId": "abe6ed3f-edf6-47f3-e7ed-df5e3e44d396"
      },
      "outputs": [
        {
          "data": {
            "text/html": [
              "<div>\n",
              "<style scoped>\n",
              "    .dataframe tbody tr th:only-of-type {\n",
              "        vertical-align: middle;\n",
              "    }\n",
              "\n",
              "    .dataframe tbody tr th {\n",
              "        vertical-align: top;\n",
              "    }\n",
              "\n",
              "    .dataframe thead th {\n",
              "        text-align: right;\n",
              "    }\n",
              "</style>\n",
              "<table border=\"1\" class=\"dataframe\">\n",
              "  <thead>\n",
              "    <tr style=\"text-align: right;\">\n",
              "      <th></th>\n",
              "      <th>cost</th>\n",
              "      <th>cost_norm_manual</th>\n",
              "      <th>cost_norm_sklearn</th>\n",
              "      <th>cost_std_manual</th>\n",
              "      <th>cost_std_sklearn</th>\n",
              "      <th>cost_std_manual2</th>\n",
              "    </tr>\n",
              "  </thead>\n",
              "  <tbody>\n",
              "    <tr>\n",
              "      <th>0</th>\n",
              "      <td>100</td>\n",
              "      <td>0.00</td>\n",
              "      <td>0.00</td>\n",
              "      <td>-1.161738</td>\n",
              "      <td>-1.298863</td>\n",
              "      <td>-1.161738</td>\n",
              "    </tr>\n",
              "    <tr>\n",
              "      <th>1</th>\n",
              "      <td>200</td>\n",
              "      <td>0.50</td>\n",
              "      <td>0.50</td>\n",
              "      <td>0.189120</td>\n",
              "      <td>0.211443</td>\n",
              "      <td>0.189120</td>\n",
              "    </tr>\n",
              "    <tr>\n",
              "      <th>2</th>\n",
              "      <td>150</td>\n",
              "      <td>0.25</td>\n",
              "      <td>0.25</td>\n",
              "      <td>-0.486309</td>\n",
              "      <td>-0.543710</td>\n",
              "      <td>-0.486309</td>\n",
              "    </tr>\n",
              "    <tr>\n",
              "      <th>3</th>\n",
              "      <td>300</td>\n",
              "      <td>1.00</td>\n",
              "      <td>1.00</td>\n",
              "      <td>1.539978</td>\n",
              "      <td>1.721748</td>\n",
              "      <td>1.539978</td>\n",
              "    </tr>\n",
              "    <tr>\n",
              "      <th>4</th>\n",
              "      <td>180</td>\n",
              "      <td>0.40</td>\n",
              "      <td>0.40</td>\n",
              "      <td>-0.081051</td>\n",
              "      <td>-0.090618</td>\n",
              "      <td>-0.081051</td>\n",
              "    </tr>\n",
              "  </tbody>\n",
              "</table>\n",
              "</div>"
            ],
            "text/plain": [
              "   cost  cost_norm_manual  cost_norm_sklearn  cost_std_manual  \\\n",
              "0   100              0.00               0.00        -1.161738   \n",
              "1   200              0.50               0.50         0.189120   \n",
              "2   150              0.25               0.25        -0.486309   \n",
              "3   300              1.00               1.00         1.539978   \n",
              "4   180              0.40               0.40        -0.081051   \n",
              "\n",
              "   cost_std_sklearn  cost_std_manual2  \n",
              "0         -1.298863         -1.161738  \n",
              "1          0.211443          0.189120  \n",
              "2         -0.543710         -0.486309  \n",
              "3          1.721748          1.539978  \n",
              "4         -0.090618         -0.081051  "
            ]
          },
          "execution_count": 30,
          "metadata": {},
          "output_type": "execute_result"
        }
      ],
      "source": [
        "df"
      ]
    },
    {
      "cell_type": "code",
      "execution_count": null,
      "id": "d3455540",
      "metadata": {
        "id": "d3455540"
      },
      "outputs": [],
      "source": [
        "df['cost_std_manual3'] = (df['cost'] - mean_cost) / std_dof"
      ]
    },
    {
      "cell_type": "code",
      "execution_count": null,
      "id": "0ec0b717",
      "metadata": {
        "id": "0ec0b717",
        "outputId": "a7d185ee-d63f-4d18-f42b-bed036b19f57"
      },
      "outputs": [
        {
          "data": {
            "text/html": [
              "<div>\n",
              "<style scoped>\n",
              "    .dataframe tbody tr th:only-of-type {\n",
              "        vertical-align: middle;\n",
              "    }\n",
              "\n",
              "    .dataframe tbody tr th {\n",
              "        vertical-align: top;\n",
              "    }\n",
              "\n",
              "    .dataframe thead th {\n",
              "        text-align: right;\n",
              "    }\n",
              "</style>\n",
              "<table border=\"1\" class=\"dataframe\">\n",
              "  <thead>\n",
              "    <tr style=\"text-align: right;\">\n",
              "      <th></th>\n",
              "      <th>cost</th>\n",
              "      <th>cost_norm_manual</th>\n",
              "      <th>cost_norm_sklearn</th>\n",
              "      <th>cost_std_manual</th>\n",
              "      <th>cost_std_sklearn</th>\n",
              "      <th>cost_std_manual2</th>\n",
              "      <th>cost_std_manual3</th>\n",
              "    </tr>\n",
              "  </thead>\n",
              "  <tbody>\n",
              "    <tr>\n",
              "      <th>0</th>\n",
              "      <td>100</td>\n",
              "      <td>0.00</td>\n",
              "      <td>0.00</td>\n",
              "      <td>-1.161738</td>\n",
              "      <td>-1.298863</td>\n",
              "      <td>-1.161738</td>\n",
              "      <td>-1.298863</td>\n",
              "    </tr>\n",
              "    <tr>\n",
              "      <th>1</th>\n",
              "      <td>200</td>\n",
              "      <td>0.50</td>\n",
              "      <td>0.50</td>\n",
              "      <td>0.189120</td>\n",
              "      <td>0.211443</td>\n",
              "      <td>0.189120</td>\n",
              "      <td>0.211443</td>\n",
              "    </tr>\n",
              "    <tr>\n",
              "      <th>2</th>\n",
              "      <td>150</td>\n",
              "      <td>0.25</td>\n",
              "      <td>0.25</td>\n",
              "      <td>-0.486309</td>\n",
              "      <td>-0.543710</td>\n",
              "      <td>-0.486309</td>\n",
              "      <td>-0.543710</td>\n",
              "    </tr>\n",
              "    <tr>\n",
              "      <th>3</th>\n",
              "      <td>300</td>\n",
              "      <td>1.00</td>\n",
              "      <td>1.00</td>\n",
              "      <td>1.539978</td>\n",
              "      <td>1.721748</td>\n",
              "      <td>1.539978</td>\n",
              "      <td>1.721748</td>\n",
              "    </tr>\n",
              "    <tr>\n",
              "      <th>4</th>\n",
              "      <td>180</td>\n",
              "      <td>0.40</td>\n",
              "      <td>0.40</td>\n",
              "      <td>-0.081051</td>\n",
              "      <td>-0.090618</td>\n",
              "      <td>-0.081051</td>\n",
              "      <td>-0.090618</td>\n",
              "    </tr>\n",
              "  </tbody>\n",
              "</table>\n",
              "</div>"
            ],
            "text/plain": [
              "   cost  cost_norm_manual  cost_norm_sklearn  cost_std_manual  \\\n",
              "0   100              0.00               0.00        -1.161738   \n",
              "1   200              0.50               0.50         0.189120   \n",
              "2   150              0.25               0.25        -0.486309   \n",
              "3   300              1.00               1.00         1.539978   \n",
              "4   180              0.40               0.40        -0.081051   \n",
              "\n",
              "   cost_std_sklearn  cost_std_manual2  cost_std_manual3  \n",
              "0         -1.298863         -1.161738         -1.298863  \n",
              "1          0.211443          0.189120          0.211443  \n",
              "2         -0.543710         -0.486309         -0.543710  \n",
              "3          1.721748          1.539978          1.721748  \n",
              "4         -0.090618         -0.081051         -0.090618  "
            ]
          },
          "execution_count": 32,
          "metadata": {},
          "output_type": "execute_result"
        }
      ],
      "source": [
        "df"
      ]
    },
    {
      "cell_type": "markdown",
      "id": "6630a955",
      "metadata": {
        "id": "6630a955"
      },
      "source": [
        "# Log Transformation"
      ]
    },
    {
      "cell_type": "code",
      "execution_count": null,
      "id": "549ac85e",
      "metadata": {
        "id": "549ac85e"
      },
      "outputs": [],
      "source": [
        "from sklearn.preprocessing import FunctionTransformer\n",
        "import numpy as np"
      ]
    },
    {
      "cell_type": "code",
      "execution_count": null,
      "id": "18759057",
      "metadata": {
        "id": "18759057",
        "outputId": "8fbcde0f-5a00-4599-c19e-d0014176bb9c"
      },
      "outputs": [
        {
          "data": {
            "text/html": [
              "<div>\n",
              "<style scoped>\n",
              "    .dataframe tbody tr th:only-of-type {\n",
              "        vertical-align: middle;\n",
              "    }\n",
              "\n",
              "    .dataframe tbody tr th {\n",
              "        vertical-align: top;\n",
              "    }\n",
              "\n",
              "    .dataframe thead th {\n",
              "        text-align: right;\n",
              "    }\n",
              "</style>\n",
              "<table border=\"1\" class=\"dataframe\">\n",
              "  <thead>\n",
              "    <tr style=\"text-align: right;\">\n",
              "      <th></th>\n",
              "      <th>cost</th>\n",
              "      <th>cost_norm_manual</th>\n",
              "      <th>cost_norm_sklearn</th>\n",
              "      <th>cost_std_manual</th>\n",
              "      <th>cost_std_sklearn</th>\n",
              "      <th>cost_std_manual2</th>\n",
              "      <th>cost_std_manual3</th>\n",
              "      <th>cost_fc</th>\n",
              "    </tr>\n",
              "  </thead>\n",
              "  <tbody>\n",
              "    <tr>\n",
              "      <th>0</th>\n",
              "      <td>100</td>\n",
              "      <td>0.00</td>\n",
              "      <td>0.00</td>\n",
              "      <td>-1.161738</td>\n",
              "      <td>-1.298863</td>\n",
              "      <td>-1.161738</td>\n",
              "      <td>-1.298863</td>\n",
              "      <td>4.615121</td>\n",
              "    </tr>\n",
              "    <tr>\n",
              "      <th>1</th>\n",
              "      <td>200</td>\n",
              "      <td>0.50</td>\n",
              "      <td>0.50</td>\n",
              "      <td>0.189120</td>\n",
              "      <td>0.211443</td>\n",
              "      <td>0.189120</td>\n",
              "      <td>0.211443</td>\n",
              "      <td>5.303305</td>\n",
              "    </tr>\n",
              "    <tr>\n",
              "      <th>2</th>\n",
              "      <td>150</td>\n",
              "      <td>0.25</td>\n",
              "      <td>0.25</td>\n",
              "      <td>-0.486309</td>\n",
              "      <td>-0.543710</td>\n",
              "      <td>-0.486309</td>\n",
              "      <td>-0.543710</td>\n",
              "      <td>5.017280</td>\n",
              "    </tr>\n",
              "    <tr>\n",
              "      <th>3</th>\n",
              "      <td>300</td>\n",
              "      <td>1.00</td>\n",
              "      <td>1.00</td>\n",
              "      <td>1.539978</td>\n",
              "      <td>1.721748</td>\n",
              "      <td>1.539978</td>\n",
              "      <td>1.721748</td>\n",
              "      <td>5.707110</td>\n",
              "    </tr>\n",
              "    <tr>\n",
              "      <th>4</th>\n",
              "      <td>180</td>\n",
              "      <td>0.40</td>\n",
              "      <td>0.40</td>\n",
              "      <td>-0.081051</td>\n",
              "      <td>-0.090618</td>\n",
              "      <td>-0.081051</td>\n",
              "      <td>-0.090618</td>\n",
              "      <td>5.198497</td>\n",
              "    </tr>\n",
              "  </tbody>\n",
              "</table>\n",
              "</div>"
            ],
            "text/plain": [
              "   cost  cost_norm_manual  cost_norm_sklearn  cost_std_manual  \\\n",
              "0   100              0.00               0.00        -1.161738   \n",
              "1   200              0.50               0.50         0.189120   \n",
              "2   150              0.25               0.25        -0.486309   \n",
              "3   300              1.00               1.00         1.539978   \n",
              "4   180              0.40               0.40        -0.081051   \n",
              "\n",
              "   cost_std_sklearn  cost_std_manual2  cost_std_manual3   cost_fc  \n",
              "0         -1.298863         -1.161738         -1.298863  4.615121  \n",
              "1          0.211443          0.189120          0.211443  5.303305  \n",
              "2         -0.543710         -0.486309         -0.543710  5.017280  \n",
              "3          1.721748          1.539978          1.721748  5.707110  \n",
              "4         -0.090618         -0.081051         -0.090618  5.198497  "
            ]
          },
          "execution_count": 34,
          "metadata": {},
          "output_type": "execute_result"
        }
      ],
      "source": [
        "fc = FunctionTransformer(np.log1p)\n",
        "df['cost_fc'] = fc.fit_transform(df[['cost']])\n",
        "df"
      ]
    },
    {
      "cell_type": "code",
      "execution_count": null,
      "id": "0c267ee7",
      "metadata": {
        "id": "0c267ee7"
      },
      "outputs": [],
      "source": [
        "df['fc_np'] = np.log1p(df[['cost']]) # Another way"
      ]
    },
    {
      "cell_type": "code",
      "execution_count": null,
      "id": "8790f265",
      "metadata": {
        "id": "8790f265",
        "outputId": "2c81aaf9-dd67-4e52-9828-c05e156d46e7"
      },
      "outputs": [
        {
          "data": {
            "text/html": [
              "<div>\n",
              "<style scoped>\n",
              "    .dataframe tbody tr th:only-of-type {\n",
              "        vertical-align: middle;\n",
              "    }\n",
              "\n",
              "    .dataframe tbody tr th {\n",
              "        vertical-align: top;\n",
              "    }\n",
              "\n",
              "    .dataframe thead th {\n",
              "        text-align: right;\n",
              "    }\n",
              "</style>\n",
              "<table border=\"1\" class=\"dataframe\">\n",
              "  <thead>\n",
              "    <tr style=\"text-align: right;\">\n",
              "      <th></th>\n",
              "      <th>cost</th>\n",
              "      <th>cost_norm_manual</th>\n",
              "      <th>cost_norm_sklearn</th>\n",
              "      <th>cost_std_manual</th>\n",
              "      <th>cost_std_sklearn</th>\n",
              "      <th>cost_std_manual2</th>\n",
              "      <th>cost_std_manual3</th>\n",
              "      <th>cost_fc</th>\n",
              "      <th>fc_np</th>\n",
              "    </tr>\n",
              "  </thead>\n",
              "  <tbody>\n",
              "    <tr>\n",
              "      <th>0</th>\n",
              "      <td>100</td>\n",
              "      <td>0.00</td>\n",
              "      <td>0.00</td>\n",
              "      <td>-1.161738</td>\n",
              "      <td>-1.298863</td>\n",
              "      <td>-1.161738</td>\n",
              "      <td>-1.298863</td>\n",
              "      <td>4.615121</td>\n",
              "      <td>4.615121</td>\n",
              "    </tr>\n",
              "    <tr>\n",
              "      <th>1</th>\n",
              "      <td>200</td>\n",
              "      <td>0.50</td>\n",
              "      <td>0.50</td>\n",
              "      <td>0.189120</td>\n",
              "      <td>0.211443</td>\n",
              "      <td>0.189120</td>\n",
              "      <td>0.211443</td>\n",
              "      <td>5.303305</td>\n",
              "      <td>5.303305</td>\n",
              "    </tr>\n",
              "    <tr>\n",
              "      <th>2</th>\n",
              "      <td>150</td>\n",
              "      <td>0.25</td>\n",
              "      <td>0.25</td>\n",
              "      <td>-0.486309</td>\n",
              "      <td>-0.543710</td>\n",
              "      <td>-0.486309</td>\n",
              "      <td>-0.543710</td>\n",
              "      <td>5.017280</td>\n",
              "      <td>5.017280</td>\n",
              "    </tr>\n",
              "    <tr>\n",
              "      <th>3</th>\n",
              "      <td>300</td>\n",
              "      <td>1.00</td>\n",
              "      <td>1.00</td>\n",
              "      <td>1.539978</td>\n",
              "      <td>1.721748</td>\n",
              "      <td>1.539978</td>\n",
              "      <td>1.721748</td>\n",
              "      <td>5.707110</td>\n",
              "      <td>5.707110</td>\n",
              "    </tr>\n",
              "    <tr>\n",
              "      <th>4</th>\n",
              "      <td>180</td>\n",
              "      <td>0.40</td>\n",
              "      <td>0.40</td>\n",
              "      <td>-0.081051</td>\n",
              "      <td>-0.090618</td>\n",
              "      <td>-0.081051</td>\n",
              "      <td>-0.090618</td>\n",
              "      <td>5.198497</td>\n",
              "      <td>5.198497</td>\n",
              "    </tr>\n",
              "  </tbody>\n",
              "</table>\n",
              "</div>"
            ],
            "text/plain": [
              "   cost  cost_norm_manual  cost_norm_sklearn  cost_std_manual  \\\n",
              "0   100              0.00               0.00        -1.161738   \n",
              "1   200              0.50               0.50         0.189120   \n",
              "2   150              0.25               0.25        -0.486309   \n",
              "3   300              1.00               1.00         1.539978   \n",
              "4   180              0.40               0.40        -0.081051   \n",
              "\n",
              "   cost_std_sklearn  cost_std_manual2  cost_std_manual3   cost_fc     fc_np  \n",
              "0         -1.298863         -1.161738         -1.298863  4.615121  4.615121  \n",
              "1          0.211443          0.189120          0.211443  5.303305  5.303305  \n",
              "2         -0.543710         -0.486309         -0.543710  5.017280  5.017280  \n",
              "3          1.721748          1.539978          1.721748  5.707110  5.707110  \n",
              "4         -0.090618         -0.081051         -0.090618  5.198497  5.198497  "
            ]
          },
          "execution_count": 36,
          "metadata": {},
          "output_type": "execute_result"
        }
      ],
      "source": [
        "df"
      ]
    },
    {
      "cell_type": "markdown",
      "id": "6cb8429a",
      "metadata": {
        "id": "6cb8429a"
      },
      "source": [
        "# Robust Scaler (outliers)"
      ]
    },
    {
      "cell_type": "markdown",
      "id": "dcdb841a",
      "metadata": {
        "id": "dcdb841a"
      },
      "source": [
        "[Robust Scaler](https://scikit-learn.org/stable/modules/generated/sklearn.preprocessing.RobustScaler.html)"
      ]
    },
    {
      "cell_type": "markdown",
      "id": "74039d71",
      "metadata": {
        "id": "74039d71"
      },
      "source": [
        "[View Video](https://youtu.be/U9N-ELpCpc8)"
      ]
    },
    {
      "cell_type": "code",
      "execution_count": null,
      "id": "ab2741ba",
      "metadata": {
        "id": "ab2741ba"
      },
      "outputs": [],
      "source": []
    },
    {
      "cell_type": "code",
      "execution_count": null,
      "id": "b7050ab5",
      "metadata": {
        "id": "b7050ab5"
      },
      "outputs": [],
      "source": []
    },
    {
      "cell_type": "code",
      "execution_count": null,
      "id": "8fd4a8c8",
      "metadata": {
        "id": "8fd4a8c8"
      },
      "outputs": [],
      "source": []
    },
    {
      "cell_type": "markdown",
      "id": "07ad921a",
      "metadata": {
        "id": "07ad921a"
      },
      "source": [
        "# Max Abs Scaler"
      ]
    },
    {
      "cell_type": "code",
      "execution_count": null,
      "id": "6df67c82",
      "metadata": {
        "id": "6df67c82"
      },
      "outputs": [],
      "source": [
        "from sklearn.preprocessing import MaxAbsScaler"
      ]
    },
    {
      "cell_type": "code",
      "execution_count": null,
      "id": "dc9765b8",
      "metadata": {
        "id": "dc9765b8"
      },
      "outputs": [],
      "source": []
    },
    {
      "cell_type": "code",
      "execution_count": null,
      "id": "5ef2b969",
      "metadata": {
        "id": "5ef2b969"
      },
      "outputs": [],
      "source": []
    },
    {
      "cell_type": "code",
      "execution_count": null,
      "id": "846b9fdb",
      "metadata": {
        "id": "846b9fdb"
      },
      "outputs": [],
      "source": []
    },
    {
      "cell_type": "markdown",
      "id": "d8c009f1",
      "metadata": {
        "id": "d8c009f1"
      },
      "source": [
        "# Power Transformer (box cox)"
      ]
    },
    {
      "cell_type": "code",
      "execution_count": null,
      "id": "68e46912",
      "metadata": {
        "id": "68e46912"
      },
      "outputs": [],
      "source": [
        "from scipy.stats import boxcox\n",
        "df['box cox'], _ = boxcox(df['cost'] + 1) #data,param"
      ]
    },
    {
      "cell_type": "code",
      "execution_count": null,
      "id": "25d03713",
      "metadata": {
        "id": "25d03713",
        "outputId": "7d2bc0a4-50c2-4c53-fb00-5a5700831915"
      },
      "outputs": [
        {
          "data": {
            "text/html": [
              "<div>\n",
              "<style scoped>\n",
              "    .dataframe tbody tr th:only-of-type {\n",
              "        vertical-align: middle;\n",
              "    }\n",
              "\n",
              "    .dataframe tbody tr th {\n",
              "        vertical-align: top;\n",
              "    }\n",
              "\n",
              "    .dataframe thead th {\n",
              "        text-align: right;\n",
              "    }\n",
              "</style>\n",
              "<table border=\"1\" class=\"dataframe\">\n",
              "  <thead>\n",
              "    <tr style=\"text-align: right;\">\n",
              "      <th></th>\n",
              "      <th>cost</th>\n",
              "      <th>cost_norm_manual</th>\n",
              "      <th>cost_norm_sklearn</th>\n",
              "      <th>cost_std_manual</th>\n",
              "      <th>cost_std_sklearn</th>\n",
              "      <th>cost_std_manual2</th>\n",
              "      <th>cost_std_manual3</th>\n",
              "      <th>cost_fc</th>\n",
              "      <th>fc_np</th>\n",
              "      <th>box cox</th>\n",
              "    </tr>\n",
              "  </thead>\n",
              "  <tbody>\n",
              "    <tr>\n",
              "      <th>0</th>\n",
              "      <td>100</td>\n",
              "      <td>0.00</td>\n",
              "      <td>0.00</td>\n",
              "      <td>-1.161738</td>\n",
              "      <td>-1.298863</td>\n",
              "      <td>-1.161738</td>\n",
              "      <td>-1.298863</td>\n",
              "      <td>4.615121</td>\n",
              "      <td>4.615121</td>\n",
              "      <td>5.609162</td>\n",
              "    </tr>\n",
              "    <tr>\n",
              "      <th>1</th>\n",
              "      <td>200</td>\n",
              "      <td>0.50</td>\n",
              "      <td>0.50</td>\n",
              "      <td>0.189120</td>\n",
              "      <td>0.211443</td>\n",
              "      <td>0.189120</td>\n",
              "      <td>0.211443</td>\n",
              "      <td>5.303305</td>\n",
              "      <td>5.303305</td>\n",
              "      <td>6.642560</td>\n",
              "    </tr>\n",
              "    <tr>\n",
              "      <th>2</th>\n",
              "      <td>150</td>\n",
              "      <td>0.25</td>\n",
              "      <td>0.25</td>\n",
              "      <td>-0.486309</td>\n",
              "      <td>-0.543710</td>\n",
              "      <td>-0.486309</td>\n",
              "      <td>-0.543710</td>\n",
              "      <td>5.017280</td>\n",
              "      <td>5.017280</td>\n",
              "      <td>6.205968</td>\n",
              "    </tr>\n",
              "    <tr>\n",
              "      <th>3</th>\n",
              "      <td>300</td>\n",
              "      <td>1.00</td>\n",
              "      <td>1.00</td>\n",
              "      <td>1.539978</td>\n",
              "      <td>1.721748</td>\n",
              "      <td>1.539978</td>\n",
              "      <td>1.721748</td>\n",
              "      <td>5.707110</td>\n",
              "      <td>5.707110</td>\n",
              "      <td>7.276620</td>\n",
              "    </tr>\n",
              "    <tr>\n",
              "      <th>4</th>\n",
              "      <td>180</td>\n",
              "      <td>0.40</td>\n",
              "      <td>0.40</td>\n",
              "      <td>-0.081051</td>\n",
              "      <td>-0.090618</td>\n",
              "      <td>-0.081051</td>\n",
              "      <td>-0.090618</td>\n",
              "      <td>5.198497</td>\n",
              "      <td>5.198497</td>\n",
              "      <td>6.481391</td>\n",
              "    </tr>\n",
              "  </tbody>\n",
              "</table>\n",
              "</div>"
            ],
            "text/plain": [
              "   cost  cost_norm_manual  cost_norm_sklearn  cost_std_manual  \\\n",
              "0   100              0.00               0.00        -1.161738   \n",
              "1   200              0.50               0.50         0.189120   \n",
              "2   150              0.25               0.25        -0.486309   \n",
              "3   300              1.00               1.00         1.539978   \n",
              "4   180              0.40               0.40        -0.081051   \n",
              "\n",
              "   cost_std_sklearn  cost_std_manual2  cost_std_manual3   cost_fc     fc_np  \\\n",
              "0         -1.298863         -1.161738         -1.298863  4.615121  4.615121   \n",
              "1          0.211443          0.189120          0.211443  5.303305  5.303305   \n",
              "2         -0.543710         -0.486309         -0.543710  5.017280  5.017280   \n",
              "3          1.721748          1.539978          1.721748  5.707110  5.707110   \n",
              "4         -0.090618         -0.081051         -0.090618  5.198497  5.198497   \n",
              "\n",
              "    box cox  \n",
              "0  5.609162  \n",
              "1  6.642560  \n",
              "2  6.205968  \n",
              "3  7.276620  \n",
              "4  6.481391  "
            ]
          },
          "execution_count": 38,
          "metadata": {},
          "output_type": "execute_result"
        }
      ],
      "source": [
        "df"
      ]
    },
    {
      "cell_type": "code",
      "execution_count": null,
      "id": "3838ce0f",
      "metadata": {
        "id": "3838ce0f"
      },
      "outputs": [],
      "source": [
        "df.cost_std_sklearn.mean()"
      ]
    },
    {
      "cell_type": "code",
      "execution_count": null,
      "id": "16766a4c",
      "metadata": {
        "id": "16766a4c"
      },
      "outputs": [],
      "source": [
        "df.cost_std_sklearn.mean() + 1"
      ]
    },
    {
      "cell_type": "code",
      "execution_count": null,
      "id": "b18b0154",
      "metadata": {
        "id": "b18b0154"
      },
      "outputs": [],
      "source": [
        "df.cost_std_manual2.std()"
      ]
    },
    {
      "cell_type": "code",
      "execution_count": null,
      "id": "cc754136",
      "metadata": {
        "id": "cc754136"
      },
      "outputs": [],
      "source": []
    }
  ],
  "metadata": {
    "kernelspec": {
      "display_name": "Python 3 (ipykernel)",
      "language": "python",
      "name": "python3"
    },
    "language_info": {
      "codemirror_mode": {
        "name": "ipython",
        "version": 3
      },
      "file_extension": ".py",
      "mimetype": "text/x-python",
      "name": "python",
      "nbconvert_exporter": "python",
      "pygments_lexer": "ipython3",
      "version": "3.9.13"
    },
    "colab": {
      "provenance": []
    }
  },
  "nbformat": 4,
  "nbformat_minor": 5
}